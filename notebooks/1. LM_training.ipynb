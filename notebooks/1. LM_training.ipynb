{
 "cells": [
  {
   "cell_type": "markdown",
   "id": "e8adb5e1-a1ed-4e95-82cf-a6d6afdea4f4",
   "metadata": {},
   "source": [
    "# **0. Setting up dependencies**"
   ]
  },
  {
   "cell_type": "code",
   "execution_count": 1,
   "id": "5c090fd4-3eb2-483c-9fe0-7eac57031640",
   "metadata": {},
   "outputs": [
    {
     "name": "stdout",
     "output_type": "stream",
     "text": [
      "Sat Aug 10 15:21:33 2024       \n",
      "+-----------------------------------------------------------------------------------------+\n",
      "| NVIDIA-SMI 555.99                 Driver Version: 555.99         CUDA Version: 12.5     |\n",
      "|-----------------------------------------+------------------------+----------------------+\n",
      "| GPU  Name                  Driver-Model | Bus-Id          Disp.A | Volatile Uncorr. ECC |\n",
      "| Fan  Temp   Perf          Pwr:Usage/Cap |           Memory-Usage | GPU-Util  Compute M. |\n",
      "|                                         |                        |               MIG M. |\n",
      "|=========================================+========================+======================|\n",
      "|   0  NVIDIA GeForce RTX 3060      WDDM  |   00000000:01:00.0  On |                  N/A |\n",
      "|  0%   46C    P8             16W /  170W |     754MiB /  12288MiB |      0%      Default |\n",
      "|                                         |                        |                  N/A |\n",
      "+-----------------------------------------+------------------------+----------------------+\n",
      "                                                                                         \n",
      "+-----------------------------------------------------------------------------------------+\n",
      "| Processes:                                                                              |\n",
      "|  GPU   GI   CI        PID   Type   Process name                              GPU Memory |\n",
      "|        ID   ID                                                               Usage      |\n",
      "|=========================================================================================|\n",
      "|    0   N/A  N/A      1684    C+G   ...5n1h2txyewy\\ShellExperienceHost.exe      N/A      |\n",
      "|    0   N/A  N/A      2476    C+G   ...64__8wekyb3d8bbwe\\CalculatorApp.exe      N/A      |\n",
      "|    0   N/A  N/A      3384    C+G   ...m Files\\Mozilla Firefox\\firefox.exe      N/A      |\n",
      "|    0   N/A  N/A      3392    C+G   ...b3d8bbwe\\Microsoft.Media.Player.exe      N/A      |\n",
      "|    0   N/A  N/A      6164    C+G   ...1.0_x64__8wekyb3d8bbwe\\Video.UI.exe      N/A      |\n",
      "|    0   N/A  N/A      7576    C+G   ...2txyewy\\StartMenuExperienceHost.exe      N/A      |\n",
      "|    0   N/A  N/A      7632    C+G   C:\\Windows\\explorer.exe                     N/A      |\n",
      "|    0   N/A  N/A      8600    C+G   ...les\\Microsoft OneDrive\\OneDrive.exe      N/A      |\n",
      "|    0   N/A  N/A      9340    C+G   ...siveControlPanel\\SystemSettings.exe      N/A      |\n",
      "|    0   N/A  N/A      9704    C+G   ....Search_cw5n1h2txyewy\\SearchApp.exe      N/A      |\n",
      "|    0   N/A  N/A     10968    C+G   C:\\KMPlayer\\KMPlayer.exe                    N/A      |\n",
      "|    0   N/A  N/A     11708    C+G   ...CBS_cw5n1h2txyewy\\TextInputHost.exe      N/A      |\n",
      "|    0   N/A  N/A     12372    C+G   ...m Files\\Mozilla Firefox\\firefox.exe      N/A      |\n",
      "|    0   N/A  N/A     13032    C+G   ...AppData\\Roaming\\Spotify\\Spotify.exe      N/A      |\n",
      "|    0   N/A  N/A     13836    C+G   ...a\\Local\\slack\\app-4.39.95\\slack.exe      N/A      |\n",
      "+-----------------------------------------------------------------------------------------+\n"
     ]
    }
   ],
   "source": [
    "!nvidia-smi"
   ]
  },
  {
   "cell_type": "code",
   "execution_count": 2,
   "id": "1b0e4505-4d76-4c16-ab31-9b6eb81b5065",
   "metadata": {},
   "outputs": [
    {
     "name": "stdout",
     "output_type": "stream",
     "text": [
      "CUDA available: True\n",
      "Number of GPUs available: 1\n",
      "GPU 0: NVIDIA GeForce RTX 3060\n",
      "Current GPU device: 0\n",
      "Current GPU device name: NVIDIA GeForce RTX 3060\n"
     ]
    }
   ],
   "source": [
    "import torch\n",
    "cuda_available = torch.cuda.is_available()\n",
    "print(f\"CUDA available: {cuda_available}\")\n",
    "\n",
    "if cuda_available:\n",
    "    num_gpus = torch.cuda.device_count()\n",
    "    print(f\"Number of GPUs available: {num_gpus}\")\n",
    "    \n",
    "    for i in range(num_gpus):\n",
    "        print(f\"GPU {i}: {torch.cuda.get_device_name(i)}\")\n",
    "    \n",
    "    current_device = torch.cuda.current_device()\n",
    "    print(f\"Current GPU device: {current_device}\")\n",
    "    print(f\"Current GPU device name: {torch.cuda.get_device_name(current_device)}\")\n",
    "else:\n",
    "    print(\"No CUDA-enabled GPU detected.\")"
   ]
  },
  {
   "cell_type": "code",
   "execution_count": null,
   "id": "d953d6e8-d0b7-49ee-98f4-326397d69719",
   "metadata": {},
   "outputs": [],
   "source": []
  },
  {
   "cell_type": "markdown",
   "id": "7026f7c5-00d1-428d-939a-bfcd43a601db",
   "metadata": {},
   "source": [
    "**Install and Import dependencies**"
   ]
  },
  {
   "cell_type": "code",
   "execution_count": 3,
   "id": "3c4fef7e-8f7a-4990-bd66-42cac73f9b33",
   "metadata": {},
   "outputs": [
    {
     "name": "stdout",
     "output_type": "stream",
     "text": [
      "Requirement already satisfied: fastai in c:\\users\\md. rezuwan hasan\\anaconda3\\envs\\nlp_project_modeling\\lib\\site-packages (2.7.16)\n"
     ]
    },
    {
     "name": "stderr",
     "output_type": "stream",
     "text": [
      "ERROR: Could not find a version that satisfies the requirement sentencepiec (from versions: none)\n",
      "ERROR: No matching distribution found for sentencepiec\n"
     ]
    }
   ],
   "source": [
    "!pip install -Uqq fastai nbdev fastbook\n",
    "!pip install --upgrade fastai sentencepiec"
   ]
  },
  {
   "cell_type": "code",
   "execution_count": 4,
   "id": "5c4be866-c9f5-4b66-ad56-a42633ded546",
   "metadata": {},
   "outputs": [],
   "source": [
    "import pandas as pd\n",
    "import numpy as np\n",
    "import matplotlib.pyplot as plt\n",
    "import string\n",
    "\n",
    "from fastai.text.all import *"
   ]
  },
  {
   "cell_type": "code",
   "execution_count": null,
   "id": "e0240ddd-1461-468c-8930-2febbf18d06d",
   "metadata": {},
   "outputs": [],
   "source": []
  },
  {
   "cell_type": "markdown",
   "id": "e3d844d4-0088-4aaa-b21e-562ea4ae02b8",
   "metadata": {},
   "source": [
    "# **1. Importing data**"
   ]
  },
  {
   "cell_type": "code",
   "execution_count": 5,
   "id": "675eda0b-c0a2-41d0-ad96-9473629329e4",
   "metadata": {},
   "outputs": [
    {
     "data": {
      "text/html": [
       "<div>\n",
       "<style scoped>\n",
       "    .dataframe tbody tr th:only-of-type {\n",
       "        vertical-align: middle;\n",
       "    }\n",
       "\n",
       "    .dataframe tbody tr th {\n",
       "        vertical-align: top;\n",
       "    }\n",
       "\n",
       "    .dataframe thead th {\n",
       "        text-align: right;\n",
       "    }\n",
       "</style>\n",
       "<table border=\"1\" class=\"dataframe\">\n",
       "  <thead>\n",
       "    <tr style=\"text-align: right;\">\n",
       "      <th></th>\n",
       "      <th>Title</th>\n",
       "      <th>Category</th>\n",
       "      <th>Url</th>\n",
       "      <th>Metascore</th>\n",
       "      <th>Number_of_critic_reviewers</th>\n",
       "      <th>User_score</th>\n",
       "      <th>Number_of_user_reviewers</th>\n",
       "      <th>Plot_summary</th>\n",
       "      <th>Genres</th>\n",
       "    </tr>\n",
       "  </thead>\n",
       "  <tbody>\n",
       "    <tr>\n",
       "      <th>0</th>\n",
       "      <td>Dekalog (1988)</td>\n",
       "      <td>movie</td>\n",
       "      <td>https://www.metacritic.com/movie/dekalog-1988/</td>\n",
       "      <td>100</td>\n",
       "      <td>13</td>\n",
       "      <td>100</td>\n",
       "      <td>112</td>\n",
       "      <td>This masterwork by Krzysztof Kieślowski is one of the twentieth century’s greatest achievements in visual storytelling. Originally made for Polish television, Dekalog focuses on the residents of a housing complex in late-Communist Poland, whose lives become subtly intertwined as they face emotional dilemmas that are at once deeply person...</td>\n",
       "      <td>['Drama']</td>\n",
       "    </tr>\n",
       "    <tr>\n",
       "      <th>1</th>\n",
       "      <td>The Godfather</td>\n",
       "      <td>movie</td>\n",
       "      <td>https://www.metacritic.com/movie/the-godfather/</td>\n",
       "      <td>100</td>\n",
       "      <td>16</td>\n",
       "      <td>100</td>\n",
       "      <td>4082</td>\n",
       "      <td>Francis Ford Coppola's epic features Marlon Brando in his Oscar-winning role as the patriarch of the Corleone family. Director Coppola paints a chilling portrait of the Sicilian clan's rise and near fall from power in America, masterfully balancing the story between the Corleone's family life and the ugly crime business in which they are...</td>\n",
       "      <td>['Crime', 'Drama']</td>\n",
       "    </tr>\n",
       "    <tr>\n",
       "      <th>2</th>\n",
       "      <td>Lawrence of Arabia (re-release)</td>\n",
       "      <td>movie</td>\n",
       "      <td>https://www.metacritic.com/movie/lawrence-of-arabia-re-release/</td>\n",
       "      <td>100</td>\n",
       "      <td>8</td>\n",
       "      <td>100</td>\n",
       "      <td>442</td>\n",
       "      <td>The 40th anniversary re-release of David Lean's 1962 masterpiece, starring Peter O'Toole in one of the most electrifying debuts in film history.</td>\n",
       "      <td>['Adventure', 'Biography', 'Drama', 'War']</td>\n",
       "    </tr>\n",
       "    <tr>\n",
       "      <th>3</th>\n",
       "      <td>The Leopard (re-release)</td>\n",
       "      <td>movie</td>\n",
       "      <td>https://www.metacritic.com/movie/the-leopard-re-release/</td>\n",
       "      <td>100</td>\n",
       "      <td>12</td>\n",
       "      <td>100</td>\n",
       "      <td>84</td>\n",
       "      <td>Set in Sicily in 1860, Luchino Visconti's spectacular 1963 adaptation of Giuseppe di Lampedusa's international bestseller is one of the cinema's greatest evocations of the past, achingly depicting the passing of an ancient order. (Film Forum)</td>\n",
       "      <td>['Drama', 'History']</td>\n",
       "    </tr>\n",
       "    <tr>\n",
       "      <th>4</th>\n",
       "      <td>The Conformist</td>\n",
       "      <td>movie</td>\n",
       "      <td>https://www.metacritic.com/movie/the-conformist-re-release/</td>\n",
       "      <td>100</td>\n",
       "      <td>11</td>\n",
       "      <td>100</td>\n",
       "      <td>105</td>\n",
       "      <td>Set in Rome in the 1930s, this re-release of Bernardo Bertolucci's 1970 breakthrough feature stars Jean-Louis Trintignant as a Mussolini operative sent to Paris to locate and eliminate an old professor who fled Italy when the fascists came to power.</td>\n",
       "      <td>['Drama']</td>\n",
       "    </tr>\n",
       "    <tr>\n",
       "      <th>...</th>\n",
       "      <td>...</td>\n",
       "      <td>...</td>\n",
       "      <td>...</td>\n",
       "      <td>...</td>\n",
       "      <td>...</td>\n",
       "      <td>...</td>\n",
       "      <td>...</td>\n",
       "      <td>...</td>\n",
       "      <td>...</td>\n",
       "    </tr>\n",
       "    <tr>\n",
       "      <th>15149</th>\n",
       "      <td>Cavemen</td>\n",
       "      <td>tv</td>\n",
       "      <td>https://www.metacritic.com/tv/cavemen/</td>\n",
       "      <td>19</td>\n",
       "      <td>13</td>\n",
       "      <td>19</td>\n",
       "      <td>6</td>\n",
       "      <td>Cavemen revolves around Joel, his younger brother Andy and best friend Nick. Joel is engaged to Kate. Even though he has some problems with her conservative parents accepting him, he is happy with his life and pursuing the American Dream. The pilot is based on the Geico commercials that claim their service is so easy, \"Even a caveman can...</td>\n",
       "      <td>['Comedy', 'Sci-Fi']</td>\n",
       "    </tr>\n",
       "    <tr>\n",
       "      <th>15150</th>\n",
       "      <td>Work It</td>\n",
       "      <td>tv</td>\n",
       "      <td>https://www.metacritic.com/tv/work-it/</td>\n",
       "      <td>19</td>\n",
       "      <td>22</td>\n",
       "      <td>19</td>\n",
       "      <td>44</td>\n",
       "      <td>After they are laid off, Lee Standish (Ben Koldyke) and Angel Ortiz (Amaury Nolasco) dress up as women to get new jobs as pharmaceutical sales wo(men).</td>\n",
       "      <td>['Comedy']</td>\n",
       "    </tr>\n",
       "    <tr>\n",
       "      <th>15151</th>\n",
       "      <td>Category 7: The End of the World</td>\n",
       "      <td>tv</td>\n",
       "      <td>https://www.metacritic.com/tv/category-7-the-end-of-the-world/</td>\n",
       "      <td>18</td>\n",
       "      <td>11</td>\n",
       "      <td>18</td>\n",
       "      <td>7</td>\n",
       "      <td>\"Category 7: The End of the World\" picks up where \"Category 6: Day of Destruction\" left off. The city of Chicago has been destroyed by a monstrous storm and as the storm gathers strength, it threatens to ravage the rest of the world. A television evangelist and his wife prey on the nation’s fears by broadcasting warnings of biblical pl...</td>\n",
       "      <td>['Action', 'Adventure', 'Drama', 'Sci-Fi', 'Thriller']</td>\n",
       "    </tr>\n",
       "    <tr>\n",
       "      <th>15152</th>\n",
       "      <td>Stalker</td>\n",
       "      <td>tv</td>\n",
       "      <td>https://www.metacritic.com/tv/stalker/</td>\n",
       "      <td>17</td>\n",
       "      <td>24</td>\n",
       "      <td>17</td>\n",
       "      <td>137</td>\n",
       "      <td>Lt. Beth Davis (Maggie Q) leads the Threat Assessment Unit of the Los Angeles Police Department that includes recent transfer Det. Jack Larsen (McDermott), Det. Ben Caldwell (Victor Rasuk), and Det. Janice Lawrence (Mariana Klaveno).</td>\n",
       "      <td>['Crime', 'Drama', 'Thriller']</td>\n",
       "    </tr>\n",
       "    <tr>\n",
       "      <th>15153</th>\n",
       "      <td>Dads</td>\n",
       "      <td>tv</td>\n",
       "      <td>https://www.metacritic.com/tv/dads/</td>\n",
       "      <td>15</td>\n",
       "      <td>28</td>\n",
       "      <td>15</td>\n",
       "      <td>108</td>\n",
       "      <td>The lives of video game company co-founders Eli and Warner (Seth Green and Giovanni Ribisi) are turned upside down when their fathers (Peter Riegert and Martin Mull) move in with them.</td>\n",
       "      <td>['Comedy']</td>\n",
       "    </tr>\n",
       "  </tbody>\n",
       "</table>\n",
       "<p>15154 rows × 9 columns</p>\n",
       "</div>"
      ],
      "text/plain": [
       "                                  Title Category  \\\n",
       "0                        Dekalog (1988)    movie   \n",
       "1                         The Godfather    movie   \n",
       "2       Lawrence of Arabia (re-release)    movie   \n",
       "3              The Leopard (re-release)    movie   \n",
       "4                        The Conformist    movie   \n",
       "...                                 ...      ...   \n",
       "15149                           Cavemen       tv   \n",
       "15150                           Work It       tv   \n",
       "15151  Category 7: The End of the World       tv   \n",
       "15152                           Stalker       tv   \n",
       "15153                              Dads       tv   \n",
       "\n",
       "                                                                   Url  \\\n",
       "0                       https://www.metacritic.com/movie/dekalog-1988/   \n",
       "1                      https://www.metacritic.com/movie/the-godfather/   \n",
       "2      https://www.metacritic.com/movie/lawrence-of-arabia-re-release/   \n",
       "3             https://www.metacritic.com/movie/the-leopard-re-release/   \n",
       "4          https://www.metacritic.com/movie/the-conformist-re-release/   \n",
       "...                                                                ...   \n",
       "15149                           https://www.metacritic.com/tv/cavemen/   \n",
       "15150                           https://www.metacritic.com/tv/work-it/   \n",
       "15151   https://www.metacritic.com/tv/category-7-the-end-of-the-world/   \n",
       "15152                           https://www.metacritic.com/tv/stalker/   \n",
       "15153                              https://www.metacritic.com/tv/dads/   \n",
       "\n",
       "       Metascore  Number_of_critic_reviewers  User_score  \\\n",
       "0            100                          13         100   \n",
       "1            100                          16         100   \n",
       "2            100                           8         100   \n",
       "3            100                          12         100   \n",
       "4            100                          11         100   \n",
       "...          ...                         ...         ...   \n",
       "15149         19                          13          19   \n",
       "15150         19                          22          19   \n",
       "15151         18                          11          18   \n",
       "15152         17                          24          17   \n",
       "15153         15                          28          15   \n",
       "\n",
       "       Number_of_user_reviewers  \\\n",
       "0                           112   \n",
       "1                          4082   \n",
       "2                           442   \n",
       "3                            84   \n",
       "4                           105   \n",
       "...                         ...   \n",
       "15149                         6   \n",
       "15150                        44   \n",
       "15151                         7   \n",
       "15152                       137   \n",
       "15153                       108   \n",
       "\n",
       "                                                                                                                                                                                                                                                                                                                                                 Plot_summary  \\\n",
       "0      This masterwork by Krzysztof Kieślowski is one of the twentieth century’s greatest achievements in visual storytelling. Originally made for Polish television, Dekalog focuses on the residents of a housing complex in late-Communist Poland, whose lives become subtly intertwined as they face emotional dilemmas that are at once deeply person...   \n",
       "1      Francis Ford Coppola's epic features Marlon Brando in his Oscar-winning role as the patriarch of the Corleone family. Director Coppola paints a chilling portrait of the Sicilian clan's rise and near fall from power in America, masterfully balancing the story between the Corleone's family life and the ugly crime business in which they are...   \n",
       "2                                                                                                                                                                                                            The 40th anniversary re-release of David Lean's 1962 masterpiece, starring Peter O'Toole in one of the most electrifying debuts in film history.   \n",
       "3                                                                                                          Set in Sicily in 1860, Luchino Visconti's spectacular 1963 adaptation of Giuseppe di Lampedusa's international bestseller is one of the cinema's greatest evocations of the past, achingly depicting the passing of an ancient order. (Film Forum)   \n",
       "4                                                                                                   Set in Rome in the 1930s, this re-release of Bernardo Bertolucci's 1970 breakthrough feature stars Jean-Louis Trintignant as a Mussolini operative sent to Paris to locate and eliminate an old professor who fled Italy when the fascists came to power.   \n",
       "...                                                                                                                                                                                                                                                                                                                                                       ...   \n",
       "15149  Cavemen revolves around Joel, his younger brother Andy and best friend Nick. Joel is engaged to Kate. Even though he has some problems with her conservative parents accepting him, he is happy with his life and pursuing the American Dream. The pilot is based on the Geico commercials that claim their service is so easy, \"Even a caveman can...   \n",
       "15150                                                                                                                                                                                                 After they are laid off, Lee Standish (Ben Koldyke) and Angel Ortiz (Amaury Nolasco) dress up as women to get new jobs as pharmaceutical sales wo(men).   \n",
       "15151    \"Category 7: The End of the World\" picks up where \"Category 6: Day of Destruction\" left off. The city of Chicago has been destroyed by a monstrous storm and as the storm gathers strength, it threatens to ravage the rest of the world. A television evangelist and his wife prey on the nation’s fears by broadcasting warnings of biblical pl...   \n",
       "15152                                                                                                               Lt. Beth Davis (Maggie Q) leads the Threat Assessment Unit of the Los Angeles Police Department that includes recent transfer Det. Jack Larsen (McDermott), Det. Ben Caldwell (Victor Rasuk), and Det. Janice Lawrence (Mariana Klaveno).   \n",
       "15153                                                                                                                                                                The lives of video game company co-founders Eli and Warner (Seth Green and Giovanni Ribisi) are turned upside down when their fathers (Peter Riegert and Martin Mull) move in with them.   \n",
       "\n",
       "                                                       Genres  \n",
       "0                                                   ['Drama']  \n",
       "1                                          ['Crime', 'Drama']  \n",
       "2                  ['Adventure', 'Biography', 'Drama', 'War']  \n",
       "3                                        ['Drama', 'History']  \n",
       "4                                                   ['Drama']  \n",
       "...                                                       ...  \n",
       "15149                                    ['Comedy', 'Sci-Fi']  \n",
       "15150                                              ['Comedy']  \n",
       "15151  ['Action', 'Adventure', 'Drama', 'Sci-Fi', 'Thriller']  \n",
       "15152                          ['Crime', 'Drama', 'Thriller']  \n",
       "15153                                              ['Comedy']  \n",
       "\n",
       "[15154 rows x 9 columns]"
      ]
     },
     "execution_count": 5,
     "metadata": {},
     "output_type": "execute_result"
    }
   ],
   "source": [
    "df = pd.read_csv(\"film_details.csv\")\n",
    "df"
   ]
  },
  {
   "cell_type": "code",
   "execution_count": 6,
   "id": "ec09e4d4-1733-4a47-ad9f-7ddbeb740190",
   "metadata": {},
   "outputs": [
    {
     "data": {
      "text/plain": [
       "(15154, 9)"
      ]
     },
     "execution_count": 6,
     "metadata": {},
     "output_type": "execute_result"
    }
   ],
   "source": [
    "df.shape"
   ]
  },
  {
   "cell_type": "code",
   "execution_count": 7,
   "id": "08a6d8ba-3a71-4fe1-9d4a-800842404465",
   "metadata": {},
   "outputs": [
    {
     "data": {
      "text/plain": [
       "0                                                     ['Drama']\n",
       "1                                            ['Crime', 'Drama']\n",
       "2                    ['Adventure', 'Biography', 'Drama', 'War']\n",
       "3                                          ['Drama', 'History']\n",
       "4                                                     ['Drama']\n",
       "                                  ...                          \n",
       "15149                                      ['Comedy', 'Sci-Fi']\n",
       "15150                                                ['Comedy']\n",
       "15151    ['Action', 'Adventure', 'Drama', 'Sci-Fi', 'Thriller']\n",
       "15152                            ['Crime', 'Drama', 'Thriller']\n",
       "15153                                                ['Comedy']\n",
       "Name: Genres, Length: 15154, dtype: object"
      ]
     },
     "execution_count": 7,
     "metadata": {},
     "output_type": "execute_result"
    }
   ],
   "source": [
    "genres_list = df[\"Genres\"]\n",
    "genres_list"
   ]
  },
  {
   "cell_type": "code",
   "execution_count": 8,
   "id": "1671df76-5db3-4bf6-90fc-777483e94492",
   "metadata": {},
   "outputs": [
    {
     "data": {
      "text/plain": [
       "str"
      ]
     },
     "execution_count": 8,
     "metadata": {},
     "output_type": "execute_result"
    }
   ],
   "source": [
    "genres_list = df[\"Genres\"]\n",
    "type(genres_list[0])"
   ]
  },
  {
   "cell_type": "code",
   "execution_count": 9,
   "id": "0159e2fc-4dbf-4472-b250-b242edaeb821",
   "metadata": {},
   "outputs": [
    {
     "name": "stdout",
     "output_type": "stream",
     "text": [
      "Number of Genres: 28\n",
      "\n",
      "{'Drama': 9078, 'Crime': 2788, 'Adventure': 1998, 'Biography': 1306, 'War': 622, 'History': 902, 'Mystery': 2083, 'Romance': 2920, 'Thriller': 4005, 'Film-Noir': 31, 'Comedy': 5257, 'Musical': 356, 'Animation': 619, 'Family': 1036, 'Fantasy': 1522, 'Action': 2606, 'Western': 241, 'Music': 777, 'Documentary': 1354, 'Sport': 462, 'Sci-Fi': 1527, 'Horror': 1579, 'News': 28, '': 5, 'Unknown': 16, 'Reality-TV': 100, 'Talk-Show': 30, 'Game-Show': 30}\n"
     ]
    }
   ],
   "source": [
    "genres_list = df.Genres.to_list()\n",
    "genre_count = {}\n",
    "for genres in genres_list:\n",
    "  genre_list = eval(genres)\n",
    "  for genre in genre_list:\n",
    "    if genre in genre_count.keys():\n",
    "      genre_count[genre] += 1\n",
    "    else:\n",
    "      genre_count[genre] = 1\n",
    "print(f\"Number of Genres: {len(genre_count)}\")\n",
    "print()\n",
    "print(genre_count)"
   ]
  },
  {
   "cell_type": "code",
   "execution_count": 10,
   "id": "8c0103ff-65d7-4d12-94a2-6c19ca7fb9c3",
   "metadata": {},
   "outputs": [
    {
     "data": {
      "text/plain": [
       "Title                         0\n",
       "Category                      0\n",
       "Url                           0\n",
       "Metascore                     0\n",
       "Number_of_critic_reviewers    0\n",
       "User_score                    0\n",
       "Number_of_user_reviewers      0\n",
       "Plot_summary                  0\n",
       "Genres                        0\n",
       "dtype: int64"
      ]
     },
     "execution_count": 10,
     "metadata": {},
     "output_type": "execute_result"
    }
   ],
   "source": [
    "df.isna().sum()"
   ]
  },
  {
   "cell_type": "code",
   "execution_count": 11,
   "id": "4f280459-ff51-401b-a60d-0eca8922341f",
   "metadata": {},
   "outputs": [],
   "source": [
    "df = df.dropna().reset_index(drop=True)"
   ]
  },
  {
   "cell_type": "code",
   "execution_count": 12,
   "id": "e7a69200-95dd-484c-be58-0c38331ee09e",
   "metadata": {},
   "outputs": [
    {
     "data": {
      "text/plain": [
       "Title                         0\n",
       "Category                      0\n",
       "Url                           0\n",
       "Metascore                     0\n",
       "Number_of_critic_reviewers    0\n",
       "User_score                    0\n",
       "Number_of_user_reviewers      0\n",
       "Plot_summary                  0\n",
       "Genres                        0\n",
       "dtype: int64"
      ]
     },
     "execution_count": 12,
     "metadata": {},
     "output_type": "execute_result"
    }
   ],
   "source": [
    "df.isna().sum()"
   ]
  },
  {
   "cell_type": "code",
   "execution_count": 13,
   "id": "75b7588e-3c4a-41b4-b69e-f5ed22100a52",
   "metadata": {},
   "outputs": [
    {
     "data": {
      "text/plain": [
       "(15154, 9)"
      ]
     },
     "execution_count": 13,
     "metadata": {},
     "output_type": "execute_result"
    }
   ],
   "source": [
    "df.shape"
   ]
  },
  {
   "cell_type": "code",
   "execution_count": null,
   "id": "2961a97e-822a-4320-8cc2-a276b75f7e81",
   "metadata": {},
   "outputs": [],
   "source": []
  },
  {
   "cell_type": "markdown",
   "id": "e1cfebb6-7bef-4ada-beae-efa375724d96",
   "metadata": {},
   "source": [
    "**Only using one category (first category) per film for now for single class classification.**\n",
    "\n",
    "Will also do multi-label classification later"
   ]
  },
  {
   "cell_type": "code",
   "execution_count": null,
   "id": "9f31db33-0598-4aa4-93ca-4300b46fd02e",
   "metadata": {},
   "outputs": [],
   "source": []
  },
  {
   "cell_type": "code",
   "execution_count": 14,
   "id": "1553a9be-0cfd-4cea-b3f5-356772e4fae6",
   "metadata": {},
   "outputs": [
    {
     "data": {
      "text/plain": [
       "(15149, 9)"
      ]
     },
     "execution_count": 14,
     "metadata": {},
     "output_type": "execute_result"
    }
   ],
   "source": [
    "genre_list = []\n",
    "indices_to_drop = []\n",
    "for idx, genres in enumerate(df.Genres.to_list()):\n",
    "  genres_list = eval(genres)\n",
    "  if len(genres_list) != 0 and len(genres_list[0]) != 0:\n",
    "    genre_list.append(genres_list[0])\n",
    "  else:\n",
    "    indices_to_drop.append(idx)\n",
    "\n",
    "df = df.drop(indices_to_drop).reset_index(drop=True)\n",
    "df.shape"
   ]
  },
  {
   "cell_type": "code",
   "execution_count": 15,
   "id": "0bc3d8f9-e4a1-4d4a-b724-bb8b99426972",
   "metadata": {},
   "outputs": [],
   "source": [
    "# genre_list"
   ]
  },
  {
   "cell_type": "code",
   "execution_count": 16,
   "id": "36603290-dc66-4b4b-aa02-f0dc09934c19",
   "metadata": {},
   "outputs": [
    {
     "data": {
      "text/plain": [
       "[213, 2415, 8075, 8458, 14977]"
      ]
     },
     "execution_count": 16,
     "metadata": {},
     "output_type": "execute_result"
    }
   ],
   "source": [
    "indices_to_drop"
   ]
  },
  {
   "cell_type": "code",
   "execution_count": 17,
   "id": "0a9c8b25-16d9-40e6-a928-20c3a9157efa",
   "metadata": {},
   "outputs": [
    {
     "data": {
      "text/html": [
       "<div>\n",
       "<style scoped>\n",
       "    .dataframe tbody tr th:only-of-type {\n",
       "        vertical-align: middle;\n",
       "    }\n",
       "\n",
       "    .dataframe tbody tr th {\n",
       "        vertical-align: top;\n",
       "    }\n",
       "\n",
       "    .dataframe thead th {\n",
       "        text-align: right;\n",
       "    }\n",
       "</style>\n",
       "<table border=\"1\" class=\"dataframe\">\n",
       "  <thead>\n",
       "    <tr style=\"text-align: right;\">\n",
       "      <th></th>\n",
       "      <th>Title</th>\n",
       "      <th>Category</th>\n",
       "      <th>Url</th>\n",
       "      <th>Metascore</th>\n",
       "      <th>Number_of_critic_reviewers</th>\n",
       "      <th>User_score</th>\n",
       "      <th>Number_of_user_reviewers</th>\n",
       "      <th>Plot_summary</th>\n",
       "      <th>Genres</th>\n",
       "      <th>Genre</th>\n",
       "    </tr>\n",
       "  </thead>\n",
       "  <tbody>\n",
       "    <tr>\n",
       "      <th>0</th>\n",
       "      <td>Dekalog (1988)</td>\n",
       "      <td>movie</td>\n",
       "      <td>https://www.metacritic.com/movie/dekalog-1988/</td>\n",
       "      <td>100</td>\n",
       "      <td>13</td>\n",
       "      <td>100</td>\n",
       "      <td>112</td>\n",
       "      <td>This masterwork by Krzysztof Kieślowski is one of the twentieth century’s greatest achievements in visual storytelling. Originally made for Polish television, Dekalog focuses on the residents of a housing complex in late-Communist Poland, whose lives become subtly intertwined as they face emotional dilemmas that are at once deeply person...</td>\n",
       "      <td>['Drama']</td>\n",
       "      <td>Drama</td>\n",
       "    </tr>\n",
       "    <tr>\n",
       "      <th>1</th>\n",
       "      <td>The Godfather</td>\n",
       "      <td>movie</td>\n",
       "      <td>https://www.metacritic.com/movie/the-godfather/</td>\n",
       "      <td>100</td>\n",
       "      <td>16</td>\n",
       "      <td>100</td>\n",
       "      <td>4082</td>\n",
       "      <td>Francis Ford Coppola's epic features Marlon Brando in his Oscar-winning role as the patriarch of the Corleone family. Director Coppola paints a chilling portrait of the Sicilian clan's rise and near fall from power in America, masterfully balancing the story between the Corleone's family life and the ugly crime business in which they are...</td>\n",
       "      <td>['Crime', 'Drama']</td>\n",
       "      <td>Crime</td>\n",
       "    </tr>\n",
       "    <tr>\n",
       "      <th>2</th>\n",
       "      <td>Lawrence of Arabia (re-release)</td>\n",
       "      <td>movie</td>\n",
       "      <td>https://www.metacritic.com/movie/lawrence-of-arabia-re-release/</td>\n",
       "      <td>100</td>\n",
       "      <td>8</td>\n",
       "      <td>100</td>\n",
       "      <td>442</td>\n",
       "      <td>The 40th anniversary re-release of David Lean's 1962 masterpiece, starring Peter O'Toole in one of the most electrifying debuts in film history.</td>\n",
       "      <td>['Adventure', 'Biography', 'Drama', 'War']</td>\n",
       "      <td>Adventure</td>\n",
       "    </tr>\n",
       "    <tr>\n",
       "      <th>3</th>\n",
       "      <td>The Leopard (re-release)</td>\n",
       "      <td>movie</td>\n",
       "      <td>https://www.metacritic.com/movie/the-leopard-re-release/</td>\n",
       "      <td>100</td>\n",
       "      <td>12</td>\n",
       "      <td>100</td>\n",
       "      <td>84</td>\n",
       "      <td>Set in Sicily in 1860, Luchino Visconti's spectacular 1963 adaptation of Giuseppe di Lampedusa's international bestseller is one of the cinema's greatest evocations of the past, achingly depicting the passing of an ancient order. (Film Forum)</td>\n",
       "      <td>['Drama', 'History']</td>\n",
       "      <td>Drama</td>\n",
       "    </tr>\n",
       "    <tr>\n",
       "      <th>4</th>\n",
       "      <td>The Conformist</td>\n",
       "      <td>movie</td>\n",
       "      <td>https://www.metacritic.com/movie/the-conformist-re-release/</td>\n",
       "      <td>100</td>\n",
       "      <td>11</td>\n",
       "      <td>100</td>\n",
       "      <td>105</td>\n",
       "      <td>Set in Rome in the 1930s, this re-release of Bernardo Bertolucci's 1970 breakthrough feature stars Jean-Louis Trintignant as a Mussolini operative sent to Paris to locate and eliminate an old professor who fled Italy when the fascists came to power.</td>\n",
       "      <td>['Drama']</td>\n",
       "      <td>Drama</td>\n",
       "    </tr>\n",
       "    <tr>\n",
       "      <th>...</th>\n",
       "      <td>...</td>\n",
       "      <td>...</td>\n",
       "      <td>...</td>\n",
       "      <td>...</td>\n",
       "      <td>...</td>\n",
       "      <td>...</td>\n",
       "      <td>...</td>\n",
       "      <td>...</td>\n",
       "      <td>...</td>\n",
       "      <td>...</td>\n",
       "    </tr>\n",
       "    <tr>\n",
       "      <th>15144</th>\n",
       "      <td>Cavemen</td>\n",
       "      <td>tv</td>\n",
       "      <td>https://www.metacritic.com/tv/cavemen/</td>\n",
       "      <td>19</td>\n",
       "      <td>13</td>\n",
       "      <td>19</td>\n",
       "      <td>6</td>\n",
       "      <td>Cavemen revolves around Joel, his younger brother Andy and best friend Nick. Joel is engaged to Kate. Even though he has some problems with her conservative parents accepting him, he is happy with his life and pursuing the American Dream. The pilot is based on the Geico commercials that claim their service is so easy, \"Even a caveman can...</td>\n",
       "      <td>['Comedy', 'Sci-Fi']</td>\n",
       "      <td>Comedy</td>\n",
       "    </tr>\n",
       "    <tr>\n",
       "      <th>15145</th>\n",
       "      <td>Work It</td>\n",
       "      <td>tv</td>\n",
       "      <td>https://www.metacritic.com/tv/work-it/</td>\n",
       "      <td>19</td>\n",
       "      <td>22</td>\n",
       "      <td>19</td>\n",
       "      <td>44</td>\n",
       "      <td>After they are laid off, Lee Standish (Ben Koldyke) and Angel Ortiz (Amaury Nolasco) dress up as women to get new jobs as pharmaceutical sales wo(men).</td>\n",
       "      <td>['Comedy']</td>\n",
       "      <td>Comedy</td>\n",
       "    </tr>\n",
       "    <tr>\n",
       "      <th>15146</th>\n",
       "      <td>Category 7: The End of the World</td>\n",
       "      <td>tv</td>\n",
       "      <td>https://www.metacritic.com/tv/category-7-the-end-of-the-world/</td>\n",
       "      <td>18</td>\n",
       "      <td>11</td>\n",
       "      <td>18</td>\n",
       "      <td>7</td>\n",
       "      <td>\"Category 7: The End of the World\" picks up where \"Category 6: Day of Destruction\" left off. The city of Chicago has been destroyed by a monstrous storm and as the storm gathers strength, it threatens to ravage the rest of the world. A television evangelist and his wife prey on the nation’s fears by broadcasting warnings of biblical pl...</td>\n",
       "      <td>['Action', 'Adventure', 'Drama', 'Sci-Fi', 'Thriller']</td>\n",
       "      <td>Action</td>\n",
       "    </tr>\n",
       "    <tr>\n",
       "      <th>15147</th>\n",
       "      <td>Stalker</td>\n",
       "      <td>tv</td>\n",
       "      <td>https://www.metacritic.com/tv/stalker/</td>\n",
       "      <td>17</td>\n",
       "      <td>24</td>\n",
       "      <td>17</td>\n",
       "      <td>137</td>\n",
       "      <td>Lt. Beth Davis (Maggie Q) leads the Threat Assessment Unit of the Los Angeles Police Department that includes recent transfer Det. Jack Larsen (McDermott), Det. Ben Caldwell (Victor Rasuk), and Det. Janice Lawrence (Mariana Klaveno).</td>\n",
       "      <td>['Crime', 'Drama', 'Thriller']</td>\n",
       "      <td>Crime</td>\n",
       "    </tr>\n",
       "    <tr>\n",
       "      <th>15148</th>\n",
       "      <td>Dads</td>\n",
       "      <td>tv</td>\n",
       "      <td>https://www.metacritic.com/tv/dads/</td>\n",
       "      <td>15</td>\n",
       "      <td>28</td>\n",
       "      <td>15</td>\n",
       "      <td>108</td>\n",
       "      <td>The lives of video game company co-founders Eli and Warner (Seth Green and Giovanni Ribisi) are turned upside down when their fathers (Peter Riegert and Martin Mull) move in with them.</td>\n",
       "      <td>['Comedy']</td>\n",
       "      <td>Comedy</td>\n",
       "    </tr>\n",
       "  </tbody>\n",
       "</table>\n",
       "<p>15149 rows × 10 columns</p>\n",
       "</div>"
      ],
      "text/plain": [
       "                                  Title Category  \\\n",
       "0                        Dekalog (1988)    movie   \n",
       "1                         The Godfather    movie   \n",
       "2       Lawrence of Arabia (re-release)    movie   \n",
       "3              The Leopard (re-release)    movie   \n",
       "4                        The Conformist    movie   \n",
       "...                                 ...      ...   \n",
       "15144                           Cavemen       tv   \n",
       "15145                           Work It       tv   \n",
       "15146  Category 7: The End of the World       tv   \n",
       "15147                           Stalker       tv   \n",
       "15148                              Dads       tv   \n",
       "\n",
       "                                                                   Url  \\\n",
       "0                       https://www.metacritic.com/movie/dekalog-1988/   \n",
       "1                      https://www.metacritic.com/movie/the-godfather/   \n",
       "2      https://www.metacritic.com/movie/lawrence-of-arabia-re-release/   \n",
       "3             https://www.metacritic.com/movie/the-leopard-re-release/   \n",
       "4          https://www.metacritic.com/movie/the-conformist-re-release/   \n",
       "...                                                                ...   \n",
       "15144                           https://www.metacritic.com/tv/cavemen/   \n",
       "15145                           https://www.metacritic.com/tv/work-it/   \n",
       "15146   https://www.metacritic.com/tv/category-7-the-end-of-the-world/   \n",
       "15147                           https://www.metacritic.com/tv/stalker/   \n",
       "15148                              https://www.metacritic.com/tv/dads/   \n",
       "\n",
       "       Metascore  Number_of_critic_reviewers  User_score  \\\n",
       "0            100                          13         100   \n",
       "1            100                          16         100   \n",
       "2            100                           8         100   \n",
       "3            100                          12         100   \n",
       "4            100                          11         100   \n",
       "...          ...                         ...         ...   \n",
       "15144         19                          13          19   \n",
       "15145         19                          22          19   \n",
       "15146         18                          11          18   \n",
       "15147         17                          24          17   \n",
       "15148         15                          28          15   \n",
       "\n",
       "       Number_of_user_reviewers  \\\n",
       "0                           112   \n",
       "1                          4082   \n",
       "2                           442   \n",
       "3                            84   \n",
       "4                           105   \n",
       "...                         ...   \n",
       "15144                         6   \n",
       "15145                        44   \n",
       "15146                         7   \n",
       "15147                       137   \n",
       "15148                       108   \n",
       "\n",
       "                                                                                                                                                                                                                                                                                                                                                 Plot_summary  \\\n",
       "0      This masterwork by Krzysztof Kieślowski is one of the twentieth century’s greatest achievements in visual storytelling. Originally made for Polish television, Dekalog focuses on the residents of a housing complex in late-Communist Poland, whose lives become subtly intertwined as they face emotional dilemmas that are at once deeply person...   \n",
       "1      Francis Ford Coppola's epic features Marlon Brando in his Oscar-winning role as the patriarch of the Corleone family. Director Coppola paints a chilling portrait of the Sicilian clan's rise and near fall from power in America, masterfully balancing the story between the Corleone's family life and the ugly crime business in which they are...   \n",
       "2                                                                                                                                                                                                            The 40th anniversary re-release of David Lean's 1962 masterpiece, starring Peter O'Toole in one of the most electrifying debuts in film history.   \n",
       "3                                                                                                          Set in Sicily in 1860, Luchino Visconti's spectacular 1963 adaptation of Giuseppe di Lampedusa's international bestseller is one of the cinema's greatest evocations of the past, achingly depicting the passing of an ancient order. (Film Forum)   \n",
       "4                                                                                                   Set in Rome in the 1930s, this re-release of Bernardo Bertolucci's 1970 breakthrough feature stars Jean-Louis Trintignant as a Mussolini operative sent to Paris to locate and eliminate an old professor who fled Italy when the fascists came to power.   \n",
       "...                                                                                                                                                                                                                                                                                                                                                       ...   \n",
       "15144  Cavemen revolves around Joel, his younger brother Andy and best friend Nick. Joel is engaged to Kate. Even though he has some problems with her conservative parents accepting him, he is happy with his life and pursuing the American Dream. The pilot is based on the Geico commercials that claim their service is so easy, \"Even a caveman can...   \n",
       "15145                                                                                                                                                                                                 After they are laid off, Lee Standish (Ben Koldyke) and Angel Ortiz (Amaury Nolasco) dress up as women to get new jobs as pharmaceutical sales wo(men).   \n",
       "15146    \"Category 7: The End of the World\" picks up where \"Category 6: Day of Destruction\" left off. The city of Chicago has been destroyed by a monstrous storm and as the storm gathers strength, it threatens to ravage the rest of the world. A television evangelist and his wife prey on the nation’s fears by broadcasting warnings of biblical pl...   \n",
       "15147                                                                                                               Lt. Beth Davis (Maggie Q) leads the Threat Assessment Unit of the Los Angeles Police Department that includes recent transfer Det. Jack Larsen (McDermott), Det. Ben Caldwell (Victor Rasuk), and Det. Janice Lawrence (Mariana Klaveno).   \n",
       "15148                                                                                                                                                                The lives of video game company co-founders Eli and Warner (Seth Green and Giovanni Ribisi) are turned upside down when their fathers (Peter Riegert and Martin Mull) move in with them.   \n",
       "\n",
       "                                                       Genres      Genre  \n",
       "0                                                   ['Drama']      Drama  \n",
       "1                                          ['Crime', 'Drama']      Crime  \n",
       "2                  ['Adventure', 'Biography', 'Drama', 'War']  Adventure  \n",
       "3                                        ['Drama', 'History']      Drama  \n",
       "4                                                   ['Drama']      Drama  \n",
       "...                                                       ...        ...  \n",
       "15144                                    ['Comedy', 'Sci-Fi']     Comedy  \n",
       "15145                                              ['Comedy']     Comedy  \n",
       "15146  ['Action', 'Adventure', 'Drama', 'Sci-Fi', 'Thriller']     Action  \n",
       "15147                          ['Crime', 'Drama', 'Thriller']      Crime  \n",
       "15148                                              ['Comedy']     Comedy  \n",
       "\n",
       "[15149 rows x 10 columns]"
      ]
     },
     "execution_count": 17,
     "metadata": {},
     "output_type": "execute_result"
    }
   ],
   "source": [
    "df['Genre'] = genre_list\n",
    "df"
   ]
  },
  {
   "cell_type": "code",
   "execution_count": 18,
   "id": "47d34d1f-2728-4ca2-8224-f99f0ee6bb25",
   "metadata": {},
   "outputs": [
    {
     "data": {
      "text/plain": [
       "Genre\n",
       "Comedy         3837\n",
       "Drama          3470\n",
       "Action         2437\n",
       "Documentary    1353\n",
       "Crime          1199\n",
       "Biography       825\n",
       "Adventure       632\n",
       "Animation       605\n",
       "Horror          526\n",
       "Fantasy          63\n",
       "Reality-TV       48\n",
       "Thriller         34\n",
       "Mystery          33\n",
       "Game-Show        20\n",
       "Sci-Fi           14\n",
       "Romance          11\n",
       "Family           10\n",
       "Musical           7\n",
       "Unknown           6\n",
       "Music             5\n",
       "Western           4\n",
       "Film-Noir         4\n",
       "Talk-Show         2\n",
       "War               1\n",
       "History           1\n",
       "Sport             1\n",
       "News              1\n",
       "Name: count, dtype: int64"
      ]
     },
     "execution_count": 18,
     "metadata": {},
     "output_type": "execute_result"
    }
   ],
   "source": [
    "df['Genre'].value_counts()"
   ]
  },
  {
   "cell_type": "code",
   "execution_count": null,
   "id": "fe94dad6-8f2e-45b3-b53c-5c4f28e95f34",
   "metadata": {},
   "outputs": [],
   "source": []
  },
  {
   "cell_type": "code",
   "execution_count": null,
   "id": "82f7a205-10a6-46aa-80d7-023cc6d7762f",
   "metadata": {},
   "outputs": [],
   "source": []
  },
  {
   "cell_type": "markdown",
   "id": "5a9c8f2d-a955-44e0-8948-8cdd744e58c4",
   "metadata": {},
   "source": [
    "# Removing rare genres\n",
    "\n",
    "Rare genres are the genres that has less than 1% frequency in the entire genre count"
   ]
  },
  {
   "cell_type": "code",
   "execution_count": null,
   "id": "4928b233-9f42-4d49-9002-e8097e057763",
   "metadata": {},
   "outputs": [],
   "source": []
  },
  {
   "cell_type": "markdown",
   "id": "a95e54fc-f26b-4c38-80ba-2bfb57a8a8e3",
   "metadata": {},
   "source": [
    "**Searching for rare genre names**"
   ]
  },
  {
   "cell_type": "code",
   "execution_count": 19,
   "id": "6bc6f6d2-1035-4c92-beb0-a1467dd1f5c5",
   "metadata": {},
   "outputs": [
    {
     "data": {
      "text/plain": [
       "(18, ['Fantasy', 'Reality-TV', 'Thriller', 'Mystery', 'Game-Show'])"
      ]
     },
     "execution_count": 19,
     "metadata": {},
     "output_type": "execute_result"
    }
   ],
   "source": [
    "genre_count = df['Genre'].value_counts()\n",
    "threshold = int(len(df) * 0.01)\n",
    "rare_genres = [ cat for cat, count in genre_count.items() if count < threshold]\n",
    "len(rare_genres), rare_genres[:5]"
   ]
  },
  {
   "cell_type": "code",
   "execution_count": 20,
   "id": "623d4708-84e6-4977-a7ad-dabc2ece1b37",
   "metadata": {},
   "outputs": [
    {
     "data": {
      "text/plain": [
       "265"
      ]
     },
     "execution_count": 20,
     "metadata": {},
     "output_type": "execute_result"
    }
   ],
   "source": [
    "rare_indices_to_drop = [idx for idx, row in df.iterrows() if row['Genre'] in rare_genres]\n",
    "len(rare_indices_to_drop)"
   ]
  },
  {
   "cell_type": "markdown",
   "id": "7d01dea2-27f7-4f91-9d1e-30fd81de5556",
   "metadata": {},
   "source": [
    "**Filtering out rare genre names**"
   ]
  },
  {
   "cell_type": "code",
   "execution_count": 21,
   "id": "e2d065f9-a1d5-488b-a37a-7af7a795b579",
   "metadata": {},
   "outputs": [
    {
     "data": {
      "text/plain": [
       "(14884, 10)"
      ]
     },
     "execution_count": 21,
     "metadata": {},
     "output_type": "execute_result"
    }
   ],
   "source": [
    "df = df.drop(rare_indices_to_drop).reset_index(drop=True)\n",
    "df.shape"
   ]
  },
  {
   "cell_type": "code",
   "execution_count": 22,
   "id": "3d214205-e806-40ed-bb12-1c9ee6e7117c",
   "metadata": {},
   "outputs": [
    {
     "data": {
      "text/plain": [
       "Genre\n",
       "Comedy         3837\n",
       "Drama          3470\n",
       "Action         2437\n",
       "Documentary    1353\n",
       "Crime          1199\n",
       "Biography       825\n",
       "Adventure       632\n",
       "Animation       605\n",
       "Horror          526\n",
       "Name: count, dtype: int64"
      ]
     },
     "execution_count": 22,
     "metadata": {},
     "output_type": "execute_result"
    }
   ],
   "source": [
    "df['Genre'].value_counts()"
   ]
  },
  {
   "cell_type": "code",
   "execution_count": 23,
   "id": "6b7ed50f-4d99-4ded-abcd-d13b112d5f95",
   "metadata": {},
   "outputs": [
    {
     "data": {
      "text/plain": [
       "9"
      ]
     },
     "execution_count": 23,
     "metadata": {},
     "output_type": "execute_result"
    }
   ],
   "source": [
    "len(df['Genre'].value_counts())"
   ]
  },
  {
   "cell_type": "code",
   "execution_count": 24,
   "id": "cb483c51-ac8a-458b-9ec1-231ca89fb1bf",
   "metadata": {},
   "outputs": [
    {
     "data": {
      "text/html": [
       "<div>\n",
       "<style scoped>\n",
       "    .dataframe tbody tr th:only-of-type {\n",
       "        vertical-align: middle;\n",
       "    }\n",
       "\n",
       "    .dataframe tbody tr th {\n",
       "        vertical-align: top;\n",
       "    }\n",
       "\n",
       "    .dataframe thead th {\n",
       "        text-align: right;\n",
       "    }\n",
       "</style>\n",
       "<table border=\"1\" class=\"dataframe\">\n",
       "  <thead>\n",
       "    <tr style=\"text-align: right;\">\n",
       "      <th></th>\n",
       "      <th>Title</th>\n",
       "      <th>Category</th>\n",
       "      <th>Url</th>\n",
       "      <th>Plot_summary</th>\n",
       "      <th>Genres</th>\n",
       "      <th>Genre</th>\n",
       "    </tr>\n",
       "  </thead>\n",
       "  <tbody>\n",
       "    <tr>\n",
       "      <th>count</th>\n",
       "      <td>14884</td>\n",
       "      <td>14884</td>\n",
       "      <td>14884</td>\n",
       "      <td>14884</td>\n",
       "      <td>14884</td>\n",
       "      <td>14884</td>\n",
       "    </tr>\n",
       "    <tr>\n",
       "      <th>unique</th>\n",
       "      <td>14253</td>\n",
       "      <td>2</td>\n",
       "      <td>14824</td>\n",
       "      <td>14822</td>\n",
       "      <td>1746</td>\n",
       "      <td>9</td>\n",
       "    </tr>\n",
       "    <tr>\n",
       "      <th>top</th>\n",
       "      <td>Robin Hood</td>\n",
       "      <td>movie</td>\n",
       "      <td>https://www.metacritic.com/movie/the-professionals/</td>\n",
       "      <td>Val, a hard-working live-in housekeeper in modern day Sao Paulo, is perfectly content to take care of every one of her wealthy employers’ needs, from cooking and cleaning to being a surrogate mother to their teenage son, who she has raised since he was a toddler. But when Val’s estranged daughter Jessica suddenly shows up the unspoken bu...</td>\n",
       "      <td>['Drama']</td>\n",
       "      <td>Comedy</td>\n",
       "    </tr>\n",
       "    <tr>\n",
       "      <th>freq</th>\n",
       "      <td>4</td>\n",
       "      <td>12403</td>\n",
       "      <td>2</td>\n",
       "      <td>2</td>\n",
       "      <td>1063</td>\n",
       "      <td>3837</td>\n",
       "    </tr>\n",
       "  </tbody>\n",
       "</table>\n",
       "</div>"
      ],
      "text/plain": [
       "             Title Category  \\\n",
       "count        14884    14884   \n",
       "unique       14253        2   \n",
       "top     Robin Hood    movie   \n",
       "freq             4    12403   \n",
       "\n",
       "                                                        Url  \\\n",
       "count                                                 14884   \n",
       "unique                                                14824   \n",
       "top     https://www.metacritic.com/movie/the-professionals/   \n",
       "freq                                                      2   \n",
       "\n",
       "                                                                                                                                                                                                                                                                                                                                                  Plot_summary  \\\n",
       "count                                                                                                                                                                                                                                                                                                                                                    14884   \n",
       "unique                                                                                                                                                                                                                                                                                                                                                   14822   \n",
       "top     Val, a hard-working live-in housekeeper in modern day Sao Paulo, is perfectly content to take care of every one of her wealthy employers’ needs, from cooking and cleaning to being a surrogate mother to their teenage son, who she has raised since he was a toddler. But when Val’s estranged daughter Jessica suddenly shows up the unspoken bu...   \n",
       "freq                                                                                                                                                                                                                                                                                                                                                         2   \n",
       "\n",
       "           Genres   Genre  \n",
       "count       14884   14884  \n",
       "unique       1746       9  \n",
       "top     ['Drama']  Comedy  \n",
       "freq         1063    3837  "
      ]
     },
     "execution_count": 24,
     "metadata": {},
     "output_type": "execute_result"
    }
   ],
   "source": [
    "df.describe(include='object')"
   ]
  },
  {
   "cell_type": "code",
   "execution_count": 25,
   "id": "0010e6e3-27b8-4b8e-8056-43d836f7caee",
   "metadata": {},
   "outputs": [],
   "source": [
    "#Data preprocessing"
   ]
  },
  {
   "cell_type": "code",
   "execution_count": 26,
   "id": "301141d3-2f63-4985-9d93-5d39220167c7",
   "metadata": {},
   "outputs": [
    {
     "data": {
      "text/plain": [
       "'This masterwork by Krzysztof Kieślowski is one of the twentieth century’s greatest achievements in visual storytelling. Originally made for Polish television, Dekalog focuses on the residents of a housing complex in late-Communist Poland, whose lives become subtly intertwined as they face emotional dilemmas that are at once deeply person...'"
      ]
     },
     "execution_count": 26,
     "metadata": {},
     "output_type": "execute_result"
    }
   ],
   "source": [
    "desc = df.Plot_summary[0]\n",
    "desc"
   ]
  },
  {
   "cell_type": "code",
   "execution_count": 27,
   "id": "99ba9cfb-af53-4f95-9224-5e130f7cc5cf",
   "metadata": {},
   "outputs": [
    {
     "data": {
      "text/plain": [
       "'This masterwork by Krzysztof Kieślowski is one of the twentieth century’s greatest achievements in v'"
      ]
     },
     "execution_count": 27,
     "metadata": {},
     "output_type": "execute_result"
    }
   ],
   "source": [
    "desc = df.Plot_summary[0]\n",
    "desc[:100]"
   ]
  },
  {
   "cell_type": "code",
   "execution_count": null,
   "id": "bcf1be15-c542-4b5f-84d2-99f9a0aff6a4",
   "metadata": {},
   "outputs": [],
   "source": []
  },
  {
   "cell_type": "markdown",
   "id": "db305876-bd3e-49f8-bfcd-9038fdb172aa",
   "metadata": {},
   "source": [
    "# **2. Data preprocessing**"
   ]
  },
  {
   "cell_type": "markdown",
   "id": "ec8596a3-daef-4a28-a14a-148db37b741c",
   "metadata": {},
   "source": [
    "# Using default Fastai's tokenizer along with Spacy\n",
    "\n",
    "The rules are all listed below, here is the meaning of the special tokens || [Documentaion](https://fastai1.fast.ai/text.transform.html) ||\n",
    "\n",
    "- **BOS (xxbos)** => Indicates the beginning of a text <br/>\n",
    "- **UNK (xxunk)** => Indicates the word is unknown <br/>\n",
    "- **PAD (xxpad)** => Token used for padding <br/>\n",
    "- **FLD (xxfld)** => Used to separate the different fields of texts <br/>\n",
    "- **TK_MAJ (xxmaj)** => Indicates the next word begins with a capital <br/>\n",
    "- **TK_REP (xxrep)** => Indicate the next character is repeated n times in the original text <br/>\n",
    "- **TK_UP (xxup)** => Indicate the next word is written in all caps in the original text <br/>\n",
    "- **TK_WREP(xxwrep)** => Indicate the next word is repeated n times in the original text <br/>"
   ]
  },
  {
   "cell_type": "code",
   "execution_count": 28,
   "id": "ff8f24ed-f62d-47db-89d0-4c7b27352aef",
   "metadata": {},
   "outputs": [
    {
     "name": "stdout",
     "output_type": "stream",
     "text": [
      "(#20) ['xxbos','xxmaj','this','masterwork','by','xxmaj','krzysztof','xxmaj','kieślowski','is','one','of','the','twentieth','century','’s','greatest','achievements','in','v']\n"
     ]
    }
   ],
   "source": [
    "spacy = SpacyTokenizer()\n",
    "tokenizer = Tokenizer(spacy)\n",
    "\n",
    "\n",
    "print(coll_repr(tokenizer(desc[:100]), 25))"
   ]
  },
  {
   "cell_type": "code",
   "execution_count": 29,
   "id": "bfc013c8-6d13-4b97-b4f7-27516b4c0e40",
   "metadata": {},
   "outputs": [
    {
     "data": {
      "text/plain": [
       "(#20) ['xxbos','xxmaj','this','masterwork','by','xxmaj','krzysztof','xxmaj','kieślowski','is'...]"
      ]
     },
     "execution_count": 29,
     "metadata": {},
     "output_type": "execute_result"
    }
   ],
   "source": [
    "x = tokenizer(desc[:100])\n",
    "x"
   ]
  },
  {
   "cell_type": "code",
   "execution_count": 30,
   "id": "ab11a19c-b4d9-469a-a819-6279544515f9",
   "metadata": {},
   "outputs": [
    {
     "name": "stdout",
     "output_type": "stream",
     "text": [
      "xxbos\n",
      "xxmaj\n",
      "this\n",
      "masterwork\n",
      "by\n",
      "xxmaj\n",
      "krzysztof\n",
      "xxmaj\n",
      "kieślowski\n",
      "is\n",
      "one\n",
      "of\n",
      "the\n",
      "twentieth\n",
      "century\n",
      "’s\n",
      "greatest\n",
      "achievements\n",
      "in\n",
      "v\n"
     ]
    }
   ],
   "source": [
    "for i in x:\n",
    "    print(i)"
   ]
  },
  {
   "cell_type": "code",
   "execution_count": null,
   "id": "3924a5e1-ed3d-4b95-a199-e6514fabacb5",
   "metadata": {},
   "outputs": [],
   "source": []
  },
  {
   "cell_type": "markdown",
   "id": "71555d4f-2a98-43a8-8f8a-0ed664434142",
   "metadata": {},
   "source": [
    "```defaults.text_proc_rules # Adds these process to tokenization by default```\n",
    "\n",
    "\n",
    "- <function fastai.text.core.fix_html(x)>,\n",
    "- <function fastai.text.core.replace_rep(t)>,\n",
    "- <function fastai.text.core.replace_wrep(t)>,\n",
    "- <function fastai.text.core.spec_add_spaces(t)>,\n",
    "- <function fastai.text.core.rm_useless_spaces(t)>,\n",
    "- <function fastai.text.core.replace_all_caps(t)>,\n",
    "- <function fastai.text.core.replace_maj(t)>,\n",
    "- <function fastai.text.core.lowercase(t, add_bos=True, add_eos=False)>\n",
    "\n",
    "<br/>\n",
    "\n",
    "- **fix_html** => Replaces special HTML characters with a readable version <br/>\n",
    "- **replace_rep** => Replaces any character repeated three times or more with a special token for repetition (xxrep), the number of times it's repeated, then the character <br/>\n",
    "- **replace_wrep** => Replaces any word repeated three times or more with a special token for word repetition (xxwrep), the number of times it's repeated, then the word <br/>\n",
    "- **spec_add_spaces** => Adds spaces around / and # <br/>\n",
    "- **rm_useless_spaces** => Removes all repetitions of the space character <br/>\n",
    "- **replace_all_caps** => Lowercases a word written in all caps and adds a special token for all caps (xxup) in front of it <br/>\n",
    "- **replace_maj** => Lowercases a capitalized word and adds a special token for capitalized (xxmaj) in front of it <br/>\n",
    "- **lowercase** => Lowercases all text and adds a special token at the beginning (xxbos) and/or the end (xxeos) <br/>"
   ]
  },
  {
   "cell_type": "code",
   "execution_count": null,
   "id": "d9190cf6-bcad-4571-b3c3-d0577c14f01d",
   "metadata": {},
   "outputs": [],
   "source": []
  },
  {
   "cell_type": "code",
   "execution_count": 31,
   "id": "364543ac-63fa-4653-af24-ecd26f81e91e",
   "metadata": {},
   "outputs": [
    {
     "data": {
      "text/html": [
       "<hr/>\n",
       "<h3>SentencePieceTokenizer</h3>\n",
       "<blockquote><pre><code>SentencePieceTokenizer(lang='en', special_toks=None, sp_model=None, vocab_sz=None, max_vocab_sz=30000, model_type='unigram', char_coverage=None, cache_dir='tmp')</code></pre></blockquote><p><i>SentencePiece tokenizer for `lang`</i></p>\n",
       "<p><a href=\"https://docs.fast.ai/text.core.html#sentencepiecetokenizer\" target=\"_blank\" rel=\"noreferrer noopener\">Show in docs</a></p>"
      ],
      "text/plain": [
       "<IPython.core.display.HTML object>"
      ]
     },
     "metadata": {},
     "output_type": "display_data"
    }
   ],
   "source": [
    "doc(SentencePieceTokenizer)"
   ]
  },
  {
   "cell_type": "markdown",
   "id": "b502abb7-2d13-4e4c-b2ee-cfa65883b9f3",
   "metadata": {},
   "source": [
    "[Documentaion](https://docs.fast.ai/text.core.html)\n",
    "\n",
    "\n",
    "```SentencePieceTokenizer is particularly useful in NLP tasks that require handling a large and diverse vocabulary, providing a robust way to convert text into a numerical format```"
   ]
  },
  {
   "cell_type": "code",
   "execution_count": 32,
   "id": "82e9717f-344f-4554-b82b-296ff1f2c681",
   "metadata": {},
   "outputs": [],
   "source": [
    "def subword(vocab_size):\n",
    "  sp_tokenizer = SentencePieceTokenizer(vocab_sz=vocab_size) \n",
    "  sp_tokenizer.setup(corpus) # Created corpus to create subword vocabulary\n",
    "  return \" \".join(first(sp_tokenizer([desc])))"
   ]
  },
  {
   "cell_type": "code",
   "execution_count": 33,
   "id": "0effc487-f0e9-4482-b8be-7c4dde868012",
   "metadata": {},
   "outputs": [
    {
     "data": {
      "text/plain": [
       "38754"
      ]
     },
     "execution_count": 33,
     "metadata": {},
     "output_type": "execute_result"
    }
   ],
   "source": [
    "corpus = df[\"Plot_summary\"]\n",
    "#corpus\n",
    "\n",
    "word_dict = {}\n",
    "\n",
    "for i in corpus:\n",
    "    x = tokenizer(i)\n",
    "    for j in x:\n",
    "        if j not in word_dict:\n",
    "            word_dict[j] = 1\n",
    "        else:\n",
    "            word_dict[j] += 1\n",
    "\n",
    "\n",
    "\n",
    "voc_list = list(word_dict.keys())\n",
    "len(voc_list)"
   ]
  },
  {
   "cell_type": "code",
   "execution_count": 34,
   "id": "29a631b0-73b2-41b0-a8da-1de973e60b94",
   "metadata": {},
   "outputs": [
    {
     "name": "stdout",
     "output_type": "stream",
     "text": [
      "38727\n"
     ]
    }
   ],
   "source": [
    "puncs = string.punctuation\n",
    "\n",
    "tag_list = [\"xxbos\",\"xxunk\",\"xxpad\",\"xxfld\",\"xxmaj\",\"xxrep\",\"xxup\",\"xxwrep\"]\n",
    "\n",
    "removed = []\n",
    "words = []\n",
    "\n",
    "for i in voc_list:\n",
    "    if i not in tag_list and i not in puncs:\n",
    "        words.append(i)\n",
    "    else:\n",
    "        removed.append(i)\n",
    "\n",
    "total_word = len(words)\n",
    "print(total_word)"
   ]
  },
  {
   "cell_type": "code",
   "execution_count": 35,
   "id": "2420ba36-b083-4a37-9941-bb0a282bd2a3",
   "metadata": {},
   "outputs": [
    {
     "name": "stdout",
     "output_type": "stream",
     "text": [
      "['xxbos', 'xxmaj', '.', ',', '-', '(', ')', ':', '?', '/', 'xxup', '\"', '$', 'xxrep', '[', ']', '!', ';', \"'\", '&', '+', '%', '#', '*', '=', '>', '@']\n",
      "\n",
      "27\n"
     ]
    }
   ],
   "source": [
    "print(removed)\n",
    "print()\n",
    "print(len(removed))"
   ]
  },
  {
   "cell_type": "code",
   "execution_count": null,
   "id": "3052b317-6c5b-40a7-84bf-d6c7d9d9f535",
   "metadata": {},
   "outputs": [],
   "source": []
  },
  {
   "cell_type": "markdown",
   "id": "9ce992ed-c92f-46b0-bcba-ac4ebf7cb5ea",
   "metadata": {},
   "source": [
    "**Since the dictionary is being saved based on character frequency (sorted), experimenting with different vocabulary sizes and finally the original vocab size of the corpus**\n",
    "\n"
   ]
  },
  {
   "cell_type": "code",
   "execution_count": 36,
   "id": "14a2b2a3-fd77-43f1-bf1e-aefe5c839e2c",
   "metadata": {},
   "outputs": [
    {
     "data": {
      "text/html": [
       "\n",
       "<style>\n",
       "    /* Turns off some styling */\n",
       "    progress {\n",
       "        /* gets rid of default border in Firefox and Opera. */\n",
       "        border: none;\n",
       "        /* Needs to be in here for Safari polyfill so background images work as expected. */\n",
       "        background-size: auto;\n",
       "    }\n",
       "    progress:not([value]), progress:not([value])::-webkit-progress-bar {\n",
       "        background: repeating-linear-gradient(45deg, #7e7e7e, #7e7e7e 10px, #5c5c5c 10px, #5c5c5c 20px);\n",
       "    }\n",
       "    .progress-bar-interrupted, .progress-bar-interrupted::-webkit-progress-bar {\n",
       "        background: #F44336;\n",
       "    }\n",
       "</style>\n"
      ],
      "text/plain": [
       "<IPython.core.display.HTML object>"
      ]
     },
     "metadata": {},
     "output_type": "display_data"
    },
    {
     "data": {
      "text/html": [],
      "text/plain": [
       "<IPython.core.display.HTML object>"
      ]
     },
     "metadata": {},
     "output_type": "display_data"
    },
    {
     "data": {
      "text/plain": [
       "'▁T hi s ▁ma s ter w or k ▁by ▁K r z y s z t o f ▁K ie ś l ow s k i ▁is ▁one ▁of ▁the ▁t w ent ie th ▁c ent ur y ’ s ▁gr e ate st ▁a ch ie ve ment s ▁in ▁ vi s u al ▁story t ell ing . ▁O ri g in ally ▁ma d e ▁for ▁P ol ish ▁ te le vi s ion , ▁D e k al o g ▁f o c us es ▁on ▁the ▁re s id ent s ▁of ▁a ▁h ous ing ▁comp le x ▁in ▁l ate - C om m un ist ▁P o land , ▁who se ▁l ive s ▁become ▁su b t ly ▁in ter t w in ed ▁as ▁the y ▁fa ce ▁ em o t ion al ▁di le m ma s ▁that ▁are ▁at ▁on ce ▁de ep ly ▁p er son ...'"
      ]
     },
     "execution_count": 36,
     "metadata": {},
     "output_type": "execute_result"
    }
   ],
   "source": [
    "subword(500)"
   ]
  },
  {
   "cell_type": "code",
   "execution_count": 37,
   "id": "2340121f-59d2-4861-a919-c98b327b1e7b",
   "metadata": {},
   "outputs": [
    {
     "data": {
      "text/html": [
       "\n",
       "<style>\n",
       "    /* Turns off some styling */\n",
       "    progress {\n",
       "        /* gets rid of default border in Firefox and Opera. */\n",
       "        border: none;\n",
       "        /* Needs to be in here for Safari polyfill so background images work as expected. */\n",
       "        background-size: auto;\n",
       "    }\n",
       "    progress:not([value]), progress:not([value])::-webkit-progress-bar {\n",
       "        background: repeating-linear-gradient(45deg, #7e7e7e, #7e7e7e 10px, #5c5c5c 10px, #5c5c5c 20px);\n",
       "    }\n",
       "    .progress-bar-interrupted, .progress-bar-interrupted::-webkit-progress-bar {\n",
       "        background: #F44336;\n",
       "    }\n",
       "</style>\n"
      ],
      "text/plain": [
       "<IPython.core.display.HTML object>"
      ]
     },
     "metadata": {},
     "output_type": "display_data"
    },
    {
     "data": {
      "text/html": [],
      "text/plain": [
       "<IPython.core.display.HTML object>"
      ]
     },
     "metadata": {},
     "output_type": "display_data"
    },
    {
     "name": "stdout",
     "output_type": "stream",
     "text": [
      "▁T hi s ▁ma s ter w or k ▁by ▁K r z y s z t o f ▁K ie ś l ow s k i ▁is ▁one ▁of ▁the ▁t w ent ie th ▁c ent ur y ’ s ▁gr e ate st ▁a ch ie ve ment s ▁in ▁ vi s u al ▁story t ell ing . ▁O ri g in ally ▁ma d e ▁for ▁P ol ish ▁ te le vi s ion , ▁D e k al o g ▁f o c us es ▁on ▁the ▁re s id ent s ▁of ▁a ▁h ous ing ▁comp le x ▁in ▁l ate - C om m un ist ▁P o land , ▁who se ▁l ive s ▁become ▁su b t ly ▁in ter t w in ed ▁as ▁the y ▁fa ce ▁ em o t ion al ▁di le m ma s ▁that ▁are ▁at ▁on ce ▁de ep ly ▁p er son ...\n"
     ]
    }
   ],
   "source": [
    "print(subword(500))"
   ]
  },
  {
   "cell_type": "code",
   "execution_count": 38,
   "id": "d10dcbf1-3c4d-4eae-bf39-d5e4c687b1c8",
   "metadata": {},
   "outputs": [
    {
     "data": {
      "text/html": [
       "\n",
       "<style>\n",
       "    /* Turns off some styling */\n",
       "    progress {\n",
       "        /* gets rid of default border in Firefox and Opera. */\n",
       "        border: none;\n",
       "        /* Needs to be in here for Safari polyfill so background images work as expected. */\n",
       "        background-size: auto;\n",
       "    }\n",
       "    progress:not([value]), progress:not([value])::-webkit-progress-bar {\n",
       "        background: repeating-linear-gradient(45deg, #7e7e7e, #7e7e7e 10px, #5c5c5c 10px, #5c5c5c 20px);\n",
       "    }\n",
       "    .progress-bar-interrupted, .progress-bar-interrupted::-webkit-progress-bar {\n",
       "        background: #F44336;\n",
       "    }\n",
       "</style>\n"
      ],
      "text/plain": [
       "<IPython.core.display.HTML object>"
      ]
     },
     "metadata": {},
     "output_type": "display_data"
    },
    {
     "data": {
      "text/html": [],
      "text/plain": [
       "<IPython.core.display.HTML object>"
      ]
     },
     "metadata": {},
     "output_type": "display_data"
    },
    {
     "data": {
      "text/plain": [
       "'▁This ▁ma ster work ▁by ▁K r z y s z t o f ▁K ie ś low s k i ▁is ▁one ▁of ▁the ▁t w ent ie th ▁century ’ s ▁great est ▁a ch ie ve ment s ▁in ▁v is u al ▁story t ell ing . ▁O ri g in ally ▁ma d e ▁for ▁P ol ish ▁t e le vi s ion , ▁De k al o g ▁focuse s ▁on ▁the ▁re s ident s ▁of ▁a ▁h ous ing ▁comp le x ▁in ▁l ate - C om m un ist ▁P o land , ▁who se ▁lives ▁become ▁su b t ly ▁in ter t w in ed ▁as ▁they ▁face ▁emotional ▁di le m ma s ▁that ▁are ▁at ▁on ce ▁de ep ly ▁p er son ...'"
      ]
     },
     "execution_count": 38,
     "metadata": {},
     "output_type": "execute_result"
    }
   ],
   "source": [
    "subword(1000)"
   ]
  },
  {
   "cell_type": "code",
   "execution_count": 39,
   "id": "7afec73b-34ee-44d2-b953-a3965aa0b6e5",
   "metadata": {},
   "outputs": [
    {
     "data": {
      "text/html": [
       "\n",
       "<style>\n",
       "    /* Turns off some styling */\n",
       "    progress {\n",
       "        /* gets rid of default border in Firefox and Opera. */\n",
       "        border: none;\n",
       "        /* Needs to be in here for Safari polyfill so background images work as expected. */\n",
       "        background-size: auto;\n",
       "    }\n",
       "    progress:not([value]), progress:not([value])::-webkit-progress-bar {\n",
       "        background: repeating-linear-gradient(45deg, #7e7e7e, #7e7e7e 10px, #5c5c5c 10px, #5c5c5c 20px);\n",
       "    }\n",
       "    .progress-bar-interrupted, .progress-bar-interrupted::-webkit-progress-bar {\n",
       "        background: #F44336;\n",
       "    }\n",
       "</style>\n"
      ],
      "text/plain": [
       "<IPython.core.display.HTML object>"
      ]
     },
     "metadata": {},
     "output_type": "display_data"
    },
    {
     "data": {
      "text/html": [],
      "text/plain": [
       "<IPython.core.display.HTML object>"
      ]
     },
     "metadata": {},
     "output_type": "display_data"
    },
    {
     "data": {
      "text/plain": [
       "'▁This ▁master work ▁by ▁K r zy s z t of ▁Ki e ś l owski ▁is ▁one ▁of ▁the ▁t w ent ie th ▁century ’ s ▁greatest ▁a chievement s ▁in ▁visual ▁storytelling . ▁Originally ▁made ▁for ▁Pol ish ▁television , ▁De k al og ▁focuse s ▁on ▁the ▁residents ▁of ▁a ▁hous ing ▁complex ▁in ▁late - Co mm un ist ▁Poland , ▁who se ▁lives ▁become ▁sub t ly ▁intertwined ▁as ▁they ▁face ▁emotional ▁dilemma s ▁that ▁are ▁at ▁once ▁deeply ▁person ...'"
      ]
     },
     "execution_count": 39,
     "metadata": {},
     "output_type": "execute_result"
    }
   ],
   "source": [
    "subword(10000)"
   ]
  },
  {
   "cell_type": "code",
   "execution_count": 40,
   "id": "008cf859-a1c5-46cd-9104-b17a9f314e1c",
   "metadata": {},
   "outputs": [
    {
     "data": {
      "text/html": [
       "\n",
       "<style>\n",
       "    /* Turns off some styling */\n",
       "    progress {\n",
       "        /* gets rid of default border in Firefox and Opera. */\n",
       "        border: none;\n",
       "        /* Needs to be in here for Safari polyfill so background images work as expected. */\n",
       "        background-size: auto;\n",
       "    }\n",
       "    progress:not([value]), progress:not([value])::-webkit-progress-bar {\n",
       "        background: repeating-linear-gradient(45deg, #7e7e7e, #7e7e7e 10px, #5c5c5c 10px, #5c5c5c 20px);\n",
       "    }\n",
       "    .progress-bar-interrupted, .progress-bar-interrupted::-webkit-progress-bar {\n",
       "        background: #F44336;\n",
       "    }\n",
       "</style>\n"
      ],
      "text/plain": [
       "<IPython.core.display.HTML object>"
      ]
     },
     "metadata": {},
     "output_type": "display_data"
    },
    {
     "data": {
      "text/html": [],
      "text/plain": [
       "<IPython.core.display.HTML object>"
      ]
     },
     "metadata": {},
     "output_type": "display_data"
    },
    {
     "data": {
      "text/plain": [
       "'▁This ▁master work ▁by ▁K rzy sz t of ▁Kieślowski ▁is ▁one ▁of ▁the ▁twentieth ▁century ’ s ▁greatest ▁achievements ▁in ▁visual ▁storytelling . ▁Originally ▁made ▁for ▁Pol ish ▁television , ▁Dek alog ▁focuse s ▁on ▁the ▁residents ▁of ▁a ▁hous ing ▁complex ▁in ▁late - Communist ▁Poland , ▁who se ▁lives ▁become ▁subtl y ▁intertwined ▁as ▁they ▁face ▁emotional ▁dilemmas ▁that ▁are ▁at ▁once ▁deeply ▁person ...'"
      ]
     },
     "execution_count": 40,
     "metadata": {},
     "output_type": "execute_result"
    }
   ],
   "source": [
    "subword(1000000)"
   ]
  },
  {
   "cell_type": "code",
   "execution_count": 41,
   "id": "8a5e9e2d-ae58-492b-ba04-6cf12a5a8220",
   "metadata": {},
   "outputs": [
    {
     "data": {
      "text/html": [
       "\n",
       "<style>\n",
       "    /* Turns off some styling */\n",
       "    progress {\n",
       "        /* gets rid of default border in Firefox and Opera. */\n",
       "        border: none;\n",
       "        /* Needs to be in here for Safari polyfill so background images work as expected. */\n",
       "        background-size: auto;\n",
       "    }\n",
       "    progress:not([value]), progress:not([value])::-webkit-progress-bar {\n",
       "        background: repeating-linear-gradient(45deg, #7e7e7e, #7e7e7e 10px, #5c5c5c 10px, #5c5c5c 20px);\n",
       "    }\n",
       "    .progress-bar-interrupted, .progress-bar-interrupted::-webkit-progress-bar {\n",
       "        background: #F44336;\n",
       "    }\n",
       "</style>\n"
      ],
      "text/plain": [
       "<IPython.core.display.HTML object>"
      ]
     },
     "metadata": {},
     "output_type": "display_data"
    },
    {
     "data": {
      "text/html": [],
      "text/plain": [
       "<IPython.core.display.HTML object>"
      ]
     },
     "metadata": {},
     "output_type": "display_data"
    },
    {
     "data": {
      "text/plain": [
       "'▁This ▁master work ▁by ▁K rzy sz t of ▁Kieślowski ▁is ▁one ▁of ▁the ▁twentieth ▁century ’ s ▁greatest ▁achievements ▁in ▁visual ▁storytelling . ▁Originally ▁made ▁for ▁Pol ish ▁television , ▁Dek alog ▁focuse s ▁on ▁the ▁residents ▁of ▁a ▁hous ing ▁complex ▁in ▁late - Communist ▁Poland , ▁who se ▁lives ▁become ▁subtl y ▁intertwined ▁as ▁they ▁face ▁emotional ▁dilemmas ▁that ▁are ▁at ▁once ▁deeply ▁person ...'"
      ]
     },
     "execution_count": 41,
     "metadata": {},
     "output_type": "execute_result"
    }
   ],
   "source": [
    "subword(total_word)"
   ]
  },
  {
   "cell_type": "code",
   "execution_count": null,
   "id": "5faae8ad-2f73-4228-9d8c-6e63e82db698",
   "metadata": {},
   "outputs": [],
   "source": []
  },
  {
   "cell_type": "markdown",
   "id": "4164d9f8-89ba-426b-ab5b-293bd0b52d51",
   "metadata": {},
   "source": [
    "# Numericalization\n",
    "\n",
    "**Process of mapping tokens into integers. We use the vocabulary index to map this.**"
   ]
  },
  {
   "cell_type": "code",
   "execution_count": 42,
   "id": "9992c24f-a5d2-4870-8d54-7109d924a0c7",
   "metadata": {},
   "outputs": [
    {
     "data": {
      "text/html": [
       "<hr/>\n",
       "<h3>Numericalize</h3>\n",
       "<blockquote><pre><code>Numericalize(vocab=None, min_freq=3, max_vocab=60000, special_toks=None)</code></pre></blockquote><p><i>Reversible transform of tokenized texts to numericalized ids</i></p>\n",
       "<p><a href=\"https://docs.fast.ai/text.data.html#numericalize\" target=\"_blank\" rel=\"noreferrer noopener\">Show in docs</a></p>"
      ],
      "text/plain": [
       "<IPython.core.display.HTML object>"
      ]
     },
     "metadata": {},
     "output_type": "display_data"
    }
   ],
   "source": [
    "doc(Numericalize)"
   ]
  },
  {
   "cell_type": "code",
   "execution_count": 43,
   "id": "5e4057d2-15f7-4f49-a280-9f1726b5ea2e",
   "metadata": {},
   "outputs": [
    {
     "data": {
      "text/plain": [
       "0                                                  [xxbos, xxmaj, this, masterwork, by, xxmaj, krzysztof, xxmaj, kieślowski, is, one, of, the, twentieth, century, ’s, greatest, achievements, in, visual, storytelling, ., xxmaj, originally, made, for, xxmaj, polish, television, ,, xxmaj, dekalog, focuses, on, the, residents, of, a, housing, complex, in, late, -, communist, xxmaj, poland, ,, whose, lives, become, subtly, intertwined, as, they, face, emotional, dilemmas, that, are, at, once, deeply, person, …]\n",
       "1        [xxbos, xxmaj, francis, xxmaj, ford, xxmaj, coppola, 's, epic, features, xxmaj, marlon, xxmaj, brando, in, his, xxmaj, oscar, -, winning, role, as, the, patriarch, of, the, xxmaj, corleone, family, ., xxmaj, director, xxmaj, coppola, paints, a, chilling, portrait, of, the, xxmaj, sicilian, clan, 's, rise, and, near, fall, from, power, in, xxmaj, america, ,, masterfully, balancing, the, story, between, the, xxmaj, corleone, 's, family, life, and, the, ugly, crime, business, in, which, they, are, …]\n",
       "2                                                                                                                                                                                                                                                                                                          [xxbos, xxmaj, the, 40th, anniversary, re, -, release, of, xxmaj, david, xxmaj, lean, 's, 1962, masterpiece, ,, starring, xxmaj, peter, o'toole, in, one, of, the, most, electrifying, debuts, in, film, history, .]\n",
       "3                                                                                                                                                               [xxbos, xxmaj, set, in, xxmaj, sicily, in, 1860, ,, xxmaj, luchino, xxmaj, visconti, 's, spectacular, 1963, adaptation, of, xxmaj, giuseppe, di, xxmaj, lampedusa, 's, international, bestseller, is, one, of, the, cinema, 's, greatest, evocations, of, the, past, ,, achingly, depicting, the, passing, of, an, ancient, order, ., (, film, xxmaj, forum, )]\n",
       "4                                                                                                                                               [xxbos, xxmaj, set, in, xxmaj, rome, in, the, 1930s, ,, this, re, -, release, of, xxmaj, bernardo, xxmaj, bertolucci, 's, 1970, breakthrough, feature, stars, jean, -, louis, xxmaj, trintignant, as, a, xxmaj, mussolini, operative, sent, to, xxmaj, paris, to, locate, and, eliminate, an, old, professor, who, fled, xxmaj, italy, when, the, fascists, came, to, power, .]\n",
       "                                                                                                                                                                                                                                                                  ...                                                                                                                                                                                                                                                          \n",
       "14879      [xxbos, xxmaj, cavemen, revolves, around, xxmaj, joel, ,, his, younger, brother, xxmaj, andy, and, best, friend, xxmaj, nick, ., xxmaj, joel, is, engaged, to, xxmaj, kate, ., xxmaj, even, though, he, has, some, problems, with, her, conservative, parents, accepting, him, ,, he, is, happy, with, his, life, and, pursuing, the, xxmaj, american, xxmaj, dream, ., xxmaj, the, pilot, is, based, on, the, xxmaj, geico, commercials, that, claim, their, service, is, so, easy, ,, \", even, a, caveman, can, …]\n",
       "14880                                                                                                                                                                                                                                                                  [xxbos, xxmaj, after, they, are, laid, off, ,, xxmaj, lee, xxmaj, standish, (, ben, xxmaj, koldyke, ), and, xxmaj, angel, xxmaj, ortiz, (, amaury, xxmaj, nolasco, ), dress, up, as, women, to, get, new, jobs, as, pharmaceutical, sales, wo(men, ), .]\n",
       "14881                             [xxbos, \", category, 7, :, xxmaj, the, xxmaj, end, of, the, xxmaj, world, \", picks, up, where, \", category, 6, :, xxmaj, day, of, xxmaj, destruction, \", left, off, ., xxmaj, the, city, of, xxmaj, chicago, has, been, destroyed, by, a, monstrous, storm, and, as, the, storm, gathers, strength, ,, it, threatens, to, ravage, the, rest, of, the, world, ., a, television, evangelist, and, his, wife, prey, on, the, nation, ’s, fears, by, broadcasting, warnings, of, biblical, pl, …]\n",
       "14882                                               [xxbos, xxmaj, lt, ., xxmaj, beth, xxmaj, davis, (, maggie, xxup, q, ), leads, the, xxmaj, threat, xxmaj, assessment, xxmaj, unit, of, the, xxmaj, los, xxmaj, angeles, xxmaj, police, xxmaj, department, that, includes, recent, transfer, xxmaj, det, ., xxmaj, jack, xxmaj, larsen, (, mcdermott, ), ,, xxmaj, det, ., xxmaj, ben, xxmaj, caldwell, (, victor, xxmaj, rasuk, ), ,, and, xxmaj, det, ., xxmaj, janice, xxmaj, lawrence, (, mariana, xxmaj, klaveno, ), .]\n",
       "14883                                                                                                                                                                                                              [xxbos, xxmaj, the, lives, of, video, game, company, co, -, founders, xxmaj, eli, and, xxmaj, warner, (, seth, xxmaj, green, and, xxmaj, giovanni, xxmaj, ribisi, ), are, turned, upside, down, when, their, fathers, (, peter, xxmaj, riegert, and, xxmaj, martin, xxmaj, mull, ), move, in, with, them, .]\n",
       "Name: Plot_summary, Length: 14884, dtype: object"
      ]
     },
     "execution_count": 43,
     "metadata": {},
     "output_type": "execute_result"
    }
   ],
   "source": [
    "tokens = corpus.map(tokenizer)\n",
    "tokens"
   ]
  },
  {
   "cell_type": "code",
   "execution_count": 44,
   "id": "13ef19ef-c830-4b0b-876c-e294f143e57e",
   "metadata": {},
   "outputs": [
    {
     "data": {
      "text/plain": [
       "\"(#15808) ['xxunk','xxpad','xxbos','xxeos','xxfld','xxrep','xxwrep','xxup','xxmaj','the',',','a','.','of','and','to','in','(',')','-'...]\""
      ]
     },
     "execution_count": 44,
     "metadata": {},
     "output_type": "execute_result"
    }
   ],
   "source": [
    "num = Numericalize()\n",
    "num.setup(tokens)\n",
    "\n",
    "coll_repr(num.vocab,20)"
   ]
  },
  {
   "cell_type": "code",
   "execution_count": null,
   "id": "aba88966-f284-4d53-ba61-b31f018d1407",
   "metadata": {},
   "outputs": [],
   "source": []
  },
  {
   "cell_type": "markdown",
   "id": "ea95964a-13f2-4d98-9aaf-efa579fe5c91",
   "metadata": {},
   "source": [
    "**Text vs Tokens Vs Encodings**"
   ]
  },
  {
   "cell_type": "code",
   "execution_count": 45,
   "id": "d3b3ae9e-17d1-4fa8-98e4-a90e9a78f57f",
   "metadata": {},
   "outputs": [
    {
     "name": "stdout",
     "output_type": "stream",
     "text": [
      "Text\n",
      "\n",
      "This masterwork by Krzysztof Kieślowski is one of the twentieth century’s greatest achievements in visual storytelling. Originally made for Polish television, Dekalog focuses on the residents of a housing complex in late-Communist Poland, whose lives become subtly intertwined as they face emotional dilemmas that are at once deeply person...\n",
      "\n",
      "342\n",
      "\n",
      "==============================================================================\n",
      "\n",
      "Tokens\n",
      "\n",
      "['xxbos', 'xxmaj', 'this', 'masterwork', 'by', 'xxmaj', 'krzysztof', 'xxmaj', 'kieślowski', 'is', 'one', 'of', 'the', 'twentieth', 'century', '’s', 'greatest', 'achievements', 'in', 'visual', 'storytelling', '.', 'xxmaj', 'originally', 'made', 'for', 'xxmaj', 'polish', 'television', ',', 'xxmaj', 'dekalog', 'focuses', 'on', 'the', 'residents', 'of', 'a', 'housing', 'complex', 'in', 'late', '-', 'communist', 'xxmaj', 'poland', ',', 'whose', 'lives', 'become', 'subtly', 'intertwined', 'as', 'they', 'face', 'emotional', 'dilemmas', 'that', 'are', 'at', 'once', 'deeply', 'person', '…']\n",
      "\n",
      "64\n",
      "\n",
      "==============================================================================\n",
      "\n",
      "Encodings\n",
      "\n",
      "TensorText([    2,     8,    37,     0,    29,     8, 12759,     8,     0,\n",
      "               21,    48,    13,     9,  2735,   201,    45,   707,  7051,\n",
      "               16,  4475,  5670,    12,     8,   712,   379,    28,     8,\n",
      "             3862,   530,    10,     8,     0,   464,    25,     9,  1341,\n",
      "               13,    11,  3027,  1005,    16,   398,    19,  4476,     8,\n",
      "             4027,    10,   173,    77,   156,     0,  4720,    30,    42,\n",
      "              269,   879,  9563,    35,    47,    40,   252,  1253,   826,\n",
      "               22])\n",
      "\n",
      "64\n",
      "\n",
      "==============================================================================\n",
      "\n",
      "Decodings\n",
      "\n",
      "xxbos xxmaj this xxunk by xxmaj krzysztof xxmaj xxunk is one of the twentieth century ’s greatest achievements in visual storytelling . xxmaj originally made for xxmaj polish television , xxmaj xxunk focuses on the residents of a housing complex in late - communist xxmaj poland , whose lives become xxunk intertwined as they face emotional dilemmas that are at once deeply person …\n",
      "\n",
      "382\n"
     ]
    }
   ],
   "source": [
    "print(\"Text\")\n",
    "print()\n",
    "print(corpus[0])\n",
    "print()\n",
    "print(len(corpus[0]))\n",
    "\n",
    "print()\n",
    "print(\"==============================================================================\")\n",
    "print()\n",
    "\n",
    "print(\"Tokens\")\n",
    "print()\n",
    "print(tokens[0])\n",
    "print()\n",
    "print(len(tokens[0]))\n",
    "\n",
    "print()\n",
    "print(\"==============================================================================\")\n",
    "print()\n",
    "\n",
    "print(\"Encodings\")\n",
    "print()\n",
    "print(num(tokens[0]))\n",
    "print()\n",
    "print(len(num(tokens[0])))\n",
    "\n",
    "print()\n",
    "print(\"==============================================================================\")\n",
    "print()\n",
    "\n",
    "nums = num(tokens[0])\n",
    "print(\"Decodings\")\n",
    "print()\n",
    "decoded = ' '.join(num.vocab[o] for o in nums)\n",
    "print(decoded)\n",
    "print()\n",
    "print(len(decoded))"
   ]
  },
  {
   "cell_type": "code",
   "execution_count": null,
   "id": "3c45a29e-a6b4-4974-a781-c9280c4c404e",
   "metadata": {},
   "outputs": [],
   "source": []
  },
  {
   "cell_type": "markdown",
   "id": "cf6bf037-f2b0-4653-9172-2aa3260f4958",
   "metadata": {},
   "source": [
    "# **3. Language Modeling**"
   ]
  },
  {
   "cell_type": "markdown",
   "id": "068f95c9-c2cd-4982-90df-b9cd0a192794",
   "metadata": {},
   "source": [
    "**Prepping data for LMs**"
   ]
  },
  {
   "cell_type": "code",
   "execution_count": 46,
   "id": "2949b4ea-7570-4e27-b484-16f292410594",
   "metadata": {},
   "outputs": [],
   "source": [
    "# dls_lm = TextDataLoaders.from_df(df, text_col='Plot_summary',is_lm=True, \n",
    "#                                  bs=16,  # batch size\n",
    "#                                  seq_len=512, # maximum sequence length\n",
    "#                                  splitter = RandomSplitter(valid_pct=0.1, seed=42))"
   ]
  },
  {
   "cell_type": "code",
   "execution_count": 47,
   "id": "86aeea3e-ad22-4de9-bfde-852977ea1e43",
   "metadata": {},
   "outputs": [
    {
     "name": "stdout",
     "output_type": "stream",
     "text": [
      "Due to IPython and Windows limitation, python multiprocessing isn't available now.\n",
      "So `n_workers` has to be changed to 0 to avoid getting stuck\n"
     ]
    }
   ],
   "source": [
    "dls_lm = TextDataLoaders.from_df(df, \n",
    "                              text_col = 'Plot_summary', \n",
    "                              label_col = 'Genre', \n",
    "                              bs = 16, \n",
    "                              seq_len = 512, \n",
    "                              splitter = RandomSplitter(valid_pct=0.1, seed=42))"
   ]
  },
  {
   "cell_type": "code",
   "execution_count": 48,
   "id": "a7aa567e-882c-417a-82dc-5ff155fbb00c",
   "metadata": {},
   "outputs": [
    {
     "data": {
      "text/html": [
       "<table border=\"1\" class=\"dataframe\">\n",
       "  <thead>\n",
       "    <tr style=\"text-align: right;\">\n",
       "      <th></th>\n",
       "      <th>text</th>\n",
       "      <th>category</th>\n",
       "    </tr>\n",
       "  </thead>\n",
       "  <tbody>\n",
       "    <tr>\n",
       "      <th>0</th>\n",
       "      <td>xxbos xxmaj the night shift at xxmaj san xxmaj antonio xxmaj memorial includes manager xxmaj michael xxmaj xxunk ( freddy xxmaj rodriguez ) , xxmaj afghanistan vet xxmaj dr . xxup xxunk xxmaj callahan ( xxunk xxmaj xxunk ) , xxmaj dr . xxmaj jordan xxmaj alexander ( jill xxmaj flint ) , xxmaj dr . xxmaj xxunk xxmaj xxunk ( ken xxmaj leung ) , xxmaj dr . xxmaj drew xxmaj xxunk ( brendan xxmaj fehr ) , xxmaj dr . xxmaj landry de la xxmaj cruz ( xxunk xxmaj alonso ) , resident xxmaj paul xxmaj cummings ( robert xxmaj bailey xxmaj jr . ) , nurse xxmaj kenny ( jr xxmaj xxunk …</td>\n",
       "      <td>Drama</td>\n",
       "    </tr>\n",
       "    <tr>\n",
       "      <th>1</th>\n",
       "      <td>xxbos xxmaj during xxmaj world xxmaj war xxup ii in 1941 , xxmaj lt . xxmaj david xxmaj xxunk ( connor xxmaj xxunk ) , xxmaj lt . xxmaj robert xxmaj blair ‘ paddy ’ xxmaj xxunk ( jack o’connell ) and xxmaj lt . xxmaj john ‘ jock ’ xxmaj xxunk ( alfie xxmaj allen ) are some of the soldiers who formed the xxmaj british xxmaj army 's xxmaj special xxmaj air xxmaj service ( sas ) in xxmaj steven xxmaj knight 's adaptation of xxmaj ben xxunk 's book \" sas : xxmaj rogue xxmaj heroes . \" [ premieres in the xxup uk unde …</td>\n",
       "      <td>Action</td>\n",
       "    </tr>\n",
       "    <tr>\n",
       "      <th>2</th>\n",
       "      <td>xxbos xxmaj now that xxmaj greg xxmaj xxunk ( stiller ) is \" in \" with his soon - to - be in - laws , xxmaj jack ( de xxmaj niro ) and xxmaj dina ( danner ) xxmaj xxunk , it looks like smooth sailing for him and his fiancée , xxmaj pam ( polo ) . xxmaj but that 's before xxmaj pam 's parents meet xxmaj greg 's parents , xxmaj bernie and xxmaj xxunk xxmaj xxunk ( hoffman and xxmaj streisand ) . xxmaj the hyper - relaxed xxmaj xxunk and the tightly - wound xxmaj xxunk are xxunk …</td>\n",
       "      <td>Comedy</td>\n",
       "    </tr>\n",
       "  </tbody>\n",
       "</table>"
      ],
      "text/plain": [
       "<IPython.core.display.HTML object>"
      ]
     },
     "metadata": {},
     "output_type": "display_data"
    }
   ],
   "source": [
    "dls_lm.show_batch(max_n=3)"
   ]
  },
  {
   "cell_type": "code",
   "execution_count": 50,
   "id": "45d47d65-1245-4c35-aef3-3a9aeb897737",
   "metadata": {},
   "outputs": [],
   "source": [
    "torch.save(dls_lm, \"dataloaders/lm_dls.pkl\")"
   ]
  },
  {
   "cell_type": "code",
   "execution_count": 51,
   "id": "d646a14d-5e53-459c-9280-20a8882dc646",
   "metadata": {},
   "outputs": [],
   "source": [
    "dls_lm = torch.load(\"dataloaders/lm_dls.pkl\")"
   ]
  },
  {
   "cell_type": "code",
   "execution_count": null,
   "id": "d48c2f69-d318-45fe-9545-3f25889e66e9",
   "metadata": {},
   "outputs": [],
   "source": []
  },
  {
   "cell_type": "code",
   "execution_count": null,
   "id": "bb44424d-33ef-4add-bb59-1c8ef3d15abd",
   "metadata": {},
   "outputs": [],
   "source": []
  },
  {
   "cell_type": "markdown",
   "id": "1be76466-d242-47b2-9834-f76c226efd67",
   "metadata": {},
   "source": [
    "**Modeling**"
   ]
  },
  {
   "cell_type": "code",
   "execution_count": 52,
   "id": "46f95342-df88-40b9-b294-c90ed17f3aa5",
   "metadata": {},
   "outputs": [
    {
     "data": {
      "text/html": [
       "<hr/>\n",
       "<h3>AWD_LSTM</h3>\n",
       "<blockquote><pre><code>AWD_LSTM(vocab_sz:int, emb_sz:int, n_hid:int, n_layers:int, pad_token:int=1, hidden_p:float=0.2, input_p:float=0.6, embed_p:float=0.1, weight_p:float=0.5, bidir:bool=False)</code></pre></blockquote><p><i>AWD-LSTM inspired by https://arxiv.org/abs/1708.02182</i></p>\n",
       "<p><a href=\"https://docs.fast.ai/text.models.awdlstm.html#awd_lstm\" target=\"_blank\" rel=\"noreferrer noopener\">Show in docs</a></p>"
      ],
      "text/plain": [
       "<IPython.core.display.HTML object>"
      ]
     },
     "metadata": {},
     "output_type": "display_data"
    },
    {
     "name": "stdout",
     "output_type": "stream",
     "text": [
      "None\n"
     ]
    },
    {
     "data": {
      "text/html": [
       "<hr/>\n",
       "<h3>language_model_learner</h3>\n",
       "<blockquote><pre><code>language_model_learner(dls, arch, config=None, drop_mult=1.0, backwards=False, pretrained=True, pretrained_fnames=None, loss_func:callable|None=None, opt_func:Optimizer|OptimWrapper=<function Adam>, lr:float|slice=0.001, splitter:callable=<function trainable_params>, cbs:Callback|MutableSequence|None=None, metrics:callable|MutableSequence|None=None, path:str|Path|None=None, model_dir:str|Path='models', wd:float|int|None=None, wd_bn_bias:bool=False, train_bn:bool=True, moms:tuple=(0.95, 0.85, 0.95), default_cbs:bool=True)</code></pre></blockquote><p><i>Create a `Learner` with a language model from `dls` and `arch`.</i></p>\n",
       "<p><a href=\"https://docs.fast.ai/text.learner.html#language_model_learner\" target=\"_blank\" rel=\"noreferrer noopener\">Show in docs</a></p>"
      ],
      "text/plain": [
       "<IPython.core.display.HTML object>"
      ]
     },
     "metadata": {},
     "output_type": "display_data"
    },
    {
     "name": "stdout",
     "output_type": "stream",
     "text": [
      "None\n"
     ]
    },
    {
     "data": {
      "text/html": [
       "<hr/>\n",
       "<h3>Perplexity</h3>\n",
       "<blockquote><pre><code>Perplexity()</code></pre></blockquote><p><i>Perplexity (exponential of cross-entropy loss) for Language Models</i></p>\n",
       "<p><a href=\"https://docs.fast.ai/metrics.html#perplexity\" target=\"_blank\" rel=\"noreferrer noopener\">Show in docs</a></p>"
      ],
      "text/plain": [
       "<IPython.core.display.HTML object>"
      ]
     },
     "metadata": {},
     "output_type": "display_data"
    },
    {
     "name": "stdout",
     "output_type": "stream",
     "text": [
      "None\n"
     ]
    }
   ],
   "source": [
    "print(doc(AWD_LSTM)) #A pretrained LSTM model on Wikipedia Corpus\n",
    "print(doc(language_model_learner))\n",
    "print(doc(Perplexity))"
   ]
  },
  {
   "cell_type": "code",
   "execution_count": 53,
   "id": "74c028f0-98e2-4cb2-b0ae-9505bb7855a3",
   "metadata": {},
   "outputs": [],
   "source": [
    "# learner = language_model_learner(\n",
    "#     dls_lm,     # Dataloader\n",
    "#     AWD_LSTM,   # Architecture of the language model I want to use\n",
    "#     drop_mult=0.3, # Dropout rates in the mode\n",
    "#     metrics=[accuracy, Perplexity()]).to_fp16()"
   ]
  },
  {
   "cell_type": "code",
   "execution_count": 54,
   "id": "fcad585f-0a62-4eb2-ac34-833a70cdc871",
   "metadata": {},
   "outputs": [],
   "source": [
    "learner = text_classifier_learner(\n",
    "                                dls_lm, \n",
    "                                AWD_LSTM, \n",
    "                                drop_mult=0.5, \n",
    "                                metrics=[accuracy, Perplexity()]).to_fp16()"
   ]
  },
  {
   "cell_type": "code",
   "execution_count": 55,
   "id": "c88d135c-0874-497f-b61f-e09bb7383cb3",
   "metadata": {},
   "outputs": [
    {
     "data": {
      "text/plain": [
       "SequentialRNN(\n",
       "  (0): SentenceEncoder(\n",
       "    (module): AWD_LSTM(\n",
       "      (encoder): Embedding(15808, 400, padding_idx=1)\n",
       "      (encoder_dp): EmbeddingDropout(\n",
       "        (emb): Embedding(15808, 400, padding_idx=1)\n",
       "      )\n",
       "      (rnns): ModuleList(\n",
       "        (0): WeightDropout(\n",
       "          (module): LSTM(400, 1152, batch_first=True)\n",
       "        )\n",
       "        (1): WeightDropout(\n",
       "          (module): LSTM(1152, 1152, batch_first=True)\n",
       "        )\n",
       "        (2): WeightDropout(\n",
       "          (module): LSTM(1152, 400, batch_first=True)\n",
       "        )\n",
       "      )\n",
       "      (input_dp): RNNDropout()\n",
       "      (hidden_dps): ModuleList(\n",
       "        (0-2): 3 x RNNDropout()\n",
       "      )\n",
       "    )\n",
       "  )\n",
       "  (1): PoolingLinearClassifier(\n",
       "    (layers): Sequential(\n",
       "      (0): LinBnDrop(\n",
       "        (0): BatchNorm1d(1200, eps=1e-05, momentum=0.1, affine=True, track_running_stats=True)\n",
       "        (1): Dropout(p=0.2, inplace=False)\n",
       "        (2): Linear(in_features=1200, out_features=50, bias=False)\n",
       "        (3): ReLU(inplace=True)\n",
       "      )\n",
       "      (1): LinBnDrop(\n",
       "        (0): BatchNorm1d(50, eps=1e-05, momentum=0.1, affine=True, track_running_stats=True)\n",
       "        (1): Dropout(p=0.1, inplace=False)\n",
       "        (2): Linear(in_features=50, out_features=9, bias=False)\n",
       "      )\n",
       "    )\n",
       "  )\n",
       ")"
      ]
     },
     "execution_count": 55,
     "metadata": {},
     "output_type": "execute_result"
    }
   ],
   "source": [
    "learner.model"
   ]
  },
  {
   "cell_type": "code",
   "execution_count": null,
   "id": "0e0640d5-4bf0-4ded-95ad-ee8be790f90c",
   "metadata": {},
   "outputs": [],
   "source": []
  },
  {
   "cell_type": "markdown",
   "id": "0128925c-85d4-4491-8681-2cde27473cc5",
   "metadata": {},
   "source": [
    "**Note:** ```out_features=15808``` is the vocab size"
   ]
  },
  {
   "cell_type": "code",
   "execution_count": 56,
   "id": "41595def-03ba-406e-949f-68bc5a586b2d",
   "metadata": {},
   "outputs": [
    {
     "data": {
      "text/plain": [
       "15808"
      ]
     },
     "execution_count": 56,
     "metadata": {},
     "output_type": "execute_result"
    }
   ],
   "source": [
    "# dls_lm.vocab\n",
    "len(dls_lm.vocab[0])"
   ]
  },
  {
   "cell_type": "markdown",
   "id": "63f09dc8-5788-475a-9aad-32486d2ed9f7",
   "metadata": {},
   "source": [
    "**Stage 0**"
   ]
  },
  {
   "cell_type": "code",
   "execution_count": 57,
   "id": "e9000a61-f53a-4123-bbbe-67f1bda85960",
   "metadata": {},
   "outputs": [],
   "source": [
    "learner.freeze() #Freezing all the layers"
   ]
  },
  {
   "cell_type": "code",
   "execution_count": 58,
   "id": "bcfe1497-1807-4499-8460-b3ddbce80150",
   "metadata": {},
   "outputs": [
    {
     "data": {
      "text/html": [
       "\n",
       "<style>\n",
       "    /* Turns off some styling */\n",
       "    progress {\n",
       "        /* gets rid of default border in Firefox and Opera. */\n",
       "        border: none;\n",
       "        /* Needs to be in here for Safari polyfill so background images work as expected. */\n",
       "        background-size: auto;\n",
       "    }\n",
       "    progress:not([value]), progress:not([value])::-webkit-progress-bar {\n",
       "        background: repeating-linear-gradient(45deg, #7e7e7e, #7e7e7e 10px, #5c5c5c 10px, #5c5c5c 20px);\n",
       "    }\n",
       "    .progress-bar-interrupted, .progress-bar-interrupted::-webkit-progress-bar {\n",
       "        background: #F44336;\n",
       "    }\n",
       "</style>\n"
      ],
      "text/plain": [
       "<IPython.core.display.HTML object>"
      ]
     },
     "metadata": {},
     "output_type": "display_data"
    },
    {
     "data": {
      "text/html": [],
      "text/plain": [
       "<IPython.core.display.HTML object>"
      ]
     },
     "metadata": {},
     "output_type": "display_data"
    },
    {
     "name": "stdout",
     "output_type": "stream",
     "text": [
      "Suggested learning rate (slide): 0.02290867641568184\n",
      "Suggested learning rate (valley): 0.0030199517495930195\n",
      "Average learning rate: 0.01296431408263743\n",
      "Suggested ALR: 12.96e-3\n"
     ]
    },
    {
     "data": {
      "image/png": "[encoded data removed]",
      "text/plain": [
       "<Figure size 640x480 with 1 Axes>"
      ]
     },
     "metadata": {},
     "output_type": "display_data"
    }
   ],
   "source": [
    "lr_min, lr_steep = learner.lr_find(suggest_funcs=(\n",
    "    slide, # suggests a learning rate based on the point where the loss starts to decrease most steeply\n",
    "    valley # suggests a learning rate based on the point where the loss reaches its lowest value before increasing again\n",
    "))\n",
    "\n",
    "print(f\"Suggested learning rate (slide): {lr_min}\")\n",
    "print(f\"Suggested learning rate (valley): {lr_steep}\")\n",
    "average_lr = (lr_min + lr_steep) / 2\n",
    "print(f\"Average learning rate: {average_lr}\")\n",
    "sugg_alr = round((average_lr*1000),2)\n",
    "print(f\"Suggested ALR: {sugg_alr}e-3\")"
   ]
  },
  {
   "cell_type": "code",
   "execution_count": null,
   "id": "9df31881-c8c4-4168-b84a-0fd17f29c337",
   "metadata": {},
   "outputs": [],
   "source": []
  },
  {
   "cell_type": "code",
   "execution_count": 59,
   "id": "d540752f-0b4e-4743-97e0-8f0b16d388eb",
   "metadata": {},
   "outputs": [
    {
     "data": {
      "text/html": [
       "<hr/>\n",
       "<h3>Learner.fit_one_cycle</h3>\n",
       "<blockquote><pre><code>Learner.fit_one_cycle(n_epoch, lr_max=None, div=25.0, div_final=100000.0, pct_start=0.25, wd=None, moms=None, cbs=None, reset_opt=False, start_epoch=0)</code></pre></blockquote><p><i>Fit `self.model` for `n_epoch` using the 1cycle policy.</i></p>\n",
       "<p><a href=\"https://docs.fast.ai/callback.schedule.html#learner.fit_one_cycle\" target=\"_blank\" rel=\"noreferrer noopener\">Show in docs</a></p>"
      ],
      "text/plain": [
       "<IPython.core.display.HTML object>"
      ]
     },
     "metadata": {},
     "output_type": "display_data"
    }
   ],
   "source": [
    "doc(learner.fit_one_cycle)"
   ]
  },
  {
   "cell_type": "code",
   "execution_count": 60,
   "id": "0b453e07-b96b-474a-a57b-b49b250a893c",
   "metadata": {},
   "outputs": [
    {
     "data": {
      "text/html": [
       "\n",
       "<style>\n",
       "    /* Turns off some styling */\n",
       "    progress {\n",
       "        /* gets rid of default border in Firefox and Opera. */\n",
       "        border: none;\n",
       "        /* Needs to be in here for Safari polyfill so background images work as expected. */\n",
       "        background-size: auto;\n",
       "    }\n",
       "    progress:not([value]), progress:not([value])::-webkit-progress-bar {\n",
       "        background: repeating-linear-gradient(45deg, #7e7e7e, #7e7e7e 10px, #5c5c5c 10px, #5c5c5c 20px);\n",
       "    }\n",
       "    .progress-bar-interrupted, .progress-bar-interrupted::-webkit-progress-bar {\n",
       "        background: #F44336;\n",
       "    }\n",
       "</style>\n"
      ],
      "text/plain": [
       "<IPython.core.display.HTML object>"
      ]
     },
     "metadata": {},
     "output_type": "display_data"
    },
    {
     "data": {
      "text/html": [
       "<table border=\"1\" class=\"dataframe\">\n",
       "  <thead>\n",
       "    <tr style=\"text-align: left;\">\n",
       "      <th>epoch</th>\n",
       "      <th>train_loss</th>\n",
       "      <th>valid_loss</th>\n",
       "      <th>accuracy</th>\n",
       "      <th>perplexity</th>\n",
       "      <th>time</th>\n",
       "    </tr>\n",
       "  </thead>\n",
       "  <tbody>\n",
       "    <tr>\n",
       "      <td>0</td>\n",
       "      <td>1.538575</td>\n",
       "      <td>1.380607</td>\n",
       "      <td>0.507056</td>\n",
       "      <td>3.977317</td>\n",
       "      <td>00:19</td>\n",
       "    </tr>\n",
       "  </tbody>\n",
       "</table>"
      ],
      "text/plain": [
       "<IPython.core.display.HTML object>"
      ]
     },
     "metadata": {},
     "output_type": "display_data"
    }
   ],
   "source": [
    "learner.fit_one_cycle(n_epoch = 1, lr_max = average_lr, cbs=EarlyStoppingCallback(monitor='accuracy', min_delta=0.1, patience=2)) #Takign the average of suggested slide and valley"
   ]
  },
  {
   "cell_type": "code",
   "execution_count": 61,
   "id": "85cdc255-a2e1-44c7-a062-4be95e86ff5a",
   "metadata": {},
   "outputs": [
    {
     "data": {
      "text/html": [
       "\n",
       "<style>\n",
       "    /* Turns off some styling */\n",
       "    progress {\n",
       "        /* gets rid of default border in Firefox and Opera. */\n",
       "        border: none;\n",
       "        /* Needs to be in here for Safari polyfill so background images work as expected. */\n",
       "        background-size: auto;\n",
       "    }\n",
       "    progress:not([value]), progress:not([value])::-webkit-progress-bar {\n",
       "        background: repeating-linear-gradient(45deg, #7e7e7e, #7e7e7e 10px, #5c5c5c 10px, #5c5c5c 20px);\n",
       "    }\n",
       "    .progress-bar-interrupted, .progress-bar-interrupted::-webkit-progress-bar {\n",
       "        background: #F44336;\n",
       "    }\n",
       "</style>\n"
      ],
      "text/plain": [
       "<IPython.core.display.HTML object>"
      ]
     },
     "metadata": {},
     "output_type": "display_data"
    },
    {
     "data": {
      "text/html": [
       "<table border=\"1\" class=\"dataframe\">\n",
       "  <thead>\n",
       "    <tr style=\"text-align: left;\">\n",
       "      <th>epoch</th>\n",
       "      <th>train_loss</th>\n",
       "      <th>valid_loss</th>\n",
       "      <th>accuracy</th>\n",
       "      <th>perplexity</th>\n",
       "      <th>time</th>\n",
       "    </tr>\n",
       "  </thead>\n",
       "  <tbody>\n",
       "    <tr>\n",
       "      <td>0</td>\n",
       "      <td>1.510494</td>\n",
       "      <td>1.358229</td>\n",
       "      <td>0.509745</td>\n",
       "      <td>3.889299</td>\n",
       "      <td>00:20</td>\n",
       "    </tr>\n",
       "    <tr>\n",
       "      <td>1</td>\n",
       "      <td>1.429856</td>\n",
       "      <td>1.345545</td>\n",
       "      <td>0.506720</td>\n",
       "      <td>3.840281</td>\n",
       "      <td>00:20</td>\n",
       "    </tr>\n",
       "    <tr>\n",
       "      <td>2</td>\n",
       "      <td>1.501804</td>\n",
       "      <td>1.336741</td>\n",
       "      <td>0.512433</td>\n",
       "      <td>3.806619</td>\n",
       "      <td>00:20</td>\n",
       "    </tr>\n",
       "    <tr>\n",
       "      <td>3</td>\n",
       "      <td>1.435919</td>\n",
       "      <td>1.329756</td>\n",
       "      <td>0.522177</td>\n",
       "      <td>3.780120</td>\n",
       "      <td>00:20</td>\n",
       "    </tr>\n",
       "    <tr>\n",
       "      <td>4</td>\n",
       "      <td>1.442279</td>\n",
       "      <td>1.328739</td>\n",
       "      <td>0.519153</td>\n",
       "      <td>3.776277</td>\n",
       "      <td>00:21</td>\n",
       "    </tr>\n",
       "    <tr>\n",
       "      <td>5</td>\n",
       "      <td>1.489473</td>\n",
       "      <td>1.323796</td>\n",
       "      <td>0.526882</td>\n",
       "      <td>3.757658</td>\n",
       "      <td>00:20</td>\n",
       "    </tr>\n",
       "    <tr>\n",
       "      <td>6</td>\n",
       "      <td>1.462626</td>\n",
       "      <td>1.333809</td>\n",
       "      <td>0.519489</td>\n",
       "      <td>3.795474</td>\n",
       "      <td>00:20</td>\n",
       "    </tr>\n",
       "    <tr>\n",
       "      <td>7</td>\n",
       "      <td>1.436908</td>\n",
       "      <td>1.321375</td>\n",
       "      <td>0.526882</td>\n",
       "      <td>3.748570</td>\n",
       "      <td>00:20</td>\n",
       "    </tr>\n",
       "    <tr>\n",
       "      <td>8</td>\n",
       "      <td>1.407338</td>\n",
       "      <td>1.350570</td>\n",
       "      <td>0.499328</td>\n",
       "      <td>3.859627</td>\n",
       "      <td>00:20</td>\n",
       "    </tr>\n",
       "    <tr>\n",
       "      <td>9</td>\n",
       "      <td>1.470550</td>\n",
       "      <td>1.335715</td>\n",
       "      <td>0.513441</td>\n",
       "      <td>3.802714</td>\n",
       "      <td>00:20</td>\n",
       "    </tr>\n",
       "    <tr>\n",
       "      <td>10</td>\n",
       "      <td>1.514062</td>\n",
       "      <td>1.358148</td>\n",
       "      <td>0.514449</td>\n",
       "      <td>3.888984</td>\n",
       "      <td>00:20</td>\n",
       "    </tr>\n",
       "  </tbody>\n",
       "</table>"
      ],
      "text/plain": [
       "<IPython.core.display.HTML object>"
      ]
     },
     "metadata": {},
     "output_type": "display_data"
    },
    {
     "name": "stdout",
     "output_type": "stream",
     "text": [
      "No improvement since epoch 0: early stopping\n"
     ]
    }
   ],
   "source": [
    "learner.fit_one_cycle(n_epoch = 100, lr_max = average_lr, cbs=EarlyStoppingCallback(monitor='accuracy', min_delta=0.1, patience=10)) #Takign the average of suggested slide and valley"
   ]
  },
  {
   "cell_type": "code",
   "execution_count": 62,
   "id": "06ea125b-ad4d-450d-a5e5-482a27f97815",
   "metadata": {},
   "outputs": [
    {
     "data": {
      "text/plain": [
       "<Axes: title={'center': 'learning curve'}, xlabel='steps', ylabel='loss'>"
      ]
     },
     "execution_count": 62,
     "metadata": {},
     "output_type": "execute_result"
    },
    {
     "data": {
      "image/png": "[encoded data removed]",
      "text/plain": [
       "<Figure size 640x480 with 1 Axes>"
      ]
     },
     "metadata": {},
     "output_type": "display_data"
    }
   ],
   "source": [
    "learner.recorder.plot_loss()"
   ]
  },
  {
   "cell_type": "code",
   "execution_count": 63,
   "id": "5e5c9ac4-36cc-4b7b-95a1-857a76b9aaf4",
   "metadata": {},
   "outputs": [
    {
     "data": {
      "text/plain": [
       "Path('models/lm-stage-0.pth')"
      ]
     },
     "execution_count": 63,
     "metadata": {},
     "output_type": "execute_result"
    }
   ],
   "source": [
    "learner.save(f\"lm-stage-0\")"
   ]
  },
  {
   "cell_type": "code",
   "execution_count": null,
   "id": "26baa29a-b44c-4bbc-98cb-b2fced8882b9",
   "metadata": {},
   "outputs": [],
   "source": []
  },
  {
   "cell_type": "markdown",
   "id": "109dfc61-cc9b-47f0-b88b-d4d04fc67e2a",
   "metadata": {},
   "source": [
    "**Stage 1**"
   ]
  },
  {
   "cell_type": "code",
   "execution_count": null,
   "id": "c45faf00-e6d0-4079-a069-e02a9c6a6c0c",
   "metadata": {},
   "outputs": [],
   "source": []
  },
  {
   "cell_type": "code",
   "execution_count": 64,
   "id": "5a4b5e3c-e2b5-4c0a-a944-e2da64af93c3",
   "metadata": {},
   "outputs": [
    {
     "data": {
      "text/plain": [
       "<fastai.text.learner.TextLearner at 0x27d0191b410>"
      ]
     },
     "execution_count": 64,
     "metadata": {},
     "output_type": "execute_result"
    }
   ],
   "source": [
    "learner.load(f\"lm-stage-0\")"
   ]
  },
  {
   "cell_type": "code",
   "execution_count": 65,
   "id": "3c28e303-7628-4751-8086-1631d494c7c2",
   "metadata": {},
   "outputs": [],
   "source": [
    "learner.unfreeze()"
   ]
  },
  {
   "cell_type": "code",
   "execution_count": 66,
   "id": "0f08894b-f705-401f-a5d0-553b07a91508",
   "metadata": {},
   "outputs": [
    {
     "data": {
      "text/html": [
       "\n",
       "<style>\n",
       "    /* Turns off some styling */\n",
       "    progress {\n",
       "        /* gets rid of default border in Firefox and Opera. */\n",
       "        border: none;\n",
       "        /* Needs to be in here for Safari polyfill so background images work as expected. */\n",
       "        background-size: auto;\n",
       "    }\n",
       "    progress:not([value]), progress:not([value])::-webkit-progress-bar {\n",
       "        background: repeating-linear-gradient(45deg, #7e7e7e, #7e7e7e 10px, #5c5c5c 10px, #5c5c5c 20px);\n",
       "    }\n",
       "    .progress-bar-interrupted, .progress-bar-interrupted::-webkit-progress-bar {\n",
       "        background: #F44336;\n",
       "    }\n",
       "</style>\n"
      ],
      "text/plain": [
       "<IPython.core.display.HTML object>"
      ]
     },
     "metadata": {},
     "output_type": "display_data"
    },
    {
     "data": {
      "text/html": [],
      "text/plain": [
       "<IPython.core.display.HTML object>"
      ]
     },
     "metadata": {},
     "output_type": "display_data"
    },
    {
     "name": "stdout",
     "output_type": "stream",
     "text": [
      "Suggested learning rate (slide): 0.03981071710586548\n",
      "Suggested learning rate (valley): 0.0002290867705596611\n",
      "Average learning rate: 0.02001990193821257\n",
      "Suggested ALR: 20.02e-3\n"
     ]
    },
    {
     "data": {
      "image/png": "[encoded data removed]",
      "text/plain": [
       "<Figure size 640x480 with 1 Axes>"
      ]
     },
     "metadata": {},
     "output_type": "display_data"
    }
   ],
   "source": [
    "lr_min, lr_steep = learner.lr_find(suggest_funcs=(\n",
    "    slide, # suggests a learning rate based on the point where the loss starts to decrease most steeply\n",
    "    valley # suggests a learning rate based on the point where the loss reaches its lowest value before increasing again\n",
    "))\n",
    "\n",
    "print(f\"Suggested learning rate (slide): {lr_min}\")\n",
    "print(f\"Suggested learning rate (valley): {lr_steep}\")\n",
    "average_lr = (lr_min + lr_steep) / 2\n",
    "print(f\"Average learning rate: {average_lr}\")\n",
    "sugg_alr = round((average_lr*1000),2)\n",
    "print(f\"Suggested ALR: {sugg_alr}e-3\")"
   ]
  },
  {
   "cell_type": "code",
   "execution_count": 67,
   "id": "adcf24d3-6209-4374-945e-144db785e2e9",
   "metadata": {},
   "outputs": [
    {
     "data": {
      "text/html": [
       "\n",
       "<style>\n",
       "    /* Turns off some styling */\n",
       "    progress {\n",
       "        /* gets rid of default border in Firefox and Opera. */\n",
       "        border: none;\n",
       "        /* Needs to be in here for Safari polyfill so background images work as expected. */\n",
       "        background-size: auto;\n",
       "    }\n",
       "    progress:not([value]), progress:not([value])::-webkit-progress-bar {\n",
       "        background: repeating-linear-gradient(45deg, #7e7e7e, #7e7e7e 10px, #5c5c5c 10px, #5c5c5c 20px);\n",
       "    }\n",
       "    .progress-bar-interrupted, .progress-bar-interrupted::-webkit-progress-bar {\n",
       "        background: #F44336;\n",
       "    }\n",
       "</style>\n"
      ],
      "text/plain": [
       "<IPython.core.display.HTML object>"
      ]
     },
     "metadata": {},
     "output_type": "display_data"
    },
    {
     "data": {
      "text/html": [
       "<table border=\"1\" class=\"dataframe\">\n",
       "  <thead>\n",
       "    <tr style=\"text-align: left;\">\n",
       "      <th>epoch</th>\n",
       "      <th>train_loss</th>\n",
       "      <th>valid_loss</th>\n",
       "      <th>accuracy</th>\n",
       "      <th>perplexity</th>\n",
       "      <th>time</th>\n",
       "    </tr>\n",
       "  </thead>\n",
       "  <tbody>\n",
       "    <tr>\n",
       "      <td>0</td>\n",
       "      <td>1.279498</td>\n",
       "      <td>1.170988</td>\n",
       "      <td>0.584341</td>\n",
       "      <td>3.225178</td>\n",
       "      <td>00:36</td>\n",
       "    </tr>\n",
       "    <tr>\n",
       "      <td>1</td>\n",
       "      <td>1.044296</td>\n",
       "      <td>1.150821</td>\n",
       "      <td>0.593078</td>\n",
       "      <td>3.160787</td>\n",
       "      <td>00:35</td>\n",
       "    </tr>\n",
       "    <tr>\n",
       "      <td>2</td>\n",
       "      <td>0.845764</td>\n",
       "      <td>1.234957</td>\n",
       "      <td>0.569556</td>\n",
       "      <td>3.438232</td>\n",
       "      <td>00:35</td>\n",
       "    </tr>\n",
       "    <tr>\n",
       "      <td>3</td>\n",
       "      <td>0.647111</td>\n",
       "      <td>1.302939</td>\n",
       "      <td>0.542339</td>\n",
       "      <td>3.680096</td>\n",
       "      <td>00:36</td>\n",
       "    </tr>\n",
       "    <tr>\n",
       "      <td>4</td>\n",
       "      <td>0.578778</td>\n",
       "      <td>1.444107</td>\n",
       "      <td>0.535954</td>\n",
       "      <td>4.238068</td>\n",
       "      <td>00:36</td>\n",
       "    </tr>\n",
       "    <tr>\n",
       "      <td>5</td>\n",
       "      <td>0.513362</td>\n",
       "      <td>1.500731</td>\n",
       "      <td>0.511089</td>\n",
       "      <td>4.484969</td>\n",
       "      <td>00:35</td>\n",
       "    </tr>\n",
       "    <tr>\n",
       "      <td>6</td>\n",
       "      <td>0.538179</td>\n",
       "      <td>1.708377</td>\n",
       "      <td>0.485887</td>\n",
       "      <td>5.519994</td>\n",
       "      <td>00:35</td>\n",
       "    </tr>\n",
       "    <tr>\n",
       "      <td>7</td>\n",
       "      <td>0.515914</td>\n",
       "      <td>1.787402</td>\n",
       "      <td>0.470430</td>\n",
       "      <td>5.973912</td>\n",
       "      <td>00:35</td>\n",
       "    </tr>\n",
       "    <tr>\n",
       "      <td>8</td>\n",
       "      <td>0.613707</td>\n",
       "      <td>1.774469</td>\n",
       "      <td>0.483535</td>\n",
       "      <td>5.897151</td>\n",
       "      <td>00:36</td>\n",
       "    </tr>\n",
       "    <tr>\n",
       "      <td>9</td>\n",
       "      <td>0.640218</td>\n",
       "      <td>1.964807</td>\n",
       "      <td>0.457325</td>\n",
       "      <td>7.133534</td>\n",
       "      <td>00:35</td>\n",
       "    </tr>\n",
       "    <tr>\n",
       "      <td>10</td>\n",
       "      <td>0.609875</td>\n",
       "      <td>1.931652</td>\n",
       "      <td>0.463374</td>\n",
       "      <td>6.900898</td>\n",
       "      <td>00:36</td>\n",
       "    </tr>\n",
       "  </tbody>\n",
       "</table>"
      ],
      "text/plain": [
       "<IPython.core.display.HTML object>"
      ]
     },
     "metadata": {},
     "output_type": "display_data"
    },
    {
     "name": "stdout",
     "output_type": "stream",
     "text": [
      "No improvement since epoch 0: early stopping\n"
     ]
    }
   ],
   "source": [
    "learner.fit_one_cycle(n_epoch = 100, lr_max = slice(lr_min, lr_steep), cbs=EarlyStoppingCallback(monitor='accuracy', min_delta=0.1, patience=10)) #Takign the average of suggested slide and valley"
   ]
  },
  {
   "cell_type": "code",
   "execution_count": 68,
   "id": "ec96ab00-dad7-42a2-bc57-9266ac487a62",
   "metadata": {},
   "outputs": [
    {
     "data": {
      "text/plain": [
       "<Axes: title={'center': 'learning curve'}, xlabel='steps', ylabel='loss'>"
      ]
     },
     "execution_count": 68,
     "metadata": {},
     "output_type": "execute_result"
    },
    {
     "data": {
      "image/png": "[encoded data removed]",
      "text/plain": [
       "<Figure size 640x480 with 1 Axes>"
      ]
     },
     "metadata": {},
     "output_type": "display_data"
    }
   ],
   "source": [
    "learner.recorder.plot_loss()"
   ]
  },
  {
   "cell_type": "markdown",
   "id": "6199e024-b49f-46d7-97f3-92db5ef9898c",
   "metadata": {},
   "source": [
    "**Train loss is decreasing but the validation loss is increasing resulting in huge gap between the two curves, Hence the model is overfitting!**"
   ]
  },
  {
   "cell_type": "code",
   "execution_count": 69,
   "id": "ffcfd732-8262-49df-9096-75bb0641e82d",
   "metadata": {},
   "outputs": [
    {
     "data": {
      "text/plain": [
       "Path('models/lm-stage-1.pth')"
      ]
     },
     "execution_count": 69,
     "metadata": {},
     "output_type": "execute_result"
    }
   ],
   "source": [
    "learner.save(f\"lm-stage-1\")"
   ]
  },
  {
   "cell_type": "code",
   "execution_count": 70,
   "id": "3c5204b2-e893-4a32-b173-ab328dabf6e8",
   "metadata": {},
   "outputs": [
    {
     "data": {
      "text/plain": [
       "SequentialRNN(\n",
       "  (0): SentenceEncoder(\n",
       "    (module): AWD_LSTM(\n",
       "      (encoder): Embedding(15808, 400, padding_idx=1)\n",
       "      (encoder_dp): EmbeddingDropout(\n",
       "        (emb): Embedding(15808, 400, padding_idx=1)\n",
       "      )\n",
       "      (rnns): ModuleList(\n",
       "        (0): WeightDropout(\n",
       "          (module): LSTM(400, 1152, batch_first=True)\n",
       "        )\n",
       "        (1): WeightDropout(\n",
       "          (module): LSTM(1152, 1152, batch_first=True)\n",
       "        )\n",
       "        (2): WeightDropout(\n",
       "          (module): LSTM(1152, 400, batch_first=True)\n",
       "        )\n",
       "      )\n",
       "      (input_dp): RNNDropout()\n",
       "      (hidden_dps): ModuleList(\n",
       "        (0-2): 3 x RNNDropout()\n",
       "      )\n",
       "    )\n",
       "  )\n",
       "  (1): PoolingLinearClassifier(\n",
       "    (layers): Sequential(\n",
       "      (0): LinBnDrop(\n",
       "        (0): BatchNorm1d(1200, eps=1e-05, momentum=0.1, affine=True, track_running_stats=True)\n",
       "        (1): Dropout(p=0.2, inplace=False)\n",
       "        (2): Linear(in_features=1200, out_features=50, bias=False)\n",
       "        (3): ReLU(inplace=True)\n",
       "      )\n",
       "      (1): LinBnDrop(\n",
       "        (0): BatchNorm1d(50, eps=1e-05, momentum=0.1, affine=True, track_running_stats=True)\n",
       "        (1): Dropout(p=0.1, inplace=False)\n",
       "        (2): Linear(in_features=50, out_features=9, bias=False)\n",
       "      )\n",
       "    )\n",
       "  )\n",
       ")"
      ]
     },
     "execution_count": 70,
     "metadata": {},
     "output_type": "execute_result"
    }
   ],
   "source": [
    "learner.model"
   ]
  },
  {
   "cell_type": "code",
   "execution_count": 71,
   "id": "196c2bc1-2157-4e83-a6dd-2ff51e9f4cbd",
   "metadata": {},
   "outputs": [],
   "source": [
    "learner.save_encoder(f\"lm-encoder-finetuned-with-earlyStopping\")"
   ]
  },
  {
   "cell_type": "code",
   "execution_count": null,
   "id": "cca67259-1818-4c3e-b03e-6743372b0bc1",
   "metadata": {},
   "outputs": [],
   "source": []
  },
  {
   "cell_type": "code",
   "execution_count": null,
   "id": "5add86e0-759d-4f80-9909-5687ef01e330",
   "metadata": {},
   "outputs": [],
   "source": []
  },
  {
   "cell_type": "code",
   "execution_count": null,
   "id": "26b91002-24f2-4693-802a-220c0fffcff4",
   "metadata": {},
   "outputs": [],
   "source": []
  },
  {
   "cell_type": "code",
   "execution_count": null,
   "id": "b9e06d3b-75fc-4bf7-a5e4-ff6a4ea4bc18",
   "metadata": {},
   "outputs": [],
   "source": []
  },
  {
   "cell_type": "code",
   "execution_count": null,
   "id": "99d60d78-b184-4637-b47a-fdc2cd583bef",
   "metadata": {},
   "outputs": [],
   "source": []
  },
  {
   "cell_type": "code",
   "execution_count": null,
   "id": "021ad3a7-27d7-46d2-940e-da1655f5f0b9",
   "metadata": {},
   "outputs": [],
   "source": []
  },
  {
   "cell_type": "code",
   "execution_count": null,
   "id": "7ff2f1e8-41d1-43a8-86ba-b81f44a94465",
   "metadata": {},
   "outputs": [],
   "source": []
  },
  {
   "cell_type": "code",
   "execution_count": null,
   "id": "702c4d49-6220-4b21-aef1-8fad49e4ad5f",
   "metadata": {},
   "outputs": [],
   "source": []
  },
  {
   "cell_type": "code",
   "execution_count": null,
   "id": "1d856008-abbc-40b8-9716-de41aaee4d22",
   "metadata": {},
   "outputs": [],
   "source": []
  },
  {
   "cell_type": "code",
   "execution_count": null,
   "id": "65e7976c-066b-4741-ba22-c7c8f660b01b",
   "metadata": {},
   "outputs": [],
   "source": []
  },
  {
   "cell_type": "code",
   "execution_count": null,
   "id": "152e0e3b-d839-4ecd-957d-029eaf1a8b3d",
   "metadata": {},
   "outputs": [],
   "source": []
  },
  {
   "cell_type": "code",
   "execution_count": null,
   "id": "b07974b7-faa4-4b06-bca7-6ebd9ae048be",
   "metadata": {},
   "outputs": [],
   "source": []
  }
 ],
 "metadata": {
  "kernelspec": {
   "display_name": "Python 3 (ipykernel)",
   "language": "python",
   "name": "python3"
  },
  "language_info": {
   "codemirror_mode": {
    "name": "ipython",
    "version": 3
   },
   "file_extension": ".py",
   "mimetype": "text/x-python",
   "name": "python",
   "nbconvert_exporter": "python",
   "pygments_lexer": "ipython3",
   "version": "3.10.11"
  }
 },
 "nbformat": 4,
 "nbformat_minor": 5
}
