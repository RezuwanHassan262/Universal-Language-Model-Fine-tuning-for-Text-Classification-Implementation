{
  "cells": [
    {
      "cell_type": "markdown",
      "id": "52650eea-4919-4b89-a291-49d39bec2dbb",
      "metadata": {
        "id": "52650eea-4919-4b89-a291-49d39bec2dbb"
      },
      "source": [
        "# **0. Setting up dependencies**"
      ]
    },
    {
      "cell_type": "code",
      "execution_count": null,
      "id": "c0e0c606-2711-4abd-98af-589253e70e83",
      "metadata": {
        "id": "c0e0c606-2711-4abd-98af-589253e70e83",
        "outputId": "b3b9eebb-5f29-4700-dcd4-49d6d4dbafd4"
      },
      "outputs": [
        {
          "name": "stdout",
          "output_type": "stream",
          "text": [
            "Thu Nov  7 09:41:34 2024       \n",
            "+-----------------------------------------------------------------------------------------+\n",
            "| NVIDIA-SMI 560.35.02              Driver Version: 560.94         CUDA Version: 12.6     |\n",
            "|-----------------------------------------+------------------------+----------------------+\n",
            "| GPU  Name                 Persistence-M | Bus-Id          Disp.A | Volatile Uncorr. ECC |\n",
            "| Fan  Temp   Perf          Pwr:Usage/Cap |           Memory-Usage | GPU-Util  Compute M. |\n",
            "|                                         |                        |               MIG M. |\n",
            "|=========================================+========================+======================|\n",
            "|   0  NVIDIA GeForce RTX 3060        On  |   00000000:01:00.0  On |                  N/A |\n",
            "|  0%   48C    P8             17W /  170W |     839MiB /  12288MiB |      9%      Default |\n",
            "|                                         |                        |                  N/A |\n",
            "+-----------------------------------------+------------------------+----------------------+\n",
            "                                                                                         \n",
            "+-----------------------------------------------------------------------------------------+\n",
            "| Processes:                                                                              |\n",
            "|  GPU   GI   CI        PID   Type   Process name                              GPU Memory |\n",
            "|        ID   ID                                                               Usage      |\n",
            "|=========================================================================================|\n",
            "|    0   N/A  N/A        39      G   /Xwayland                                   N/A      |\n",
            "+-----------------------------------------------------------------------------------------+\n"
          ]
        }
      ],
      "source": [
        "!nvidia-smi"
      ]
    },
    {
      "cell_type": "code",
      "execution_count": null,
      "id": "6cd2b51a-9230-40fd-b09f-823f283bccdf",
      "metadata": {
        "id": "6cd2b51a-9230-40fd-b09f-823f283bccdf",
        "outputId": "2de0516f-aeda-48a0-ae51-0f0dd937068d"
      },
      "outputs": [
        {
          "name": "stdout",
          "output_type": "stream",
          "text": [
            "CUDA available: True\n",
            "Number of GPUs available: 1\n",
            "GPU 0: NVIDIA GeForce RTX 3060\n",
            "Current GPU device: 0\n",
            "Current GPU device name: NVIDIA GeForce RTX 3060\n"
          ]
        }
      ],
      "source": [
        "import torch\n",
        "cuda_available = torch.cuda.is_available()\n",
        "print(f\"CUDA available: {cuda_available}\")\n",
        "\n",
        "if cuda_available:\n",
        "    num_gpus = torch.cuda.device_count()\n",
        "    print(f\"Number of GPUs available: {num_gpus}\")\n",
        "\n",
        "    for i in range(num_gpus):\n",
        "        print(f\"GPU {i}: {torch.cuda.get_device_name(i)}\")\n",
        "\n",
        "    current_device = torch.cuda.current_device()\n",
        "    print(f\"Current GPU device: {current_device}\")\n",
        "    print(f\"Current GPU device name: {torch.cuda.get_device_name(current_device)}\")\n",
        "else:\n",
        "    print(\"No CUDA-enabled GPU detected.\")"
      ]
    },
    {
      "cell_type": "code",
      "execution_count": null,
      "id": "23355e7e-23cf-4b18-a2c9-1f257ac86fed",
      "metadata": {
        "id": "23355e7e-23cf-4b18-a2c9-1f257ac86fed"
      },
      "outputs": [],
      "source": []
    },
    {
      "cell_type": "markdown",
      "id": "9c7b0bfd-a547-4759-bca0-be93bdc39e89",
      "metadata": {
        "id": "9c7b0bfd-a547-4759-bca0-be93bdc39e89"
      },
      "source": [
        "**Install and Import dependencies**"
      ]
    },
    {
      "cell_type": "code",
      "execution_count": null,
      "id": "b0383a1f-407f-4ed3-adf7-7e1b1da3afa6",
      "metadata": {
        "id": "b0383a1f-407f-4ed3-adf7-7e1b1da3afa6",
        "outputId": "ce55bc56-2aeb-4f12-ebcb-cc163dc7e1cc"
      },
      "outputs": [
        {
          "name": "stdout",
          "output_type": "stream",
          "text": [
            "Requirement already satisfied: fastai in c:\\users\\md. rezuwan hasan\\anaconda3\\envs\\nlp_project_modeling\\lib\\site-packages (2.7.16)\n"
          ]
        },
        {
          "name": "stderr",
          "output_type": "stream",
          "text": [
            "ERROR: Could not find a version that satisfies the requirement sentencepiec (from versions: none)\n",
            "ERROR: No matching distribution found for sentencepiec\n"
          ]
        }
      ],
      "source": [
        "!pip install -Uqq fastai nbdev fastbook\n",
        "!pip install --upgrade fastai sentencepiec"
      ]
    },
    {
      "cell_type": "code",
      "execution_count": null,
      "id": "0ec3e7ec-6e58-4dff-a9cc-76166c7b86d6",
      "metadata": {
        "id": "0ec3e7ec-6e58-4dff-a9cc-76166c7b86d6"
      },
      "outputs": [],
      "source": [
        "from fastai.text.all import *\n",
        "import pandas as pd\n",
        "import numpy as np\n",
        "import string"
      ]
    },
    {
      "cell_type": "code",
      "execution_count": null,
      "id": "07ff33a3-ec51-43d8-8192-2fbfae0f88fe",
      "metadata": {
        "id": "07ff33a3-ec51-43d8-8192-2fbfae0f88fe"
      },
      "outputs": [],
      "source": []
    },
    {
      "cell_type": "markdown",
      "id": "0f16d451-3ff9-470a-8dc2-26c0875309da",
      "metadata": {
        "id": "0f16d451-3ff9-470a-8dc2-26c0875309da"
      },
      "source": [
        "# **1. Importing data**"
      ]
    },
    {
      "cell_type": "code",
      "execution_count": null,
      "id": "52c078f9-3123-4b72-bc61-63249e0bde7e",
      "metadata": {
        "id": "52c078f9-3123-4b72-bc61-63249e0bde7e",
        "outputId": "b8417983-798d-4118-ae09-30b43339e08b"
      },
      "outputs": [
        {
          "data": {
            "text/html": [
              "<div>\n",
              "<style scoped>\n",
              "    .dataframe tbody tr th:only-of-type {\n",
              "        vertical-align: middle;\n",
              "    }\n",
              "\n",
              "    .dataframe tbody tr th {\n",
              "        vertical-align: top;\n",
              "    }\n",
              "\n",
              "    .dataframe thead th {\n",
              "        text-align: right;\n",
              "    }\n",
              "</style>\n",
              "<table border=\"1\" class=\"dataframe\">\n",
              "  <thead>\n",
              "    <tr style=\"text-align: right;\">\n",
              "      <th></th>\n",
              "      <th>Title</th>\n",
              "      <th>Category</th>\n",
              "      <th>Url</th>\n",
              "      <th>Metascore</th>\n",
              "      <th>Number_of_critic_reviewers</th>\n",
              "      <th>User_score</th>\n",
              "      <th>Number_of_user_reviewers</th>\n",
              "      <th>Plot_summary</th>\n",
              "      <th>Genres</th>\n",
              "    </tr>\n",
              "  </thead>\n",
              "  <tbody>\n",
              "    <tr>\n",
              "      <th>0</th>\n",
              "      <td>Dekalog (1988)</td>\n",
              "      <td>movie</td>\n",
              "      <td>https://www.metacritic.com/movie/dekalog-1988/</td>\n",
              "      <td>100</td>\n",
              "      <td>13</td>\n",
              "      <td>100</td>\n",
              "      <td>112</td>\n",
              "      <td>This masterwork by Krzysztof Kieślowski is one of the twentieth century’s greatest achievements in visual storytelling. Originally made for Polish television, Dekalog focuses on the residents of a housing complex in late-Communist Poland, whose lives become subtly intertwined as they face emotional dilemmas that are at once deeply person...</td>\n",
              "      <td>['Drama']</td>\n",
              "    </tr>\n",
              "    <tr>\n",
              "      <th>1</th>\n",
              "      <td>The Godfather</td>\n",
              "      <td>movie</td>\n",
              "      <td>https://www.metacritic.com/movie/the-godfather/</td>\n",
              "      <td>100</td>\n",
              "      <td>16</td>\n",
              "      <td>100</td>\n",
              "      <td>4082</td>\n",
              "      <td>Francis Ford Coppola's epic features Marlon Brando in his Oscar-winning role as the patriarch of the Corleone family. Director Coppola paints a chilling portrait of the Sicilian clan's rise and near fall from power in America, masterfully balancing the story between the Corleone's family life and the ugly crime business in which they are...</td>\n",
              "      <td>['Crime', 'Drama']</td>\n",
              "    </tr>\n",
              "    <tr>\n",
              "      <th>2</th>\n",
              "      <td>Lawrence of Arabia (re-release)</td>\n",
              "      <td>movie</td>\n",
              "      <td>https://www.metacritic.com/movie/lawrence-of-arabia-re-release/</td>\n",
              "      <td>100</td>\n",
              "      <td>8</td>\n",
              "      <td>100</td>\n",
              "      <td>442</td>\n",
              "      <td>The 40th anniversary re-release of David Lean's 1962 masterpiece, starring Peter O'Toole in one of the most electrifying debuts in film history.</td>\n",
              "      <td>['Adventure', 'Biography', 'Drama', 'War']</td>\n",
              "    </tr>\n",
              "    <tr>\n",
              "      <th>3</th>\n",
              "      <td>The Leopard (re-release)</td>\n",
              "      <td>movie</td>\n",
              "      <td>https://www.metacritic.com/movie/the-leopard-re-release/</td>\n",
              "      <td>100</td>\n",
              "      <td>12</td>\n",
              "      <td>100</td>\n",
              "      <td>84</td>\n",
              "      <td>Set in Sicily in 1860, Luchino Visconti's spectacular 1963 adaptation of Giuseppe di Lampedusa's international bestseller is one of the cinema's greatest evocations of the past, achingly depicting the passing of an ancient order. (Film Forum)</td>\n",
              "      <td>['Drama', 'History']</td>\n",
              "    </tr>\n",
              "    <tr>\n",
              "      <th>4</th>\n",
              "      <td>The Conformist</td>\n",
              "      <td>movie</td>\n",
              "      <td>https://www.metacritic.com/movie/the-conformist-re-release/</td>\n",
              "      <td>100</td>\n",
              "      <td>11</td>\n",
              "      <td>100</td>\n",
              "      <td>105</td>\n",
              "      <td>Set in Rome in the 1930s, this re-release of Bernardo Bertolucci's 1970 breakthrough feature stars Jean-Louis Trintignant as a Mussolini operative sent to Paris to locate and eliminate an old professor who fled Italy when the fascists came to power.</td>\n",
              "      <td>['Drama']</td>\n",
              "    </tr>\n",
              "    <tr>\n",
              "      <th>...</th>\n",
              "      <td>...</td>\n",
              "      <td>...</td>\n",
              "      <td>...</td>\n",
              "      <td>...</td>\n",
              "      <td>...</td>\n",
              "      <td>...</td>\n",
              "      <td>...</td>\n",
              "      <td>...</td>\n",
              "      <td>...</td>\n",
              "    </tr>\n",
              "    <tr>\n",
              "      <th>15149</th>\n",
              "      <td>Cavemen</td>\n",
              "      <td>tv</td>\n",
              "      <td>https://www.metacritic.com/tv/cavemen/</td>\n",
              "      <td>19</td>\n",
              "      <td>13</td>\n",
              "      <td>19</td>\n",
              "      <td>6</td>\n",
              "      <td>Cavemen revolves around Joel, his younger brother Andy and best friend Nick. Joel is engaged to Kate. Even though he has some problems with her conservative parents accepting him, he is happy with his life and pursuing the American Dream. The pilot is based on the Geico commercials that claim their service is so easy, \"Even a caveman can...</td>\n",
              "      <td>['Comedy', 'Sci-Fi']</td>\n",
              "    </tr>\n",
              "    <tr>\n",
              "      <th>15150</th>\n",
              "      <td>Work It</td>\n",
              "      <td>tv</td>\n",
              "      <td>https://www.metacritic.com/tv/work-it/</td>\n",
              "      <td>19</td>\n",
              "      <td>22</td>\n",
              "      <td>19</td>\n",
              "      <td>44</td>\n",
              "      <td>After they are laid off, Lee Standish (Ben Koldyke) and Angel Ortiz (Amaury Nolasco) dress up as women to get new jobs as pharmaceutical sales wo(men).</td>\n",
              "      <td>['Comedy']</td>\n",
              "    </tr>\n",
              "    <tr>\n",
              "      <th>15151</th>\n",
              "      <td>Category 7: The End of the World</td>\n",
              "      <td>tv</td>\n",
              "      <td>https://www.metacritic.com/tv/category-7-the-end-of-the-world/</td>\n",
              "      <td>18</td>\n",
              "      <td>11</td>\n",
              "      <td>18</td>\n",
              "      <td>7</td>\n",
              "      <td>\"Category 7: The End of the World\" picks up where \"Category 6: Day of Destruction\" left off. The city of Chicago has been destroyed by a monstrous storm and as the storm gathers strength, it threatens to ravage the rest of the world. A television evangelist and his wife prey on the nation’s fears by broadcasting warnings of biblical pl...</td>\n",
              "      <td>['Action', 'Adventure', 'Drama', 'Sci-Fi', 'Thriller']</td>\n",
              "    </tr>\n",
              "    <tr>\n",
              "      <th>15152</th>\n",
              "      <td>Stalker</td>\n",
              "      <td>tv</td>\n",
              "      <td>https://www.metacritic.com/tv/stalker/</td>\n",
              "      <td>17</td>\n",
              "      <td>24</td>\n",
              "      <td>17</td>\n",
              "      <td>137</td>\n",
              "      <td>Lt. Beth Davis (Maggie Q) leads the Threat Assessment Unit of the Los Angeles Police Department that includes recent transfer Det. Jack Larsen (McDermott), Det. Ben Caldwell (Victor Rasuk), and Det. Janice Lawrence (Mariana Klaveno).</td>\n",
              "      <td>['Crime', 'Drama', 'Thriller']</td>\n",
              "    </tr>\n",
              "    <tr>\n",
              "      <th>15153</th>\n",
              "      <td>Dads</td>\n",
              "      <td>tv</td>\n",
              "      <td>https://www.metacritic.com/tv/dads/</td>\n",
              "      <td>15</td>\n",
              "      <td>28</td>\n",
              "      <td>15</td>\n",
              "      <td>108</td>\n",
              "      <td>The lives of video game company co-founders Eli and Warner (Seth Green and Giovanni Ribisi) are turned upside down when their fathers (Peter Riegert and Martin Mull) move in with them.</td>\n",
              "      <td>['Comedy']</td>\n",
              "    </tr>\n",
              "  </tbody>\n",
              "</table>\n",
              "<p>15154 rows × 9 columns</p>\n",
              "</div>"
            ],
            "text/plain": [
              "                                  Title Category  \\\n",
              "0                        Dekalog (1988)    movie   \n",
              "1                         The Godfather    movie   \n",
              "2       Lawrence of Arabia (re-release)    movie   \n",
              "3              The Leopard (re-release)    movie   \n",
              "4                        The Conformist    movie   \n",
              "...                                 ...      ...   \n",
              "15149                           Cavemen       tv   \n",
              "15150                           Work It       tv   \n",
              "15151  Category 7: The End of the World       tv   \n",
              "15152                           Stalker       tv   \n",
              "15153                              Dads       tv   \n",
              "\n",
              "                                                                   Url  \\\n",
              "0                       https://www.metacritic.com/movie/dekalog-1988/   \n",
              "1                      https://www.metacritic.com/movie/the-godfather/   \n",
              "2      https://www.metacritic.com/movie/lawrence-of-arabia-re-release/   \n",
              "3             https://www.metacritic.com/movie/the-leopard-re-release/   \n",
              "4          https://www.metacritic.com/movie/the-conformist-re-release/   \n",
              "...                                                                ...   \n",
              "15149                           https://www.metacritic.com/tv/cavemen/   \n",
              "15150                           https://www.metacritic.com/tv/work-it/   \n",
              "15151   https://www.metacritic.com/tv/category-7-the-end-of-the-world/   \n",
              "15152                           https://www.metacritic.com/tv/stalker/   \n",
              "15153                              https://www.metacritic.com/tv/dads/   \n",
              "\n",
              "       Metascore  Number_of_critic_reviewers  User_score  \\\n",
              "0            100                          13         100   \n",
              "1            100                          16         100   \n",
              "2            100                           8         100   \n",
              "3            100                          12         100   \n",
              "4            100                          11         100   \n",
              "...          ...                         ...         ...   \n",
              "15149         19                          13          19   \n",
              "15150         19                          22          19   \n",
              "15151         18                          11          18   \n",
              "15152         17                          24          17   \n",
              "15153         15                          28          15   \n",
              "\n",
              "       Number_of_user_reviewers  \\\n",
              "0                           112   \n",
              "1                          4082   \n",
              "2                           442   \n",
              "3                            84   \n",
              "4                           105   \n",
              "...                         ...   \n",
              "15149                         6   \n",
              "15150                        44   \n",
              "15151                         7   \n",
              "15152                       137   \n",
              "15153                       108   \n",
              "\n",
              "                                                                                                                                                                                                                                                                                                                                                 Plot_summary  \\\n",
              "0      This masterwork by Krzysztof Kieślowski is one of the twentieth century’s greatest achievements in visual storytelling. Originally made for Polish television, Dekalog focuses on the residents of a housing complex in late-Communist Poland, whose lives become subtly intertwined as they face emotional dilemmas that are at once deeply person...   \n",
              "1      Francis Ford Coppola's epic features Marlon Brando in his Oscar-winning role as the patriarch of the Corleone family. Director Coppola paints a chilling portrait of the Sicilian clan's rise and near fall from power in America, masterfully balancing the story between the Corleone's family life and the ugly crime business in which they are...   \n",
              "2                                                                                                                                                                                                            The 40th anniversary re-release of David Lean's 1962 masterpiece, starring Peter O'Toole in one of the most electrifying debuts in film history.   \n",
              "3                                                                                                          Set in Sicily in 1860, Luchino Visconti's spectacular 1963 adaptation of Giuseppe di Lampedusa's international bestseller is one of the cinema's greatest evocations of the past, achingly depicting the passing of an ancient order. (Film Forum)   \n",
              "4                                                                                                   Set in Rome in the 1930s, this re-release of Bernardo Bertolucci's 1970 breakthrough feature stars Jean-Louis Trintignant as a Mussolini operative sent to Paris to locate and eliminate an old professor who fled Italy when the fascists came to power.   \n",
              "...                                                                                                                                                                                                                                                                                                                                                       ...   \n",
              "15149  Cavemen revolves around Joel, his younger brother Andy and best friend Nick. Joel is engaged to Kate. Even though he has some problems with her conservative parents accepting him, he is happy with his life and pursuing the American Dream. The pilot is based on the Geico commercials that claim their service is so easy, \"Even a caveman can...   \n",
              "15150                                                                                                                                                                                                 After they are laid off, Lee Standish (Ben Koldyke) and Angel Ortiz (Amaury Nolasco) dress up as women to get new jobs as pharmaceutical sales wo(men).   \n",
              "15151    \"Category 7: The End of the World\" picks up where \"Category 6: Day of Destruction\" left off. The city of Chicago has been destroyed by a monstrous storm and as the storm gathers strength, it threatens to ravage the rest of the world. A television evangelist and his wife prey on the nation’s fears by broadcasting warnings of biblical pl...   \n",
              "15152                                                                                                               Lt. Beth Davis (Maggie Q) leads the Threat Assessment Unit of the Los Angeles Police Department that includes recent transfer Det. Jack Larsen (McDermott), Det. Ben Caldwell (Victor Rasuk), and Det. Janice Lawrence (Mariana Klaveno).   \n",
              "15153                                                                                                                                                                The lives of video game company co-founders Eli and Warner (Seth Green and Giovanni Ribisi) are turned upside down when their fathers (Peter Riegert and Martin Mull) move in with them.   \n",
              "\n",
              "                                                       Genres  \n",
              "0                                                   ['Drama']  \n",
              "1                                          ['Crime', 'Drama']  \n",
              "2                  ['Adventure', 'Biography', 'Drama', 'War']  \n",
              "3                                        ['Drama', 'History']  \n",
              "4                                                   ['Drama']  \n",
              "...                                                       ...  \n",
              "15149                                    ['Comedy', 'Sci-Fi']  \n",
              "15150                                              ['Comedy']  \n",
              "15151  ['Action', 'Adventure', 'Drama', 'Sci-Fi', 'Thriller']  \n",
              "15152                          ['Crime', 'Drama', 'Thriller']  \n",
              "15153                                              ['Comedy']  \n",
              "\n",
              "[15154 rows x 9 columns]"
            ]
          },
          "execution_count": 5,
          "metadata": {},
          "output_type": "execute_result"
        }
      ],
      "source": [
        "df = pd.read_csv(\"data/film_details.csv\")\n",
        "df"
      ]
    },
    {
      "cell_type": "code",
      "execution_count": null,
      "id": "b80a9c38-e487-4616-8b56-473ca0b0528b",
      "metadata": {
        "id": "b80a9c38-e487-4616-8b56-473ca0b0528b",
        "outputId": "ae6c3053-7dad-41dc-943f-8ab42bc784c7"
      },
      "outputs": [
        {
          "data": {
            "text/plain": [
              "(15154, 9)"
            ]
          },
          "execution_count": 6,
          "metadata": {},
          "output_type": "execute_result"
        }
      ],
      "source": [
        "df.shape"
      ]
    },
    {
      "cell_type": "code",
      "execution_count": null,
      "id": "16391fe3-defe-488c-8349-d4e4cf686516",
      "metadata": {
        "id": "16391fe3-defe-488c-8349-d4e4cf686516",
        "outputId": "ee687a48-c39f-40f7-999b-16e3f549f0b0"
      },
      "outputs": [
        {
          "data": {
            "text/plain": [
              "Title                         0\n",
              "Category                      0\n",
              "Url                           0\n",
              "Metascore                     0\n",
              "Number_of_critic_reviewers    0\n",
              "User_score                    0\n",
              "Number_of_user_reviewers      0\n",
              "Plot_summary                  0\n",
              "Genres                        0\n",
              "dtype: int64"
            ]
          },
          "execution_count": 7,
          "metadata": {},
          "output_type": "execute_result"
        }
      ],
      "source": [
        "df.isna().sum()"
      ]
    },
    {
      "cell_type": "code",
      "execution_count": null,
      "id": "12848f19-5cc1-41be-b0fe-00caa9ead0ca",
      "metadata": {
        "id": "12848f19-5cc1-41be-b0fe-00caa9ead0ca"
      },
      "outputs": [],
      "source": [
        "df = df.dropna().reset_index(drop=True)"
      ]
    },
    {
      "cell_type": "code",
      "execution_count": null,
      "id": "82bdcefc-8558-424d-b9bf-661b1f37c48e",
      "metadata": {
        "id": "82bdcefc-8558-424d-b9bf-661b1f37c48e",
        "outputId": "eaf84c71-6b1b-49b9-a21c-95c12a4484cf"
      },
      "outputs": [
        {
          "data": {
            "text/plain": [
              "0                                                     ['Drama']\n",
              "1                                            ['Crime', 'Drama']\n",
              "2                    ['Adventure', 'Biography', 'Drama', 'War']\n",
              "3                                          ['Drama', 'History']\n",
              "4                                                     ['Drama']\n",
              "                                  ...                          \n",
              "15149                                      ['Comedy', 'Sci-Fi']\n",
              "15150                                                ['Comedy']\n",
              "15151    ['Action', 'Adventure', 'Drama', 'Sci-Fi', 'Thriller']\n",
              "15152                            ['Crime', 'Drama', 'Thriller']\n",
              "15153                                                ['Comedy']\n",
              "Name: Genres, Length: 15154, dtype: object"
            ]
          },
          "execution_count": 9,
          "metadata": {},
          "output_type": "execute_result"
        }
      ],
      "source": [
        "genres_list = df[\"Genres\"]\n",
        "genres_list"
      ]
    },
    {
      "cell_type": "code",
      "execution_count": null,
      "id": "f7e1291b-4095-4ead-bbc2-7c20f3ecdb4a",
      "metadata": {
        "id": "f7e1291b-4095-4ead-bbc2-7c20f3ecdb4a"
      },
      "outputs": [],
      "source": []
    },
    {
      "cell_type": "markdown",
      "id": "0c58b025-0a5c-4017-86ca-1921ac7164a7",
      "metadata": {
        "id": "0c58b025-0a5c-4017-86ca-1921ac7164a7"
      },
      "source": [
        "**Only using one category (first category) per film for now for single class classification.**\n",
        "\n",
        "Will also do multi-label classification later"
      ]
    },
    {
      "cell_type": "code",
      "execution_count": null,
      "id": "a9e2d370-bd2f-4eae-848e-ef236024ed02",
      "metadata": {
        "id": "a9e2d370-bd2f-4eae-848e-ef236024ed02",
        "outputId": "32966b25-84a2-413c-8b7d-108344d92ab1"
      },
      "outputs": [
        {
          "data": {
            "text/plain": [
              "(15149, 9)"
            ]
          },
          "execution_count": 10,
          "metadata": {},
          "output_type": "execute_result"
        }
      ],
      "source": [
        "genre_list = []\n",
        "indices_to_drop = []\n",
        "\n",
        "for idx, genres in enumerate(df.Genres.to_list()):\n",
        "  genres_list = eval(genres)\n",
        "  if len(genres_list) != 0 and len(genres_list[0]) != 0:\n",
        "    genre_list.append(genres_list[0])\n",
        "  else:\n",
        "    indices_to_drop.append(idx)\n",
        "\n",
        "df = df.drop(indices_to_drop).reset_index(drop=True)\n",
        "df.shape"
      ]
    },
    {
      "cell_type": "code",
      "execution_count": null,
      "id": "97071b44-1fb5-438e-a81d-cfebb0adb4f7",
      "metadata": {
        "id": "97071b44-1fb5-438e-a81d-cfebb0adb4f7"
      },
      "outputs": [],
      "source": [
        "# genre_list"
      ]
    },
    {
      "cell_type": "code",
      "execution_count": null,
      "id": "e885b0bb-80ce-44ea-b1ac-5301e858823e",
      "metadata": {
        "id": "e885b0bb-80ce-44ea-b1ac-5301e858823e",
        "outputId": "1be82dad-d789-42f8-a54d-b31823b64cf0"
      },
      "outputs": [
        {
          "name": "stdout",
          "output_type": "stream",
          "text": [
            "15149\n",
            "\n",
            "5\n"
          ]
        }
      ],
      "source": [
        "print(len(genre_list))\n",
        "print()\n",
        "print(len(indices_to_drop))"
      ]
    },
    {
      "cell_type": "code",
      "execution_count": null,
      "id": "913236cf-5b65-4137-be0b-7af9c6031d22",
      "metadata": {
        "id": "913236cf-5b65-4137-be0b-7af9c6031d22"
      },
      "outputs": [],
      "source": [
        "df['Genre'] = genre_list"
      ]
    },
    {
      "cell_type": "code",
      "execution_count": null,
      "id": "f4eb1261-206a-47fb-8233-dbee6ed87c1c",
      "metadata": {
        "id": "f4eb1261-206a-47fb-8233-dbee6ed87c1c",
        "outputId": "aa8c4077-a48a-4b79-9974-af0110a0f195"
      },
      "outputs": [
        {
          "data": {
            "text/plain": [
              "Genre\n",
              "Comedy         3837\n",
              "Drama          3470\n",
              "Action         2437\n",
              "Documentary    1353\n",
              "Crime          1199\n",
              "Biography       825\n",
              "Adventure       632\n",
              "Animation       605\n",
              "Horror          526\n",
              "Fantasy          63\n",
              "Reality-TV       48\n",
              "Thriller         34\n",
              "Mystery          33\n",
              "Game-Show        20\n",
              "Sci-Fi           14\n",
              "Romance          11\n",
              "Family           10\n",
              "Musical           7\n",
              "Unknown           6\n",
              "Music             5\n",
              "Western           4\n",
              "Film-Noir         4\n",
              "Talk-Show         2\n",
              "War               1\n",
              "History           1\n",
              "Sport             1\n",
              "News              1\n",
              "Name: count, dtype: int64"
            ]
          },
          "execution_count": 14,
          "metadata": {},
          "output_type": "execute_result"
        }
      ],
      "source": [
        "df['Genre'].value_counts()"
      ]
    },
    {
      "cell_type": "code",
      "execution_count": null,
      "id": "99908e7e-0efc-458e-957b-3bab48bf3c33",
      "metadata": {
        "id": "99908e7e-0efc-458e-957b-3bab48bf3c33"
      },
      "outputs": [],
      "source": []
    },
    {
      "cell_type": "code",
      "execution_count": null,
      "id": "9cd5b51c-bdc4-481b-a067-618272930187",
      "metadata": {
        "id": "9cd5b51c-bdc4-481b-a067-618272930187"
      },
      "outputs": [],
      "source": [
        "# df"
      ]
    },
    {
      "cell_type": "code",
      "execution_count": null,
      "id": "ca77eb76-0a39-4701-8da2-bffff003ae65",
      "metadata": {
        "id": "ca77eb76-0a39-4701-8da2-bffff003ae65"
      },
      "outputs": [],
      "source": []
    },
    {
      "cell_type": "markdown",
      "id": "f81b6caf-99e0-43e7-8ce5-95189e8167e4",
      "metadata": {
        "id": "f81b6caf-99e0-43e7-8ce5-95189e8167e4"
      },
      "source": [
        "# Removing rare genres\n",
        "\n",
        "Rare genres are the genres that has less than 1% frequency in the entire genre count"
      ]
    },
    {
      "cell_type": "code",
      "execution_count": null,
      "id": "259c178c-e8be-413b-a7fd-4bd73ac16b6b",
      "metadata": {
        "id": "259c178c-e8be-413b-a7fd-4bd73ac16b6b"
      },
      "outputs": [],
      "source": []
    },
    {
      "cell_type": "markdown",
      "id": "6ab5466f-fb15-4b5f-9da3-f0773b581861",
      "metadata": {
        "id": "6ab5466f-fb15-4b5f-9da3-f0773b581861"
      },
      "source": [
        "**Searching for rare genre names**"
      ]
    },
    {
      "cell_type": "code",
      "execution_count": null,
      "id": "4c7885ef-f1ff-471f-8b20-6d7f1346591b",
      "metadata": {
        "id": "4c7885ef-f1ff-471f-8b20-6d7f1346591b",
        "outputId": "96861642-1e3c-479b-c0fc-623eeac89e21"
      },
      "outputs": [
        {
          "data": {
            "text/plain": [
              "(18, ['Fantasy', 'Reality-TV', 'Thriller', 'Mystery', 'Game-Show'])"
            ]
          },
          "execution_count": 16,
          "metadata": {},
          "output_type": "execute_result"
        }
      ],
      "source": [
        "genre_count = df['Genre'].value_counts()\n",
        "threshold = int(len(df) * 0.01)\n",
        "rare_genres = [ cat for cat, count in genre_count.items() if count < threshold]\n",
        "len(rare_genres), rare_genres[:5]"
      ]
    },
    {
      "cell_type": "markdown",
      "id": "824089c0-6cee-42cf-b63b-6aa97d48ebd0",
      "metadata": {
        "id": "824089c0-6cee-42cf-b63b-6aa97d48ebd0"
      },
      "source": [
        "**Filtering out rare genre names**"
      ]
    },
    {
      "cell_type": "code",
      "execution_count": null,
      "id": "ecfb0afe-74bc-4144-be96-34c224141eb1",
      "metadata": {
        "id": "ecfb0afe-74bc-4144-be96-34c224141eb1",
        "outputId": "4466f7f7-6d37-412b-f19c-efc262d2c942"
      },
      "outputs": [
        {
          "data": {
            "text/plain": [
              "265"
            ]
          },
          "execution_count": 17,
          "metadata": {},
          "output_type": "execute_result"
        }
      ],
      "source": [
        "rare_indices_to_drop = [idx for idx, row in df.iterrows() if row['Genre'] in rare_genres]\n",
        "len(rare_indices_to_drop)"
      ]
    },
    {
      "cell_type": "code",
      "execution_count": null,
      "id": "fa385ed8-9fe1-4a4a-9ca4-3aeb6c8d4ba4",
      "metadata": {
        "id": "fa385ed8-9fe1-4a4a-9ca4-3aeb6c8d4ba4",
        "outputId": "42b16d36-eb98-41d6-c994-71bfd6fc6e38"
      },
      "outputs": [
        {
          "data": {
            "text/plain": [
              "(14884, 10)"
            ]
          },
          "execution_count": 18,
          "metadata": {},
          "output_type": "execute_result"
        }
      ],
      "source": [
        "df = df.drop(rare_indices_to_drop).reset_index(drop=True)\n",
        "df.shape"
      ]
    },
    {
      "cell_type": "code",
      "execution_count": null,
      "id": "7bed4bcb-cd96-4840-b8e1-117707d5882f",
      "metadata": {
        "id": "7bed4bcb-cd96-4840-b8e1-117707d5882f",
        "outputId": "9170cae1-f417-46e1-da2c-2f7dd041af13"
      },
      "outputs": [
        {
          "data": {
            "text/plain": [
              "Genre\n",
              "Comedy         3837\n",
              "Drama          3470\n",
              "Action         2437\n",
              "Documentary    1353\n",
              "Crime          1199\n",
              "Biography       825\n",
              "Adventure       632\n",
              "Animation       605\n",
              "Horror          526\n",
              "Name: count, dtype: int64"
            ]
          },
          "execution_count": 19,
          "metadata": {},
          "output_type": "execute_result"
        }
      ],
      "source": [
        "df['Genre'].value_counts()"
      ]
    },
    {
      "cell_type": "code",
      "execution_count": null,
      "id": "27b860aa-7da9-470b-a4a2-0bd59d3ee55c",
      "metadata": {
        "id": "27b860aa-7da9-470b-a4a2-0bd59d3ee55c",
        "outputId": "4cb09012-a133-48a9-ce5c-75d18a0a1813"
      },
      "outputs": [
        {
          "data": {
            "text/plain": [
              "9"
            ]
          },
          "execution_count": 20,
          "metadata": {},
          "output_type": "execute_result"
        }
      ],
      "source": [
        "len(df['Genre'].value_counts())"
      ]
    },
    {
      "cell_type": "code",
      "execution_count": null,
      "id": "30b39ef6-ac11-4475-a417-fd87d4d7aeb6",
      "metadata": {
        "id": "30b39ef6-ac11-4475-a417-fd87d4d7aeb6",
        "outputId": "9fb953ba-db7d-4434-d607-50d93ee62179"
      },
      "outputs": [
        {
          "data": {
            "text/html": [
              "<div>\n",
              "<style scoped>\n",
              "    .dataframe tbody tr th:only-of-type {\n",
              "        vertical-align: middle;\n",
              "    }\n",
              "\n",
              "    .dataframe tbody tr th {\n",
              "        vertical-align: top;\n",
              "    }\n",
              "\n",
              "    .dataframe thead th {\n",
              "        text-align: right;\n",
              "    }\n",
              "</style>\n",
              "<table border=\"1\" class=\"dataframe\">\n",
              "  <thead>\n",
              "    <tr style=\"text-align: right;\">\n",
              "      <th></th>\n",
              "      <th>Title</th>\n",
              "      <th>Category</th>\n",
              "      <th>Url</th>\n",
              "      <th>Plot_summary</th>\n",
              "      <th>Genres</th>\n",
              "      <th>Genre</th>\n",
              "    </tr>\n",
              "  </thead>\n",
              "  <tbody>\n",
              "    <tr>\n",
              "      <th>count</th>\n",
              "      <td>14884</td>\n",
              "      <td>14884</td>\n",
              "      <td>14884</td>\n",
              "      <td>14884</td>\n",
              "      <td>14884</td>\n",
              "      <td>14884</td>\n",
              "    </tr>\n",
              "    <tr>\n",
              "      <th>unique</th>\n",
              "      <td>14253</td>\n",
              "      <td>2</td>\n",
              "      <td>14824</td>\n",
              "      <td>14822</td>\n",
              "      <td>1746</td>\n",
              "      <td>9</td>\n",
              "    </tr>\n",
              "    <tr>\n",
              "      <th>top</th>\n",
              "      <td>Robin Hood</td>\n",
              "      <td>movie</td>\n",
              "      <td>https://www.metacritic.com/movie/the-professionals/</td>\n",
              "      <td>Val, a hard-working live-in housekeeper in modern day Sao Paulo, is perfectly content to take care of every one of her wealthy employers’ needs, from cooking and cleaning to being a surrogate mother to their teenage son, who she has raised since he was a toddler. But when Val’s estranged daughter Jessica suddenly shows up the unspoken bu...</td>\n",
              "      <td>['Drama']</td>\n",
              "      <td>Comedy</td>\n",
              "    </tr>\n",
              "    <tr>\n",
              "      <th>freq</th>\n",
              "      <td>4</td>\n",
              "      <td>12403</td>\n",
              "      <td>2</td>\n",
              "      <td>2</td>\n",
              "      <td>1063</td>\n",
              "      <td>3837</td>\n",
              "    </tr>\n",
              "  </tbody>\n",
              "</table>\n",
              "</div>"
            ],
            "text/plain": [
              "             Title Category  \\\n",
              "count        14884    14884   \n",
              "unique       14253        2   \n",
              "top     Robin Hood    movie   \n",
              "freq             4    12403   \n",
              "\n",
              "                                                        Url  \\\n",
              "count                                                 14884   \n",
              "unique                                                14824   \n",
              "top     https://www.metacritic.com/movie/the-professionals/   \n",
              "freq                                                      2   \n",
              "\n",
              "                                                                                                                                                                                                                                                                                                                                                  Plot_summary  \\\n",
              "count                                                                                                                                                                                                                                                                                                                                                    14884   \n",
              "unique                                                                                                                                                                                                                                                                                                                                                   14822   \n",
              "top     Val, a hard-working live-in housekeeper in modern day Sao Paulo, is perfectly content to take care of every one of her wealthy employers’ needs, from cooking and cleaning to being a surrogate mother to their teenage son, who she has raised since he was a toddler. But when Val’s estranged daughter Jessica suddenly shows up the unspoken bu...   \n",
              "freq                                                                                                                                                                                                                                                                                                                                                         2   \n",
              "\n",
              "           Genres   Genre  \n",
              "count       14884   14884  \n",
              "unique       1746       9  \n",
              "top     ['Drama']  Comedy  \n",
              "freq         1063    3837  "
            ]
          },
          "execution_count": 21,
          "metadata": {},
          "output_type": "execute_result"
        }
      ],
      "source": [
        "df.describe(include='object')"
      ]
    },
    {
      "cell_type": "code",
      "execution_count": null,
      "id": "75ebad5d-89ba-4d57-bd5a-d021da0d48ee",
      "metadata": {
        "id": "75ebad5d-89ba-4d57-bd5a-d021da0d48ee",
        "outputId": "dfe04dfb-422d-4c81-d747-6aec6fbad406"
      },
      "outputs": [
        {
          "data": {
            "text/html": [
              "<div>\n",
              "<style scoped>\n",
              "    .dataframe tbody tr th:only-of-type {\n",
              "        vertical-align: middle;\n",
              "    }\n",
              "\n",
              "    .dataframe tbody tr th {\n",
              "        vertical-align: top;\n",
              "    }\n",
              "\n",
              "    .dataframe thead th {\n",
              "        text-align: right;\n",
              "    }\n",
              "</style>\n",
              "<table border=\"1\" class=\"dataframe\">\n",
              "  <thead>\n",
              "    <tr style=\"text-align: right;\">\n",
              "      <th></th>\n",
              "      <th>Title</th>\n",
              "      <th>Category</th>\n",
              "      <th>Url</th>\n",
              "      <th>Metascore</th>\n",
              "      <th>Number_of_critic_reviewers</th>\n",
              "      <th>User_score</th>\n",
              "      <th>Number_of_user_reviewers</th>\n",
              "      <th>Plot_summary</th>\n",
              "      <th>Genres</th>\n",
              "      <th>Genre</th>\n",
              "    </tr>\n",
              "  </thead>\n",
              "  <tbody>\n",
              "    <tr>\n",
              "      <th>0</th>\n",
              "      <td>Dekalog (1988)</td>\n",
              "      <td>movie</td>\n",
              "      <td>https://www.metacritic.com/movie/dekalog-1988/</td>\n",
              "      <td>100</td>\n",
              "      <td>13</td>\n",
              "      <td>100</td>\n",
              "      <td>112</td>\n",
              "      <td>This masterwork by Krzysztof Kieślowski is one of the twentieth century’s greatest achievements in visual storytelling. Originally made for Polish television, Dekalog focuses on the residents of a housing complex in late-Communist Poland, whose lives become subtly intertwined as they face emotional dilemmas that are at once deeply person...</td>\n",
              "      <td>['Drama']</td>\n",
              "      <td>Drama</td>\n",
              "    </tr>\n",
              "    <tr>\n",
              "      <th>1</th>\n",
              "      <td>The Godfather</td>\n",
              "      <td>movie</td>\n",
              "      <td>https://www.metacritic.com/movie/the-godfather/</td>\n",
              "      <td>100</td>\n",
              "      <td>16</td>\n",
              "      <td>100</td>\n",
              "      <td>4082</td>\n",
              "      <td>Francis Ford Coppola's epic features Marlon Brando in his Oscar-winning role as the patriarch of the Corleone family. Director Coppola paints a chilling portrait of the Sicilian clan's rise and near fall from power in America, masterfully balancing the story between the Corleone's family life and the ugly crime business in which they are...</td>\n",
              "      <td>['Crime', 'Drama']</td>\n",
              "      <td>Crime</td>\n",
              "    </tr>\n",
              "    <tr>\n",
              "      <th>2</th>\n",
              "      <td>Lawrence of Arabia (re-release)</td>\n",
              "      <td>movie</td>\n",
              "      <td>https://www.metacritic.com/movie/lawrence-of-arabia-re-release/</td>\n",
              "      <td>100</td>\n",
              "      <td>8</td>\n",
              "      <td>100</td>\n",
              "      <td>442</td>\n",
              "      <td>The 40th anniversary re-release of David Lean's 1962 masterpiece, starring Peter O'Toole in one of the most electrifying debuts in film history.</td>\n",
              "      <td>['Adventure', 'Biography', 'Drama', 'War']</td>\n",
              "      <td>Adventure</td>\n",
              "    </tr>\n",
              "    <tr>\n",
              "      <th>3</th>\n",
              "      <td>The Leopard (re-release)</td>\n",
              "      <td>movie</td>\n",
              "      <td>https://www.metacritic.com/movie/the-leopard-re-release/</td>\n",
              "      <td>100</td>\n",
              "      <td>12</td>\n",
              "      <td>100</td>\n",
              "      <td>84</td>\n",
              "      <td>Set in Sicily in 1860, Luchino Visconti's spectacular 1963 adaptation of Giuseppe di Lampedusa's international bestseller is one of the cinema's greatest evocations of the past, achingly depicting the passing of an ancient order. (Film Forum)</td>\n",
              "      <td>['Drama', 'History']</td>\n",
              "      <td>Drama</td>\n",
              "    </tr>\n",
              "    <tr>\n",
              "      <th>4</th>\n",
              "      <td>The Conformist</td>\n",
              "      <td>movie</td>\n",
              "      <td>https://www.metacritic.com/movie/the-conformist-re-release/</td>\n",
              "      <td>100</td>\n",
              "      <td>11</td>\n",
              "      <td>100</td>\n",
              "      <td>105</td>\n",
              "      <td>Set in Rome in the 1930s, this re-release of Bernardo Bertolucci's 1970 breakthrough feature stars Jean-Louis Trintignant as a Mussolini operative sent to Paris to locate and eliminate an old professor who fled Italy when the fascists came to power.</td>\n",
              "      <td>['Drama']</td>\n",
              "      <td>Drama</td>\n",
              "    </tr>\n",
              "  </tbody>\n",
              "</table>\n",
              "</div>"
            ],
            "text/plain": [
              "                             Title Category  \\\n",
              "0                   Dekalog (1988)    movie   \n",
              "1                    The Godfather    movie   \n",
              "2  Lawrence of Arabia (re-release)    movie   \n",
              "3         The Leopard (re-release)    movie   \n",
              "4                   The Conformist    movie   \n",
              "\n",
              "                                                               Url  Metascore  \\\n",
              "0                   https://www.metacritic.com/movie/dekalog-1988/        100   \n",
              "1                  https://www.metacritic.com/movie/the-godfather/        100   \n",
              "2  https://www.metacritic.com/movie/lawrence-of-arabia-re-release/        100   \n",
              "3         https://www.metacritic.com/movie/the-leopard-re-release/        100   \n",
              "4      https://www.metacritic.com/movie/the-conformist-re-release/        100   \n",
              "\n",
              "   Number_of_critic_reviewers  User_score  Number_of_user_reviewers  \\\n",
              "0                          13         100                       112   \n",
              "1                          16         100                      4082   \n",
              "2                           8         100                       442   \n",
              "3                          12         100                        84   \n",
              "4                          11         100                       105   \n",
              "\n",
              "                                                                                                                                                                                                                                                                                                                                             Plot_summary  \\\n",
              "0  This masterwork by Krzysztof Kieślowski is one of the twentieth century’s greatest achievements in visual storytelling. Originally made for Polish television, Dekalog focuses on the residents of a housing complex in late-Communist Poland, whose lives become subtly intertwined as they face emotional dilemmas that are at once deeply person...   \n",
              "1  Francis Ford Coppola's epic features Marlon Brando in his Oscar-winning role as the patriarch of the Corleone family. Director Coppola paints a chilling portrait of the Sicilian clan's rise and near fall from power in America, masterfully balancing the story between the Corleone's family life and the ugly crime business in which they are...   \n",
              "2                                                                                                                                                                                                        The 40th anniversary re-release of David Lean's 1962 masterpiece, starring Peter O'Toole in one of the most electrifying debuts in film history.   \n",
              "3                                                                                                      Set in Sicily in 1860, Luchino Visconti's spectacular 1963 adaptation of Giuseppe di Lampedusa's international bestseller is one of the cinema's greatest evocations of the past, achingly depicting the passing of an ancient order. (Film Forum)   \n",
              "4                                                                                               Set in Rome in the 1930s, this re-release of Bernardo Bertolucci's 1970 breakthrough feature stars Jean-Louis Trintignant as a Mussolini operative sent to Paris to locate and eliminate an old professor who fled Italy when the fascists came to power.   \n",
              "\n",
              "                                       Genres      Genre  \n",
              "0                                   ['Drama']      Drama  \n",
              "1                          ['Crime', 'Drama']      Crime  \n",
              "2  ['Adventure', 'Biography', 'Drama', 'War']  Adventure  \n",
              "3                        ['Drama', 'History']      Drama  \n",
              "4                                   ['Drama']      Drama  "
            ]
          },
          "execution_count": 22,
          "metadata": {},
          "output_type": "execute_result"
        }
      ],
      "source": [
        "df.head()"
      ]
    },
    {
      "cell_type": "code",
      "execution_count": null,
      "id": "5429bb0b-319b-4601-8731-e8af9629de06",
      "metadata": {
        "id": "5429bb0b-319b-4601-8731-e8af9629de06"
      },
      "outputs": [],
      "source": []
    },
    {
      "cell_type": "markdown",
      "id": "b86ebed1-b302-4bbc-8375-9b37602275d6",
      "metadata": {
        "id": "b86ebed1-b302-4bbc-8375-9b37602275d6"
      },
      "source": [
        "# **2. DataLoaders**"
      ]
    },
    {
      "cell_type": "code",
      "execution_count": null,
      "id": "2bd426c7-9307-4e8f-8937-cb97260e1592",
      "metadata": {
        "id": "2bd426c7-9307-4e8f-8937-cb97260e1592",
        "outputId": "6d5ddf4f-b6a6-45c1-c630-8a7f0a8e410d"
      },
      "outputs": [
        {
          "data": {
            "text/html": [
              "<hr/>\n",
              "<h3>RandomSplitter</h3>\n",
              "<blockquote><pre><code>RandomSplitter(valid_pct=0.2, seed=None)</code></pre></blockquote><p><i>Create function that splits `items` between train/val with `valid_pct` randomly.</i></p>\n",
              "<p><a href=\"https://docs.fast.ai/data.transforms.html#randomsplitter\" target=\"_blank\" rel=\"noreferrer noopener\">Show in docs</a></p>"
            ],
            "text/plain": [
              "<IPython.core.display.HTML object>"
            ]
          },
          "metadata": {},
          "output_type": "display_data"
        }
      ],
      "source": [
        "doc(RandomSplitter)"
      ]
    },
    {
      "cell_type": "code",
      "execution_count": null,
      "id": "594ff60d-c28c-457f-8336-29015cbe44a6",
      "metadata": {
        "id": "594ff60d-c28c-457f-8336-29015cbe44a6",
        "outputId": "77b91114-d3c2-42ea-c75a-35a9f1b6e68c"
      },
      "outputs": [
        {
          "name": "stdout",
          "output_type": "stream",
          "text": [
            "Due to IPython and Windows limitation, python multiprocessing isn't available now.\n",
            "So `n_workers` has to be changed to 0 to avoid getting stuck\n"
          ]
        }
      ],
      "source": [
        "dls = TextDataLoaders.from_df(df,\n",
        "                              text_col = 'Plot_summary',\n",
        "                              label_col = 'Genre',\n",
        "                              bs = 16,\n",
        "                              seq_len = 512,\n",
        "                              splitter = RandomSplitter(valid_pct=0.1, seed=42))"
      ]
    },
    {
      "cell_type": "code",
      "execution_count": null,
      "id": "6feddc54-67c5-48c3-b112-5bbdc2726202",
      "metadata": {
        "id": "6feddc54-67c5-48c3-b112-5bbdc2726202"
      },
      "outputs": [],
      "source": [
        "# dls.vocab[0]"
      ]
    },
    {
      "cell_type": "code",
      "execution_count": null,
      "id": "75d257c7-60fb-4c39-9822-7d23f70dae75",
      "metadata": {
        "id": "75d257c7-60fb-4c39-9822-7d23f70dae75",
        "outputId": "9a189c14-1381-4c0b-99e9-30bffd48d996"
      },
      "outputs": [
        {
          "data": {
            "text/plain": [
              "['Action', 'Adventure', 'Animation', 'Biography', 'Comedy', 'Crime', 'Documentary', 'Drama', 'Horror']"
            ]
          },
          "execution_count": 26,
          "metadata": {},
          "output_type": "execute_result"
        }
      ],
      "source": [
        "dls.vocab[1]"
      ]
    },
    {
      "cell_type": "code",
      "execution_count": null,
      "id": "14d65ff9-8d1b-4dc3-94fb-d551594c44c7",
      "metadata": {
        "id": "14d65ff9-8d1b-4dc3-94fb-d551594c44c7",
        "outputId": "146c7a32-4ce9-4c19-e9ca-17c6209e6bfe"
      },
      "outputs": [
        {
          "data": {
            "text/html": [
              "<table border=\"1\" class=\"dataframe\">\n",
              "  <thead>\n",
              "    <tr style=\"text-align: right;\">\n",
              "      <th></th>\n",
              "      <th>text</th>\n",
              "      <th>category</th>\n",
              "    </tr>\n",
              "  </thead>\n",
              "  <tbody>\n",
              "    <tr>\n",
              "      <th>0</th>\n",
              "      <td>xxbos xxmaj the night shift at xxmaj san xxmaj antonio xxmaj memorial includes manager xxmaj michael xxmaj xxunk ( freddy xxmaj rodriguez ) , xxmaj afghanistan vet xxmaj dr . xxup xxunk xxmaj callahan ( xxunk xxmaj xxunk ) , xxmaj dr . xxmaj jordan xxmaj alexander ( jill xxmaj flint ) , xxmaj dr . xxmaj xxunk xxmaj xxunk ( ken xxmaj leung ) , xxmaj dr . xxmaj drew xxmaj xxunk ( brendan xxmaj fehr ) , xxmaj dr . xxmaj landry de la xxmaj cruz ( xxunk xxmaj alonso ) , resident xxmaj paul xxmaj cummings ( robert xxmaj bailey xxmaj jr . ) , nurse xxmaj kenny ( jr xxmaj xxunk …</td>\n",
              "      <td>Drama</td>\n",
              "    </tr>\n",
              "    <tr>\n",
              "      <th>1</th>\n",
              "      <td>xxbos xxmaj set five years after xxmaj xxunk 3 , xxmaj xxunk with xxmaj sharks return to endanger xxmaj fin ( ian xxmaj ziering ) and the rest of the world . xxmaj xxunk xxunk include xxmaj david xxmaj xxunk , xxmaj shark xxmaj tank 's xxmaj lori xxmaj xxunk and xxmaj robert xxmaj xxunk ; xxmaj dancing xxmaj with the xxmaj stars ' xxmaj kym xxmaj johnson ; xxmaj motley xxmaj xxunk 's xxmaj vince xxmaj neil , xxmaj wayne xxmaj newton , xxmaj xxunk 's xxmaj xxunk xxmaj lee xxmaj xxunk and xxmaj alexandra xxmaj paul , and xxmaj dr . d …</td>\n",
              "      <td>Action</td>\n",
              "    </tr>\n",
              "    <tr>\n",
              "      <th>2</th>\n",
              "      <td>xxbos xxmaj rock of xxmaj ages tells the story of small town girl xxmaj xxunk and city boy xxmaj drew , who meet on the xxmaj sunset xxmaj strip while pursuing their xxmaj hollywood dreams . xxmaj their rock ' n ' roll romance is told through the heart - pounding hits of xxmaj xxunk xxmaj xxunk , xxmaj joan xxmaj jett , xxmaj journey , xxmaj xxunk , xxmaj bon xxmaj jovi , xxmaj night xxmaj ranger , xxup xxunk xxmaj xxunk , xxmaj pat xxmaj xxunk , xxmaj twisted xxmaj sister , xxmaj poison , xxmaj xxunk …</td>\n",
              "      <td>Comedy</td>\n",
              "    </tr>\n",
              "  </tbody>\n",
              "</table>"
            ],
            "text/plain": [
              "<IPython.core.display.HTML object>"
            ]
          },
          "metadata": {},
          "output_type": "display_data"
        }
      ],
      "source": [
        "dls.show_batch(max_n=3)"
      ]
    },
    {
      "cell_type": "code",
      "execution_count": null,
      "id": "1507f9bc-cb9b-4057-92ee-22edf38fd77f",
      "metadata": {
        "id": "1507f9bc-cb9b-4057-92ee-22edf38fd77f"
      },
      "outputs": [],
      "source": [
        "torch.save(dls, \"dataloaders/dls_single_class_text_classification.pkl\")"
      ]
    },
    {
      "cell_type": "code",
      "execution_count": null,
      "id": "4ca12bef-bbd3-4a73-8e37-8885fe5be69a",
      "metadata": {
        "id": "4ca12bef-bbd3-4a73-8e37-8885fe5be69a"
      },
      "outputs": [],
      "source": [
        "# dls = torch.load(\"dataloaders/dls_single_class_text_classification.pkl\")"
      ]
    },
    {
      "cell_type": "code",
      "execution_count": null,
      "id": "8bdec2df-0821-42a1-89f4-17c83d4973af",
      "metadata": {
        "id": "8bdec2df-0821-42a1-89f4-17c83d4973af"
      },
      "outputs": [],
      "source": []
    },
    {
      "cell_type": "markdown",
      "id": "e8167e7a-bee9-478d-a461-f3772e7196cf",
      "metadata": {
        "id": "e8167e7a-bee9-478d-a461-f3772e7196cf"
      },
      "source": [
        "# **3. Language Modeling**"
      ]
    },
    {
      "cell_type": "code",
      "execution_count": null,
      "id": "a47df137-284c-4fc8-9c55-d99e496d0388",
      "metadata": {
        "id": "a47df137-284c-4fc8-9c55-d99e496d0388",
        "outputId": "b81fbc40-31c2-4bd2-eb29-a502a95a3b89"
      },
      "outputs": [
        {
          "data": {
            "text/html": [
              "<hr/>\n",
              "<h3>text_classifier_learner</h3>\n",
              "<blockquote><pre><code>text_classifier_learner(dls, arch, seq_len=72, config=None, backwards=False, pretrained=True, drop_mult=0.5, n_out=None, lin_ftrs=None, ps=None, max_len=1440, y_range=None, loss_func:callable|None=None, opt_func:Optimizer|OptimWrapper=<function Adam>, lr:float|slice=0.001, splitter:callable=<function trainable_params>, cbs:Callback|MutableSequence|None=None, metrics:callable|MutableSequence|None=None, path:str|Path|None=None, model_dir:str|Path='models', wd:float|int|None=None, wd_bn_bias:bool=False, train_bn:bool=True, moms:tuple=(0.95, 0.85, 0.95), default_cbs:bool=True)</code></pre></blockquote><p><i>Create a `Learner` with a text classifier from `dls` and `arch`.</i></p>\n",
              "<p><a href=\"https://docs.fast.ai/text.learner.html#text_classifier_learner\" target=\"_blank\" rel=\"noreferrer noopener\">Show in docs</a></p>"
            ],
            "text/plain": [
              "<IPython.core.display.HTML object>"
            ]
          },
          "metadata": {},
          "output_type": "display_data"
        }
      ],
      "source": [
        "doc(text_classifier_learner)"
      ]
    },
    {
      "cell_type": "code",
      "execution_count": null,
      "id": "1df7df60-e862-4c11-8a75-6af2166ec5aa",
      "metadata": {
        "id": "1df7df60-e862-4c11-8a75-6af2166ec5aa"
      },
      "outputs": [],
      "source": [
        "learner = text_classifier_learner(dls,\n",
        "                                AWD_LSTM,\n",
        "                                drop_mult=0.5,\n",
        "                                metrics=[accuracy, Perplexity()]).to_fp16()"
      ]
    },
    {
      "cell_type": "code",
      "execution_count": null,
      "id": "7a515a13-d93e-4d93-92b3-c54be16fe617",
      "metadata": {
        "id": "7a515a13-d93e-4d93-92b3-c54be16fe617",
        "outputId": "18fc024c-3ba1-421d-8fbe-370f97d5e061"
      },
      "outputs": [
        {
          "data": {
            "text/plain": [
              "SequentialRNN(\n",
              "  (0): SentenceEncoder(\n",
              "    (module): AWD_LSTM(\n",
              "      (encoder): Embedding(15808, 400, padding_idx=1)\n",
              "      (encoder_dp): EmbeddingDropout(\n",
              "        (emb): Embedding(15808, 400, padding_idx=1)\n",
              "      )\n",
              "      (rnns): ModuleList(\n",
              "        (0): WeightDropout(\n",
              "          (module): LSTM(400, 1152, batch_first=True)\n",
              "        )\n",
              "        (1): WeightDropout(\n",
              "          (module): LSTM(1152, 1152, batch_first=True)\n",
              "        )\n",
              "        (2): WeightDropout(\n",
              "          (module): LSTM(1152, 400, batch_first=True)\n",
              "        )\n",
              "      )\n",
              "      (input_dp): RNNDropout()\n",
              "      (hidden_dps): ModuleList(\n",
              "        (0-2): 3 x RNNDropout()\n",
              "      )\n",
              "    )\n",
              "  )\n",
              "  (1): PoolingLinearClassifier(\n",
              "    (layers): Sequential(\n",
              "      (0): LinBnDrop(\n",
              "        (0): BatchNorm1d(1200, eps=1e-05, momentum=0.1, affine=True, track_running_stats=True)\n",
              "        (1): Dropout(p=0.2, inplace=False)\n",
              "        (2): Linear(in_features=1200, out_features=50, bias=False)\n",
              "        (3): ReLU(inplace=True)\n",
              "      )\n",
              "      (1): LinBnDrop(\n",
              "        (0): BatchNorm1d(50, eps=1e-05, momentum=0.1, affine=True, track_running_stats=True)\n",
              "        (1): Dropout(p=0.1, inplace=False)\n",
              "        (2): Linear(in_features=50, out_features=9, bias=False)\n",
              "      )\n",
              "    )\n",
              "  )\n",
              ")"
            ]
          },
          "execution_count": 32,
          "metadata": {},
          "output_type": "execute_result"
        }
      ],
      "source": [
        "learner.model"
      ]
    },
    {
      "cell_type": "code",
      "execution_count": null,
      "id": "fdd2ff57-c93b-4ea6-b4f7-80483a5eebd8",
      "metadata": {
        "id": "fdd2ff57-c93b-4ea6-b4f7-80483a5eebd8"
      },
      "outputs": [],
      "source": [
        "learner = learner.load_encoder(f\"lm-encoder-finetuned-with-earlyStopping\")"
      ]
    },
    {
      "cell_type": "code",
      "execution_count": null,
      "id": "6784e61f-1e04-4466-b448-669b5c734ea4",
      "metadata": {
        "id": "6784e61f-1e04-4466-b448-669b5c734ea4"
      },
      "outputs": [],
      "source": []
    },
    {
      "cell_type": "markdown",
      "id": "8497fe88-3ed5-4c82-a83c-2908f3c5a3a8",
      "metadata": {
        "id": "8497fe88-3ed5-4c82-a83c-2908f3c5a3a8"
      },
      "source": [
        "**Stage - 0**|"
      ]
    },
    {
      "cell_type": "code",
      "execution_count": null,
      "id": "936ea38b-bd1f-44b2-9f9d-e545206f722d",
      "metadata": {
        "id": "936ea38b-bd1f-44b2-9f9d-e545206f722d"
      },
      "outputs": [],
      "source": [
        "learner.freeze()"
      ]
    },
    {
      "cell_type": "code",
      "execution_count": null,
      "id": "444b7aeb-4de5-42ac-a996-95c1eaf7432f",
      "metadata": {
        "id": "444b7aeb-4de5-42ac-a996-95c1eaf7432f",
        "outputId": "ddd24b2c-b86c-4f51-de45-2c907a1fb304"
      },
      "outputs": [
        {
          "data": {
            "text/html": [
              "\n",
              "<style>\n",
              "    /* Turns off some styling */\n",
              "    progress {\n",
              "        /* gets rid of default border in Firefox and Opera. */\n",
              "        border: none;\n",
              "        /* Needs to be in here for Safari polyfill so background images work as expected. */\n",
              "        background-size: auto;\n",
              "    }\n",
              "    progress:not([value]), progress:not([value])::-webkit-progress-bar {\n",
              "        background: repeating-linear-gradient(45deg, #7e7e7e, #7e7e7e 10px, #5c5c5c 10px, #5c5c5c 20px);\n",
              "    }\n",
              "    .progress-bar-interrupted, .progress-bar-interrupted::-webkit-progress-bar {\n",
              "        background: #F44336;\n",
              "    }\n",
              "</style>\n"
            ],
            "text/plain": [
              "<IPython.core.display.HTML object>"
            ]
          },
          "metadata": {},
          "output_type": "display_data"
        },
        {
          "data": {
            "text/html": [],
            "text/plain": [
              "<IPython.core.display.HTML object>"
            ]
          },
          "metadata": {},
          "output_type": "display_data"
        },
        {
          "name": "stdout",
          "output_type": "stream",
          "text": [
            "Suggested learning rate (slide): 0.010964781977236271\n",
            "Suggested learning rate (valley): 0.0012022644514217973\n",
            "Average learning rate: 0.006083523214329034\n",
            "Suggested ALR: 6.08e-3\n"
          ]
        },
        {
          "data": {
            "image/png": "[encoded data removed]",
            "text/plain": [
              "<Figure size 640x480 with 1 Axes>"
            ]
          },
          "metadata": {},
          "output_type": "display_data"
        }
      ],
      "source": [
        "lr_min, lr_steep = learner.lr_find(suggest_funcs=(\n",
        "    slide, # suggests a learning rate based on the point where the loss starts to decrease most steeply\n",
        "    valley # suggests a learning rate based on the point where the loss reaches its lowest value before increasing again\n",
        "))\n",
        "\n",
        "print(f\"Suggested learning rate (slide): {lr_min}\")\n",
        "print(f\"Suggested learning rate (valley): {lr_steep}\")\n",
        "average_lr = (lr_min + lr_steep) / 2\n",
        "print(f\"Average learning rate: {average_lr}\")\n",
        "sugg_alr = round((average_lr*1000),2)\n",
        "print(f\"Suggested ALR: {sugg_alr}e-3\")"
      ]
    },
    {
      "cell_type": "code",
      "execution_count": null,
      "id": "15b722c3-0b00-417f-9de0-bcedbea74dcc",
      "metadata": {
        "id": "15b722c3-0b00-417f-9de0-bcedbea74dcc",
        "outputId": "d23656b1-ab47-4c32-96b9-4284936e5349"
      },
      "outputs": [
        {
          "data": {
            "text/html": [
              "\n",
              "<style>\n",
              "    /* Turns off some styling */\n",
              "    progress {\n",
              "        /* gets rid of default border in Firefox and Opera. */\n",
              "        border: none;\n",
              "        /* Needs to be in here for Safari polyfill so background images work as expected. */\n",
              "        background-size: auto;\n",
              "    }\n",
              "    progress:not([value]), progress:not([value])::-webkit-progress-bar {\n",
              "        background: repeating-linear-gradient(45deg, #7e7e7e, #7e7e7e 10px, #5c5c5c 10px, #5c5c5c 20px);\n",
              "    }\n",
              "    .progress-bar-interrupted, .progress-bar-interrupted::-webkit-progress-bar {\n",
              "        background: #F44336;\n",
              "    }\n",
              "</style>\n"
            ],
            "text/plain": [
              "<IPython.core.display.HTML object>"
            ]
          },
          "metadata": {},
          "output_type": "display_data"
        },
        {
          "data": {
            "text/html": [
              "<table border=\"1\" class=\"dataframe\">\n",
              "  <thead>\n",
              "    <tr style=\"text-align: left;\">\n",
              "      <th>epoch</th>\n",
              "      <th>train_loss</th>\n",
              "      <th>valid_loss</th>\n",
              "      <th>accuracy</th>\n",
              "      <th>perplexity</th>\n",
              "      <th>time</th>\n",
              "    </tr>\n",
              "  </thead>\n",
              "  <tbody>\n",
              "    <tr>\n",
              "      <td>0</td>\n",
              "      <td>0.687101</td>\n",
              "      <td>0.505176</td>\n",
              "      <td>0.855511</td>\n",
              "      <td>1.657277</td>\n",
              "      <td>00:19</td>\n",
              "    </tr>\n",
              "  </tbody>\n",
              "</table>"
            ],
            "text/plain": [
              "<IPython.core.display.HTML object>"
            ]
          },
          "metadata": {},
          "output_type": "display_data"
        }
      ],
      "source": [
        "learner.fit_one_cycle(n_epoch = 1, lr_max = average_lr, cbs=EarlyStoppingCallback(monitor='accuracy', min_delta=0.1, patience=10)) #Takign the average of suggested slide and valley"
      ]
    },
    {
      "cell_type": "code",
      "execution_count": null,
      "id": "16e5a6c6-49cb-4a45-8daf-0777ccb4eae4",
      "metadata": {
        "id": "16e5a6c6-49cb-4a45-8daf-0777ccb4eae4",
        "outputId": "012027a5-fd13-4903-df1a-82c411662c95"
      },
      "outputs": [
        {
          "data": {
            "text/html": [
              "\n",
              "<style>\n",
              "    /* Turns off some styling */\n",
              "    progress {\n",
              "        /* gets rid of default border in Firefox and Opera. */\n",
              "        border: none;\n",
              "        /* Needs to be in here for Safari polyfill so background images work as expected. */\n",
              "        background-size: auto;\n",
              "    }\n",
              "    progress:not([value]), progress:not([value])::-webkit-progress-bar {\n",
              "        background: repeating-linear-gradient(45deg, #7e7e7e, #7e7e7e 10px, #5c5c5c 10px, #5c5c5c 20px);\n",
              "    }\n",
              "    .progress-bar-interrupted, .progress-bar-interrupted::-webkit-progress-bar {\n",
              "        background: #F44336;\n",
              "    }\n",
              "</style>\n"
            ],
            "text/plain": [
              "<IPython.core.display.HTML object>"
            ]
          },
          "metadata": {},
          "output_type": "display_data"
        },
        {
          "data": {
            "text/html": [
              "<table border=\"1\" class=\"dataframe\">\n",
              "  <thead>\n",
              "    <tr style=\"text-align: left;\">\n",
              "      <th>epoch</th>\n",
              "      <th>train_loss</th>\n",
              "      <th>valid_loss</th>\n",
              "      <th>accuracy</th>\n",
              "      <th>perplexity</th>\n",
              "      <th>time</th>\n",
              "    </tr>\n",
              "  </thead>\n",
              "  <tbody>\n",
              "    <tr>\n",
              "      <td>0</td>\n",
              "      <td>0.689519</td>\n",
              "      <td>0.497517</td>\n",
              "      <td>0.855847</td>\n",
              "      <td>1.644633</td>\n",
              "      <td>00:19</td>\n",
              "    </tr>\n",
              "    <tr>\n",
              "      <td>1</td>\n",
              "      <td>0.628829</td>\n",
              "      <td>0.504548</td>\n",
              "      <td>0.852823</td>\n",
              "      <td>1.656237</td>\n",
              "      <td>00:19</td>\n",
              "    </tr>\n",
              "    <tr>\n",
              "      <td>2</td>\n",
              "      <td>0.598400</td>\n",
              "      <td>0.495410</td>\n",
              "      <td>0.858871</td>\n",
              "      <td>1.641171</td>\n",
              "      <td>00:19</td>\n",
              "    </tr>\n",
              "    <tr>\n",
              "      <td>3</td>\n",
              "      <td>0.598792</td>\n",
              "      <td>0.502197</td>\n",
              "      <td>0.852823</td>\n",
              "      <td>1.652347</td>\n",
              "      <td>00:19</td>\n",
              "    </tr>\n",
              "    <tr>\n",
              "      <td>4</td>\n",
              "      <td>0.575865</td>\n",
              "      <td>0.493114</td>\n",
              "      <td>0.854167</td>\n",
              "      <td>1.637408</td>\n",
              "      <td>00:19</td>\n",
              "    </tr>\n",
              "    <tr>\n",
              "      <td>5</td>\n",
              "      <td>0.616117</td>\n",
              "      <td>0.504287</td>\n",
              "      <td>0.855175</td>\n",
              "      <td>1.655805</td>\n",
              "      <td>00:19</td>\n",
              "    </tr>\n",
              "    <tr>\n",
              "      <td>6</td>\n",
              "      <td>0.650787</td>\n",
              "      <td>0.499464</td>\n",
              "      <td>0.853159</td>\n",
              "      <td>1.647838</td>\n",
              "      <td>00:19</td>\n",
              "    </tr>\n",
              "    <tr>\n",
              "      <td>7</td>\n",
              "      <td>0.664287</td>\n",
              "      <td>0.503580</td>\n",
              "      <td>0.852823</td>\n",
              "      <td>1.654635</td>\n",
              "      <td>00:19</td>\n",
              "    </tr>\n",
              "    <tr>\n",
              "      <td>8</td>\n",
              "      <td>0.640835</td>\n",
              "      <td>0.500253</td>\n",
              "      <td>0.853495</td>\n",
              "      <td>1.649138</td>\n",
              "      <td>00:19</td>\n",
              "    </tr>\n",
              "    <tr>\n",
              "      <td>9</td>\n",
              "      <td>0.620132</td>\n",
              "      <td>0.501954</td>\n",
              "      <td>0.856855</td>\n",
              "      <td>1.651946</td>\n",
              "      <td>00:19</td>\n",
              "    </tr>\n",
              "    <tr>\n",
              "      <td>10</td>\n",
              "      <td>0.657092</td>\n",
              "      <td>0.509773</td>\n",
              "      <td>0.855847</td>\n",
              "      <td>1.664913</td>\n",
              "      <td>00:19</td>\n",
              "    </tr>\n",
              "  </tbody>\n",
              "</table>"
            ],
            "text/plain": [
              "<IPython.core.display.HTML object>"
            ]
          },
          "metadata": {},
          "output_type": "display_data"
        },
        {
          "name": "stdout",
          "output_type": "stream",
          "text": [
            "No improvement since epoch 0: early stopping\n"
          ]
        }
      ],
      "source": [
        "learner.fit_one_cycle(n_epoch = 100, lr_max = average_lr, cbs=EarlyStoppingCallback(monitor='accuracy', min_delta=0.1, patience=10)) #Takign the average of suggested slide and valley"
      ]
    },
    {
      "cell_type": "code",
      "execution_count": null,
      "id": "81d569a6-3dc5-4c42-865d-23e4d0aaaabe",
      "metadata": {
        "id": "81d569a6-3dc5-4c42-865d-23e4d0aaaabe",
        "outputId": "49cc61a8-bcd1-4b9a-8e9f-c92c42cb0b3c"
      },
      "outputs": [
        {
          "data": {
            "text/plain": [
              "<Axes: title={'center': 'learning curve'}, xlabel='steps', ylabel='loss'>"
            ]
          },
          "execution_count": 38,
          "metadata": {},
          "output_type": "execute_result"
        },
        {
          "data": {
            "image/png": "[encoded data removed]",
            "text/plain": [
              "<Figure size 640x480 with 1 Axes>"
            ]
          },
          "metadata": {},
          "output_type": "display_data"
        }
      ],
      "source": [
        "learner.recorder.plot_loss()"
      ]
    },
    {
      "cell_type": "code",
      "execution_count": null,
      "id": "a27991a2-b3ce-4cfa-a8c7-ae3e165f7a33",
      "metadata": {
        "id": "a27991a2-b3ce-4cfa-a8c7-ae3e165f7a33",
        "outputId": "331ac075-898d-4b00-f394-e8851a6b47b5"
      },
      "outputs": [
        {
          "data": {
            "text/plain": [
              "Path('models/sctc_lm-stage-0.pth')"
            ]
          },
          "execution_count": 39,
          "metadata": {},
          "output_type": "execute_result"
        }
      ],
      "source": [
        "learner.save(f\"sctc_lm-stage-0\")"
      ]
    },
    {
      "cell_type": "code",
      "source": [
        "torch.save(dls, \"models/dls_single_class_text_classification_sctc_lm-stage-0.pkl\")"
      ],
      "metadata": {
        "id": "HESgWZcKauPp"
      },
      "id": "HESgWZcKauPp",
      "execution_count": null,
      "outputs": []
    },
    {
      "cell_type": "code",
      "execution_count": null,
      "id": "07e1564e-10cd-454c-82f7-beb246952c18",
      "metadata": {
        "id": "07e1564e-10cd-454c-82f7-beb246952c18"
      },
      "outputs": [],
      "source": []
    },
    {
      "cell_type": "markdown",
      "id": "27a67c2e-14a4-4c57-94a6-40312298cf4e",
      "metadata": {
        "id": "27a67c2e-14a4-4c57-94a6-40312298cf4e"
      },
      "source": [
        "**Stage - 1**"
      ]
    },
    {
      "cell_type": "code",
      "execution_count": null,
      "id": "74fd0187-04e1-4933-8d39-c6d4ed7d1f53",
      "metadata": {
        "id": "74fd0187-04e1-4933-8d39-c6d4ed7d1f53"
      },
      "outputs": [],
      "source": [
        "# learner.load(f\"sctc_lm-stage-0\")"
      ]
    },
    {
      "cell_type": "code",
      "execution_count": null,
      "id": "a2631647-8782-4a81-bb65-ab469f7f9650",
      "metadata": {
        "id": "a2631647-8782-4a81-bb65-ab469f7f9650"
      },
      "outputs": [],
      "source": [
        "learner.freeze_to(-2)"
      ]
    },
    {
      "cell_type": "code",
      "execution_count": null,
      "id": "8567c9b7-da19-4176-b794-c3c0c122b0d7",
      "metadata": {
        "id": "8567c9b7-da19-4176-b794-c3c0c122b0d7",
        "outputId": "1a7e799f-a425-473d-ef44-65c11379269f"
      },
      "outputs": [
        {
          "data": {
            "text/html": [
              "\n",
              "<style>\n",
              "    /* Turns off some styling */\n",
              "    progress {\n",
              "        /* gets rid of default border in Firefox and Opera. */\n",
              "        border: none;\n",
              "        /* Needs to be in here for Safari polyfill so background images work as expected. */\n",
              "        background-size: auto;\n",
              "    }\n",
              "    progress:not([value]), progress:not([value])::-webkit-progress-bar {\n",
              "        background: repeating-linear-gradient(45deg, #7e7e7e, #7e7e7e 10px, #5c5c5c 10px, #5c5c5c 20px);\n",
              "    }\n",
              "    .progress-bar-interrupted, .progress-bar-interrupted::-webkit-progress-bar {\n",
              "        background: #F44336;\n",
              "    }\n",
              "</style>\n"
            ],
            "text/plain": [
              "<IPython.core.display.HTML object>"
            ]
          },
          "metadata": {},
          "output_type": "display_data"
        },
        {
          "data": {
            "text/html": [],
            "text/plain": [
              "<IPython.core.display.HTML object>"
            ]
          },
          "metadata": {},
          "output_type": "display_data"
        },
        {
          "name": "stdout",
          "output_type": "stream",
          "text": [
            "Suggested learning rate (slide): 0.010964781977236271\n",
            "Suggested learning rate (valley): 0.0005754399462603033\n",
            "Average learning rate: 0.005770110961748287\n",
            "Suggested ALR: 5.77e-3\n"
          ]
        },
        {
          "data": {
            "image/png": "[encoded data removed]",
            "text/plain": [
              "<Figure size 640x480 with 1 Axes>"
            ]
          },
          "metadata": {},
          "output_type": "display_data"
        }
      ],
      "source": [
        "lr_min, lr_steep = learner.lr_find(suggest_funcs=(\n",
        "    slide, # suggests a learning rate based on the point where the loss starts to decrease most steeply\n",
        "    valley # suggests a learning rate based on the point where the loss reaches its lowest value before increasing again\n",
        "))\n",
        "\n",
        "print(f\"Suggested learning rate (slide): {lr_min}\")\n",
        "print(f\"Suggested learning rate (valley): {lr_steep}\")\n",
        "average_lr = (lr_min + lr_steep) / 2\n",
        "print(f\"Average learning rate: {average_lr}\")\n",
        "sugg_alr = round((average_lr*1000),2)\n",
        "print(f\"Suggested ALR: {sugg_alr}e-3\")"
      ]
    },
    {
      "cell_type": "code",
      "execution_count": null,
      "id": "f7dd647f-26ba-4863-8f11-4c60dee8b3ff",
      "metadata": {
        "id": "f7dd647f-26ba-4863-8f11-4c60dee8b3ff",
        "outputId": "b987122a-2567-42f1-a5bc-e6df219ba90a"
      },
      "outputs": [
        {
          "data": {
            "text/html": [
              "\n",
              "<style>\n",
              "    /* Turns off some styling */\n",
              "    progress {\n",
              "        /* gets rid of default border in Firefox and Opera. */\n",
              "        border: none;\n",
              "        /* Needs to be in here for Safari polyfill so background images work as expected. */\n",
              "        background-size: auto;\n",
              "    }\n",
              "    progress:not([value]), progress:not([value])::-webkit-progress-bar {\n",
              "        background: repeating-linear-gradient(45deg, #7e7e7e, #7e7e7e 10px, #5c5c5c 10px, #5c5c5c 20px);\n",
              "    }\n",
              "    .progress-bar-interrupted, .progress-bar-interrupted::-webkit-progress-bar {\n",
              "        background: #F44336;\n",
              "    }\n",
              "</style>\n"
            ],
            "text/plain": [
              "<IPython.core.display.HTML object>"
            ]
          },
          "metadata": {},
          "output_type": "display_data"
        },
        {
          "data": {
            "text/html": [
              "<table border=\"1\" class=\"dataframe\">\n",
              "  <thead>\n",
              "    <tr style=\"text-align: left;\">\n",
              "      <th>epoch</th>\n",
              "      <th>train_loss</th>\n",
              "      <th>valid_loss</th>\n",
              "      <th>accuracy</th>\n",
              "      <th>perplexity</th>\n",
              "      <th>time</th>\n",
              "    </tr>\n",
              "  </thead>\n",
              "  <tbody>\n",
              "    <tr>\n",
              "      <td>0</td>\n",
              "      <td>0.580122</td>\n",
              "      <td>0.491520</td>\n",
              "      <td>0.859879</td>\n",
              "      <td>1.634798</td>\n",
              "      <td>00:21</td>\n",
              "    </tr>\n",
              "    <tr>\n",
              "      <td>1</td>\n",
              "      <td>0.593075</td>\n",
              "      <td>0.493898</td>\n",
              "      <td>0.855511</td>\n",
              "      <td>1.638692</td>\n",
              "      <td>00:21</td>\n",
              "    </tr>\n",
              "    <tr>\n",
              "      <td>2</td>\n",
              "      <td>0.579084</td>\n",
              "      <td>0.491289</td>\n",
              "      <td>0.856183</td>\n",
              "      <td>1.634422</td>\n",
              "      <td>00:20</td>\n",
              "    </tr>\n",
              "    <tr>\n",
              "      <td>3</td>\n",
              "      <td>0.587612</td>\n",
              "      <td>0.487601</td>\n",
              "      <td>0.856519</td>\n",
              "      <td>1.628405</td>\n",
              "      <td>00:21</td>\n",
              "    </tr>\n",
              "    <tr>\n",
              "      <td>4</td>\n",
              "      <td>0.605660</td>\n",
              "      <td>0.496677</td>\n",
              "      <td>0.853495</td>\n",
              "      <td>1.643251</td>\n",
              "      <td>00:21</td>\n",
              "    </tr>\n",
              "    <tr>\n",
              "      <td>5</td>\n",
              "      <td>0.579914</td>\n",
              "      <td>0.487784</td>\n",
              "      <td>0.856519</td>\n",
              "      <td>1.628702</td>\n",
              "      <td>00:21</td>\n",
              "    </tr>\n",
              "    <tr>\n",
              "      <td>6</td>\n",
              "      <td>0.541548</td>\n",
              "      <td>0.494009</td>\n",
              "      <td>0.859207</td>\n",
              "      <td>1.638874</td>\n",
              "      <td>00:21</td>\n",
              "    </tr>\n",
              "    <tr>\n",
              "      <td>7</td>\n",
              "      <td>0.563614</td>\n",
              "      <td>0.499035</td>\n",
              "      <td>0.859543</td>\n",
              "      <td>1.647132</td>\n",
              "      <td>00:21</td>\n",
              "    </tr>\n",
              "    <tr>\n",
              "      <td>8</td>\n",
              "      <td>0.566229</td>\n",
              "      <td>0.503093</td>\n",
              "      <td>0.853495</td>\n",
              "      <td>1.653829</td>\n",
              "      <td>00:21</td>\n",
              "    </tr>\n",
              "    <tr>\n",
              "      <td>9</td>\n",
              "      <td>0.613305</td>\n",
              "      <td>0.499532</td>\n",
              "      <td>0.853831</td>\n",
              "      <td>1.647951</td>\n",
              "      <td>00:21</td>\n",
              "    </tr>\n",
              "    <tr>\n",
              "      <td>10</td>\n",
              "      <td>0.562237</td>\n",
              "      <td>0.501239</td>\n",
              "      <td>0.857863</td>\n",
              "      <td>1.650765</td>\n",
              "      <td>00:21</td>\n",
              "    </tr>\n",
              "  </tbody>\n",
              "</table>"
            ],
            "text/plain": [
              "<IPython.core.display.HTML object>"
            ]
          },
          "metadata": {},
          "output_type": "display_data"
        },
        {
          "name": "stdout",
          "output_type": "stream",
          "text": [
            "No improvement since epoch 0: early stopping\n"
          ]
        }
      ],
      "source": [
        "learner.fit_one_cycle(n_epoch = 100, lr_max = slice(lr_min, lr_steep), cbs=EarlyStoppingCallback(monitor='accuracy', min_delta=0.1, patience=10)) #Takign the average of suggested slide and valley"
      ]
    },
    {
      "cell_type": "code",
      "execution_count": null,
      "id": "e7d0a1fe-dbda-4f01-8574-01279a145f1e",
      "metadata": {
        "id": "e7d0a1fe-dbda-4f01-8574-01279a145f1e",
        "outputId": "b4650070-26de-4864-99b0-9d3b239b5802"
      },
      "outputs": [
        {
          "data": {
            "text/plain": [
              "<Axes: title={'center': 'learning curve'}, xlabel='steps', ylabel='loss'>"
            ]
          },
          "execution_count": 44,
          "metadata": {},
          "output_type": "execute_result"
        },
        {
          "data": {
            "image/png": "[encoded data removed]",
            "text/plain": [
              "<Figure size 640x480 with 1 Axes>"
            ]
          },
          "metadata": {},
          "output_type": "display_data"
        }
      ],
      "source": [
        "learner.recorder.plot_loss()"
      ]
    },
    {
      "cell_type": "code",
      "execution_count": null,
      "id": "ea815b25-ee03-4ec9-9385-415bc83a72b5",
      "metadata": {
        "id": "ea815b25-ee03-4ec9-9385-415bc83a72b5",
        "outputId": "61ed00d3-20a6-48b0-d162-31fe21e25325"
      },
      "outputs": [
        {
          "data": {
            "text/plain": [
              "Path('models/sctc_lm-stage-1.pth')"
            ]
          },
          "execution_count": 45,
          "metadata": {},
          "output_type": "execute_result"
        }
      ],
      "source": [
        "learner.save(f\"sctc_lm-stage-1\")"
      ]
    },
    {
      "cell_type": "code",
      "execution_count": null,
      "id": "87f512f5-84c5-47e9-bb4b-f43761a430bf",
      "metadata": {
        "id": "87f512f5-84c5-47e9-bb4b-f43761a430bf"
      },
      "outputs": [],
      "source": [
        "torch.save(dls, \"models/dls_single_class_text_classification_sctc_lm-stage-1.pkl\")"
      ]
    },
    {
      "cell_type": "code",
      "source": [],
      "metadata": {
        "id": "s9vPociMawtZ"
      },
      "id": "s9vPociMawtZ",
      "execution_count": null,
      "outputs": []
    },
    {
      "cell_type": "markdown",
      "id": "af07893b-d8f6-49b2-8127-3a1c35cdbf64",
      "metadata": {
        "id": "af07893b-d8f6-49b2-8127-3a1c35cdbf64"
      },
      "source": [
        "**Stage - 2**"
      ]
    },
    {
      "cell_type": "code",
      "execution_count": null,
      "id": "dda8b627-7224-4952-b5f1-d7485886afac",
      "metadata": {
        "id": "dda8b627-7224-4952-b5f1-d7485886afac"
      },
      "outputs": [],
      "source": [
        "# learner.load(f\"sctc_lm-stage-1\")"
      ]
    },
    {
      "cell_type": "code",
      "execution_count": null,
      "id": "72cc3a37-f697-4e82-89fa-727efcf02229",
      "metadata": {
        "id": "72cc3a37-f697-4e82-89fa-727efcf02229"
      },
      "outputs": [],
      "source": [
        "learner.freeze_to(-3)"
      ]
    },
    {
      "cell_type": "code",
      "execution_count": null,
      "id": "a7fd145f-1c7b-420c-a6db-b320dd6118b2",
      "metadata": {
        "id": "a7fd145f-1c7b-420c-a6db-b320dd6118b2",
        "outputId": "69201d72-4c34-4b45-97b6-470f31a80843"
      },
      "outputs": [
        {
          "data": {
            "text/html": [
              "\n",
              "<style>\n",
              "    /* Turns off some styling */\n",
              "    progress {\n",
              "        /* gets rid of default border in Firefox and Opera. */\n",
              "        border: none;\n",
              "        /* Needs to be in here for Safari polyfill so background images work as expected. */\n",
              "        background-size: auto;\n",
              "    }\n",
              "    progress:not([value]), progress:not([value])::-webkit-progress-bar {\n",
              "        background: repeating-linear-gradient(45deg, #7e7e7e, #7e7e7e 10px, #5c5c5c 10px, #5c5c5c 20px);\n",
              "    }\n",
              "    .progress-bar-interrupted, .progress-bar-interrupted::-webkit-progress-bar {\n",
              "        background: #F44336;\n",
              "    }\n",
              "</style>\n"
            ],
            "text/plain": [
              "<IPython.core.display.HTML object>"
            ]
          },
          "metadata": {},
          "output_type": "display_data"
        },
        {
          "data": {
            "text/html": [],
            "text/plain": [
              "<IPython.core.display.HTML object>"
            ]
          },
          "metadata": {},
          "output_type": "display_data"
        },
        {
          "name": "stdout",
          "output_type": "stream",
          "text": [
            "Suggested learning rate (slide): 0.0006918309954926372\n",
            "Suggested learning rate (valley): 3.630780702224001e-05\n",
            "Average learning rate: 0.0003640694012574386\n",
            "Suggested ALR: 0.36e-3\n"
          ]
        },
        {
          "data": {
            "image/png": "[encoded data removed]",
            "text/plain": [
              "<Figure size 640x480 with 1 Axes>"
            ]
          },
          "metadata": {},
          "output_type": "display_data"
        }
      ],
      "source": [
        "lr_min, lr_steep = learner.lr_find(suggest_funcs=(\n",
        "    slide, # suggests a learning rate based on the point where the loss starts to decrease most steeply\n",
        "    valley # suggests a learning rate based on the point where the loss reaches its lowest value before increasing again\n",
        "))\n",
        "\n",
        "print(f\"Suggested learning rate (slide): {lr_min}\")\n",
        "print(f\"Suggested learning rate (valley): {lr_steep}\")\n",
        "average_lr = (lr_min + lr_steep) / 2\n",
        "print(f\"Average learning rate: {average_lr}\")\n",
        "sugg_alr = round((average_lr*1000),2)\n",
        "print(f\"Suggested ALR: {sugg_alr}e-3\")"
      ]
    },
    {
      "cell_type": "code",
      "execution_count": null,
      "id": "21739dea-7937-4010-8f15-4d22a78cad97",
      "metadata": {
        "id": "21739dea-7937-4010-8f15-4d22a78cad97",
        "outputId": "d45dda8c-9130-489a-f97e-9a1ea2e04f53"
      },
      "outputs": [
        {
          "data": {
            "text/html": [
              "\n",
              "<style>\n",
              "    /* Turns off some styling */\n",
              "    progress {\n",
              "        /* gets rid of default border in Firefox and Opera. */\n",
              "        border: none;\n",
              "        /* Needs to be in here for Safari polyfill so background images work as expected. */\n",
              "        background-size: auto;\n",
              "    }\n",
              "    progress:not([value]), progress:not([value])::-webkit-progress-bar {\n",
              "        background: repeating-linear-gradient(45deg, #7e7e7e, #7e7e7e 10px, #5c5c5c 10px, #5c5c5c 20px);\n",
              "    }\n",
              "    .progress-bar-interrupted, .progress-bar-interrupted::-webkit-progress-bar {\n",
              "        background: #F44336;\n",
              "    }\n",
              "</style>\n"
            ],
            "text/plain": [
              "<IPython.core.display.HTML object>"
            ]
          },
          "metadata": {},
          "output_type": "display_data"
        },
        {
          "data": {
            "text/html": [
              "<table border=\"1\" class=\"dataframe\">\n",
              "  <thead>\n",
              "    <tr style=\"text-align: left;\">\n",
              "      <th>epoch</th>\n",
              "      <th>train_loss</th>\n",
              "      <th>valid_loss</th>\n",
              "      <th>accuracy</th>\n",
              "      <th>perplexity</th>\n",
              "      <th>time</th>\n",
              "    </tr>\n",
              "  </thead>\n",
              "  <tbody>\n",
              "    <tr>\n",
              "      <td>0</td>\n",
              "      <td>0.532324</td>\n",
              "      <td>0.502562</td>\n",
              "      <td>0.857191</td>\n",
              "      <td>1.652951</td>\n",
              "      <td>00:27</td>\n",
              "    </tr>\n",
              "    <tr>\n",
              "      <td>1</td>\n",
              "      <td>0.549340</td>\n",
              "      <td>0.494193</td>\n",
              "      <td>0.859543</td>\n",
              "      <td>1.639174</td>\n",
              "      <td>00:28</td>\n",
              "    </tr>\n",
              "    <tr>\n",
              "      <td>2</td>\n",
              "      <td>0.543409</td>\n",
              "      <td>0.494593</td>\n",
              "      <td>0.862567</td>\n",
              "      <td>1.639831</td>\n",
              "      <td>00:28</td>\n",
              "    </tr>\n",
              "    <tr>\n",
              "      <td>3</td>\n",
              "      <td>0.564304</td>\n",
              "      <td>0.492928</td>\n",
              "      <td>0.860887</td>\n",
              "      <td>1.637103</td>\n",
              "      <td>00:29</td>\n",
              "    </tr>\n",
              "    <tr>\n",
              "      <td>4</td>\n",
              "      <td>0.537835</td>\n",
              "      <td>0.489772</td>\n",
              "      <td>0.861559</td>\n",
              "      <td>1.631944</td>\n",
              "      <td>00:28</td>\n",
              "    </tr>\n",
              "    <tr>\n",
              "      <td>5</td>\n",
              "      <td>0.496488</td>\n",
              "      <td>0.493346</td>\n",
              "      <td>0.859879</td>\n",
              "      <td>1.637787</td>\n",
              "      <td>00:28</td>\n",
              "    </tr>\n",
              "    <tr>\n",
              "      <td>6</td>\n",
              "      <td>0.526380</td>\n",
              "      <td>0.492810</td>\n",
              "      <td>0.859543</td>\n",
              "      <td>1.636909</td>\n",
              "      <td>00:28</td>\n",
              "    </tr>\n",
              "    <tr>\n",
              "      <td>7</td>\n",
              "      <td>0.514410</td>\n",
              "      <td>0.487982</td>\n",
              "      <td>0.861223</td>\n",
              "      <td>1.629026</td>\n",
              "      <td>00:28</td>\n",
              "    </tr>\n",
              "    <tr>\n",
              "      <td>8</td>\n",
              "      <td>0.536183</td>\n",
              "      <td>0.489782</td>\n",
              "      <td>0.862231</td>\n",
              "      <td>1.631960</td>\n",
              "      <td>00:28</td>\n",
              "    </tr>\n",
              "    <tr>\n",
              "      <td>9</td>\n",
              "      <td>0.475815</td>\n",
              "      <td>0.488019</td>\n",
              "      <td>0.862231</td>\n",
              "      <td>1.629086</td>\n",
              "      <td>00:29</td>\n",
              "    </tr>\n",
              "    <tr>\n",
              "      <td>10</td>\n",
              "      <td>0.464559</td>\n",
              "      <td>0.489713</td>\n",
              "      <td>0.859543</td>\n",
              "      <td>1.631849</td>\n",
              "      <td>00:27</td>\n",
              "    </tr>\n",
              "  </tbody>\n",
              "</table>"
            ],
            "text/plain": [
              "<IPython.core.display.HTML object>"
            ]
          },
          "metadata": {},
          "output_type": "display_data"
        },
        {
          "name": "stdout",
          "output_type": "stream",
          "text": [
            "No improvement since epoch 0: early stopping\n"
          ]
        }
      ],
      "source": [
        "learner.fit_one_cycle(n_epoch = 100, lr_max = slice(lr_min, lr_steep), cbs=EarlyStoppingCallback(monitor='accuracy', min_delta=0.1, patience=10)) #Takign the average of suggested slide and valley"
      ]
    },
    {
      "cell_type": "code",
      "execution_count": null,
      "id": "e4536bc3-232b-4cf6-ba29-cdba1a0e1d9d",
      "metadata": {
        "id": "e4536bc3-232b-4cf6-ba29-cdba1a0e1d9d",
        "outputId": "20c8482d-5079-4275-f9d6-56747d1b74aa"
      },
      "outputs": [
        {
          "data": {
            "text/plain": [
              "<Axes: title={'center': 'learning curve'}, xlabel='steps', ylabel='loss'>"
            ]
          },
          "execution_count": 50,
          "metadata": {},
          "output_type": "execute_result"
        },
        {
          "data": {
            "image/png": "[encoded data removed]",
            "text/plain": [
              "<Figure size 640x480 with 1 Axes>"
            ]
          },
          "metadata": {},
          "output_type": "display_data"
        }
      ],
      "source": [
        "learner.recorder.plot_loss()"
      ]
    },
    {
      "cell_type": "code",
      "execution_count": null,
      "id": "0541ee08-7dc2-4d6e-abb3-325aa31ae9c2",
      "metadata": {
        "id": "0541ee08-7dc2-4d6e-abb3-325aa31ae9c2",
        "outputId": "c637722b-ac61-487f-fdfb-99101c4c3e1b"
      },
      "outputs": [
        {
          "data": {
            "text/plain": [
              "Path('models/sctc_lm-stage-2.pth')"
            ]
          },
          "execution_count": 51,
          "metadata": {},
          "output_type": "execute_result"
        }
      ],
      "source": [
        "learner.save(f\"sctc_lm-stage-2\")"
      ]
    },
    {
      "cell_type": "code",
      "source": [
        "torch.save(dls, \"models/dls_single_class_text_classification_sctc_lm-stage-2.pkl\")"
      ],
      "metadata": {
        "id": "v1R97L3payl7"
      },
      "id": "v1R97L3payl7",
      "execution_count": null,
      "outputs": []
    },
    {
      "cell_type": "code",
      "execution_count": null,
      "id": "fcba3fff-8551-46ec-b33f-02563fefbaf3",
      "metadata": {
        "id": "fcba3fff-8551-46ec-b33f-02563fefbaf3"
      },
      "outputs": [],
      "source": []
    },
    {
      "cell_type": "markdown",
      "id": "0f11ad23-625b-4f8c-8d43-e7ca69209fa2",
      "metadata": {
        "id": "0f11ad23-625b-4f8c-8d43-e7ca69209fa2"
      },
      "source": [
        "**Stage - 3**"
      ]
    },
    {
      "cell_type": "code",
      "execution_count": null,
      "id": "1d572648-a2b2-4c0e-bc00-ef4202854f0f",
      "metadata": {
        "id": "1d572648-a2b2-4c0e-bc00-ef4202854f0f"
      },
      "outputs": [],
      "source": [
        "# learner.load(f\"sctc_lm-stage-2\")"
      ]
    },
    {
      "cell_type": "code",
      "execution_count": null,
      "id": "a7bc7b02-3a79-4d58-99c1-a75e71536585",
      "metadata": {
        "id": "a7bc7b02-3a79-4d58-99c1-a75e71536585"
      },
      "outputs": [],
      "source": [
        "learner.unfreeze()"
      ]
    },
    {
      "cell_type": "code",
      "execution_count": null,
      "id": "10ff2c59-fbaa-47a3-984e-4dfba8ed377b",
      "metadata": {
        "id": "10ff2c59-fbaa-47a3-984e-4dfba8ed377b",
        "outputId": "3944e2f2-c393-4a83-9426-424581e598d5"
      },
      "outputs": [
        {
          "data": {
            "text/html": [
              "\n",
              "<style>\n",
              "    /* Turns off some styling */\n",
              "    progress {\n",
              "        /* gets rid of default border in Firefox and Opera. */\n",
              "        border: none;\n",
              "        /* Needs to be in here for Safari polyfill so background images work as expected. */\n",
              "        background-size: auto;\n",
              "    }\n",
              "    progress:not([value]), progress:not([value])::-webkit-progress-bar {\n",
              "        background: repeating-linear-gradient(45deg, #7e7e7e, #7e7e7e 10px, #5c5c5c 10px, #5c5c5c 20px);\n",
              "    }\n",
              "    .progress-bar-interrupted, .progress-bar-interrupted::-webkit-progress-bar {\n",
              "        background: #F44336;\n",
              "    }\n",
              "</style>\n"
            ],
            "text/plain": [
              "<IPython.core.display.HTML object>"
            ]
          },
          "metadata": {},
          "output_type": "display_data"
        },
        {
          "data": {
            "text/html": [],
            "text/plain": [
              "<IPython.core.display.HTML object>"
            ]
          },
          "metadata": {},
          "output_type": "display_data"
        },
        {
          "name": "stdout",
          "output_type": "stream",
          "text": [
            "Suggested learning rate (slide): 0.033113110810518265\n",
            "Suggested learning rate (valley): 0.0010000000474974513\n",
            "Average learning rate: 0.017056555429007858\n",
            "Suggested ALR: 17.06e-3\n"
          ]
        },
        {
          "data": {
            "image/png": "[encoded data removed]",
            "text/plain": [
              "<Figure size 640x480 with 1 Axes>"
            ]
          },
          "metadata": {},
          "output_type": "display_data"
        }
      ],
      "source": [
        "lr_min, lr_steep = learner.lr_find(suggest_funcs=(\n",
        "    slide, # suggests a learning rate based on the point where the loss starts to decrease most steeply\n",
        "    valley # suggests a learning rate based on the point where the loss reaches its lowest value before increasing again\n",
        "))\n",
        "\n",
        "print(f\"Suggested learning rate (slide): {lr_min}\")\n",
        "print(f\"Suggested learning rate (valley): {lr_steep}\")\n",
        "average_lr = (lr_min + lr_steep) / 2\n",
        "print(f\"Average learning rate: {average_lr}\")\n",
        "sugg_alr = round((average_lr*1000),2)\n",
        "print(f\"Suggested ALR: {sugg_alr}e-3\")"
      ]
    },
    {
      "cell_type": "code",
      "execution_count": null,
      "id": "1259405b-c100-411f-bd78-121e75b9b76f",
      "metadata": {
        "id": "1259405b-c100-411f-bd78-121e75b9b76f",
        "outputId": "f73961af-894a-4387-a984-f0a3826446d1"
      },
      "outputs": [
        {
          "data": {
            "text/html": [
              "\n",
              "<style>\n",
              "    /* Turns off some styling */\n",
              "    progress {\n",
              "        /* gets rid of default border in Firefox and Opera. */\n",
              "        border: none;\n",
              "        /* Needs to be in here for Safari polyfill so background images work as expected. */\n",
              "        background-size: auto;\n",
              "    }\n",
              "    progress:not([value]), progress:not([value])::-webkit-progress-bar {\n",
              "        background: repeating-linear-gradient(45deg, #7e7e7e, #7e7e7e 10px, #5c5c5c 10px, #5c5c5c 20px);\n",
              "    }\n",
              "    .progress-bar-interrupted, .progress-bar-interrupted::-webkit-progress-bar {\n",
              "        background: #F44336;\n",
              "    }\n",
              "</style>\n"
            ],
            "text/plain": [
              "<IPython.core.display.HTML object>"
            ]
          },
          "metadata": {},
          "output_type": "display_data"
        },
        {
          "data": {
            "text/html": [
              "<table border=\"1\" class=\"dataframe\">\n",
              "  <thead>\n",
              "    <tr style=\"text-align: left;\">\n",
              "      <th>epoch</th>\n",
              "      <th>train_loss</th>\n",
              "      <th>valid_loss</th>\n",
              "      <th>accuracy</th>\n",
              "      <th>perplexity</th>\n",
              "      <th>time</th>\n",
              "    </tr>\n",
              "  </thead>\n",
              "  <tbody>\n",
              "    <tr>\n",
              "      <td>0</td>\n",
              "      <td>0.515591</td>\n",
              "      <td>0.475024</td>\n",
              "      <td>0.866935</td>\n",
              "      <td>1.608053</td>\n",
              "      <td>00:35</td>\n",
              "    </tr>\n",
              "    <tr>\n",
              "      <td>1</td>\n",
              "      <td>0.453478</td>\n",
              "      <td>0.481951</td>\n",
              "      <td>0.862231</td>\n",
              "      <td>1.619231</td>\n",
              "      <td>00:38</td>\n",
              "    </tr>\n",
              "    <tr>\n",
              "      <td>2</td>\n",
              "      <td>0.378454</td>\n",
              "      <td>0.515346</td>\n",
              "      <td>0.858199</td>\n",
              "      <td>1.674217</td>\n",
              "      <td>00:38</td>\n",
              "    </tr>\n",
              "    <tr>\n",
              "      <td>3</td>\n",
              "      <td>0.297215</td>\n",
              "      <td>0.533267</td>\n",
              "      <td>0.856183</td>\n",
              "      <td>1.704492</td>\n",
              "      <td>00:38</td>\n",
              "    </tr>\n",
              "    <tr>\n",
              "      <td>4</td>\n",
              "      <td>0.312596</td>\n",
              "      <td>0.577676</td>\n",
              "      <td>0.844086</td>\n",
              "      <td>1.781892</td>\n",
              "      <td>00:36</td>\n",
              "    </tr>\n",
              "    <tr>\n",
              "      <td>5</td>\n",
              "      <td>0.340524</td>\n",
              "      <td>0.617480</td>\n",
              "      <td>0.835349</td>\n",
              "      <td>1.854249</td>\n",
              "      <td>00:36</td>\n",
              "    </tr>\n",
              "    <tr>\n",
              "      <td>6</td>\n",
              "      <td>0.385510</td>\n",
              "      <td>0.693441</td>\n",
              "      <td>0.812500</td>\n",
              "      <td>2.000588</td>\n",
              "      <td>00:38</td>\n",
              "    </tr>\n",
              "    <tr>\n",
              "      <td>7</td>\n",
              "      <td>0.384152</td>\n",
              "      <td>0.825774</td>\n",
              "      <td>0.768481</td>\n",
              "      <td>2.283648</td>\n",
              "      <td>00:38</td>\n",
              "    </tr>\n",
              "    <tr>\n",
              "      <td>8</td>\n",
              "      <td>0.544000</td>\n",
              "      <td>1.054869</td>\n",
              "      <td>0.699597</td>\n",
              "      <td>2.871599</td>\n",
              "      <td>00:39</td>\n",
              "    </tr>\n",
              "    <tr>\n",
              "      <td>9</td>\n",
              "      <td>0.788268</td>\n",
              "      <td>1.292348</td>\n",
              "      <td>0.625000</td>\n",
              "      <td>3.641328</td>\n",
              "      <td>00:38</td>\n",
              "    </tr>\n",
              "    <tr>\n",
              "      <td>10</td>\n",
              "      <td>1.193325</td>\n",
              "      <td>2.287412</td>\n",
              "      <td>0.317540</td>\n",
              "      <td>9.849411</td>\n",
              "      <td>00:37</td>\n",
              "    </tr>\n",
              "  </tbody>\n",
              "</table>"
            ],
            "text/plain": [
              "<IPython.core.display.HTML object>"
            ]
          },
          "metadata": {},
          "output_type": "display_data"
        },
        {
          "name": "stdout",
          "output_type": "stream",
          "text": [
            "No improvement since epoch 0: early stopping\n"
          ]
        }
      ],
      "source": [
        "learner.fit_one_cycle(n_epoch = 100, lr_max = slice(lr_min, lr_steep), cbs=EarlyStoppingCallback(monitor='accuracy', min_delta=0.1, patience=10)) #Takign the average of suggested slide and valley"
      ]
    },
    {
      "cell_type": "code",
      "execution_count": null,
      "id": "246a08fc-d482-420b-bfa8-076e6018c138",
      "metadata": {
        "id": "246a08fc-d482-420b-bfa8-076e6018c138",
        "outputId": "0527a1a4-7357-452d-b8e2-fce88d835d24"
      },
      "outputs": [
        {
          "data": {
            "text/plain": [
              "<Axes: title={'center': 'learning curve'}, xlabel='steps', ylabel='loss'>"
            ]
          },
          "execution_count": 56,
          "metadata": {},
          "output_type": "execute_result"
        },
        {
          "data": {
            "image/png": "[encoded data removed]",
            "text/plain": [
              "<Figure size 640x480 with 1 Axes>"
            ]
          },
          "metadata": {},
          "output_type": "display_data"
        }
      ],
      "source": [
        "learner.recorder.plot_loss()"
      ]
    },
    {
      "cell_type": "code",
      "execution_count": null,
      "id": "36cb89cc-2a51-4500-8da2-71c0f1cee2f6",
      "metadata": {
        "id": "36cb89cc-2a51-4500-8da2-71c0f1cee2f6",
        "outputId": "a7e3070a-4b95-4307-802f-6d664d97d07e"
      },
      "outputs": [
        {
          "data": {
            "text/plain": [
              "Path('models/sctc_lm-stage-3.pth')"
            ]
          },
          "execution_count": 57,
          "metadata": {},
          "output_type": "execute_result"
        }
      ],
      "source": [
        "learner.save(f\"sctc_lm-stage-3\")"
      ]
    },
    {
      "cell_type": "code",
      "source": [
        "torch.save(dls, \"models/dls_single_class_text_classification_sctc_lm-stage-3.pkl\")"
      ],
      "metadata": {
        "id": "EgG2D_qqa0Z3"
      },
      "id": "EgG2D_qqa0Z3",
      "execution_count": null,
      "outputs": []
    },
    {
      "cell_type": "code",
      "execution_count": null,
      "id": "e39b2b42-80ee-4541-8104-771237a0d365",
      "metadata": {
        "id": "e39b2b42-80ee-4541-8104-771237a0d365"
      },
      "outputs": [],
      "source": []
    },
    {
      "cell_type": "markdown",
      "id": "ab9b6391-f645-44c0-9694-518394ba8924",
      "metadata": {
        "id": "ab9b6391-f645-44c0-9694-518394ba8924"
      },
      "source": [
        "**4 stage finetuning is the approach taken by [ULMFit Paper](https://arxiv.org/abs/1801.06146)**\n",
        "\n",
        "\n"
      ]
    },
    {
      "cell_type": "code",
      "execution_count": null,
      "id": "29e02ead-2b80-4b9c-9413-f3552c9fe5f2",
      "metadata": {
        "id": "29e02ead-2b80-4b9c-9413-f3552c9fe5f2"
      },
      "outputs": [],
      "source": []
    },
    {
      "cell_type": "code",
      "execution_count": null,
      "id": "22c9a068-23ea-4633-8aee-b9f00ffc1c97",
      "metadata": {
        "id": "22c9a068-23ea-4633-8aee-b9f00ffc1c97"
      },
      "outputs": [],
      "source": []
    },
    {
      "cell_type": "code",
      "execution_count": null,
      "id": "3aeee54d-2404-4242-ab03-2d9b4db95ed8",
      "metadata": {
        "id": "3aeee54d-2404-4242-ab03-2d9b4db95ed8"
      },
      "outputs": [],
      "source": []
    },
    {
      "cell_type": "code",
      "execution_count": null,
      "id": "72b6c54d-2835-4d2f-bda3-78b21afa4f04",
      "metadata": {
        "id": "72b6c54d-2835-4d2f-bda3-78b21afa4f04"
      },
      "outputs": [],
      "source": []
    },
    {
      "cell_type": "code",
      "execution_count": null,
      "id": "a12b5c11-450b-4c13-900c-d480f10e80f9",
      "metadata": {
        "id": "a12b5c11-450b-4c13-900c-d480f10e80f9"
      },
      "outputs": [],
      "source": []
    },
    {
      "cell_type": "code",
      "execution_count": null,
      "id": "c4fed120-51d1-474c-9410-f8f051e9b3e5",
      "metadata": {
        "id": "c4fed120-51d1-474c-9410-f8f051e9b3e5"
      },
      "outputs": [],
      "source": []
    },
    {
      "cell_type": "code",
      "execution_count": null,
      "id": "47d5155a-858f-47cc-953e-05bc63ff3cad",
      "metadata": {
        "id": "47d5155a-858f-47cc-953e-05bc63ff3cad"
      },
      "outputs": [],
      "source": []
    },
    {
      "cell_type": "code",
      "execution_count": null,
      "id": "352b8c8b-320b-46cc-a9fb-10c1716caa55",
      "metadata": {
        "id": "352b8c8b-320b-46cc-a9fb-10c1716caa55"
      },
      "outputs": [],
      "source": []
    }
  ],
  "metadata": {
    "kernelspec": {
      "display_name": "Python 3 (ipykernel)",
      "language": "python",
      "name": "python3"
    },
    "language_info": {
      "codemirror_mode": {
        "name": "ipython",
        "version": 3
      },
      "file_extension": ".py",
      "mimetype": "text/x-python",
      "name": "python",
      "nbconvert_exporter": "python",
      "pygments_lexer": "ipython3",
      "version": "3.10.11"
    },
    "colab": {
      "provenance": []
    }
  },
  "nbformat": 4,
  "nbformat_minor": 5
}